{
 "cells": [
  {
   "cell_type": "markdown",
   "metadata": {},
   "source": [
    "# Universidad del Desarrollo\n",
    "## Magister Data Science - Macroeconomía\n",
    "### Grupo N°2: (Región de los Lagos)\n",
    "* Jose Pedro\n",
    "* Cristian\n",
    "* Paul\n",
    "* Max\n",
    "* Hernan\n",
    "\n",
    "## Calculo Indice Precios al Consumidor"
   ]
  },
  {
   "cell_type": "markdown",
   "metadata": {},
   "source": [
    "**Objetivo**\n",
    "\n",
    "El objetivo de este notebook es el calculo de IPC según el siguiente algoritmo.\n",
    "\n"
   ]
  },
  {
   "cell_type": "markdown",
   "metadata": {},
   "source": [
    "$ \n",
    "\\begin{equation*}\n",
    "IPC_t   = |\\sum_{k=1}^N \\frac{p_i^t}{p_i^0} w_i| * 100\n",
    "\\end{equation*} \n",
    "$"
   ]
  },
  {
   "cell_type": "markdown",
   "metadata": {},
   "source": [
    "Donde:\n",
    "* $ p_i^t $ = Precio del producto i en el momento t\n",
    "* $ p_i^0 $ = Precio del producto 0 en el mes base **(2014/08=100)**\n",
    "* $ w_i   $ = Ponderación del producto i en la canasta\n",
    "* N = Numero de productos"
   ]
  },
  {
   "cell_type": "code",
   "execution_count": 1,
   "metadata": {},
   "outputs": [],
   "source": [
    "import pandas as pd\n",
    "import numpy as np\n",
    "import calendar\n",
    "import datetime\n",
    "\n",
    "%matplotlib inline\n",
    "\n",
    "import seaborn as sns\n",
    "import matplotlib.pyplot as plt\n",
    "plt.style.use('seaborn-whitegrid')\n",
    "import numpy as np"
   ]
  },
  {
   "cell_type": "code",
   "execution_count": 2,
   "metadata": {},
   "outputs": [],
   "source": [
    "base = \"2014-08\""
   ]
  },
  {
   "cell_type": "markdown",
   "metadata": {},
   "source": [
    "### 1. Se cargan el dataset de productos"
   ]
  },
  {
   "cell_type": "code",
   "execution_count": 3,
   "metadata": {},
   "outputs": [],
   "source": [
    "df = pd.read_csv('output/precios_productos.csv')"
   ]
  },
  {
   "cell_type": "code",
   "execution_count": 4,
   "metadata": {},
   "outputs": [
    {
     "data": {
      "text/html": [
       "<div>\n",
       "<style scoped>\n",
       "    .dataframe tbody tr th:only-of-type {\n",
       "        vertical-align: middle;\n",
       "    }\n",
       "\n",
       "    .dataframe tbody tr th {\n",
       "        vertical-align: top;\n",
       "    }\n",
       "\n",
       "    .dataframe thead th {\n",
       "        text-align: right;\n",
       "    }\n",
       "</style>\n",
       "<table border=\"1\" class=\"dataframe\">\n",
       "  <thead>\n",
       "    <tr style=\"text-align: right;\">\n",
       "      <th></th>\n",
       "      <th>Momento</th>\n",
       "      <th>Sector</th>\n",
       "      <th>Producto</th>\n",
       "      <th>Factor</th>\n",
       "    </tr>\n",
       "  </thead>\n",
       "  <tbody>\n",
       "    <tr>\n",
       "      <th>435</th>\n",
       "      <td>2017-12-01</td>\n",
       "      <td>Frutillar</td>\n",
       "      <td>Huevos</td>\n",
       "      <td>0.968516</td>\n",
       "    </tr>\n",
       "    <tr>\n",
       "      <th>537</th>\n",
       "      <td>2015-09-01</td>\n",
       "      <td>Osorno</td>\n",
       "      <td>Pan</td>\n",
       "      <td>0.929605</td>\n",
       "    </tr>\n",
       "    <tr>\n",
       "      <th>848</th>\n",
       "      <td>2016-12-01</td>\n",
       "      <td>Puerto Montt</td>\n",
       "      <td>Lacteos</td>\n",
       "      <td>0.965540</td>\n",
       "    </tr>\n",
       "    <tr>\n",
       "      <th>926</th>\n",
       "      <td>2018-04-01</td>\n",
       "      <td>Llanquihue</td>\n",
       "      <td>Lacteos</td>\n",
       "      <td>0.993576</td>\n",
       "    </tr>\n",
       "    <tr>\n",
       "      <th>948</th>\n",
       "      <td>2014-09-01</td>\n",
       "      <td>Puerto Montt</td>\n",
       "      <td>Frutas</td>\n",
       "      <td>0.744710</td>\n",
       "    </tr>\n",
       "    <tr>\n",
       "      <th>1764</th>\n",
       "      <td>2016-07-01</td>\n",
       "      <td>Puerto Varas</td>\n",
       "      <td>Azucar</td>\n",
       "      <td>1.019829</td>\n",
       "    </tr>\n",
       "    <tr>\n",
       "      <th>987</th>\n",
       "      <td>2015-05-01</td>\n",
       "      <td>Osorno</td>\n",
       "      <td>Frutas</td>\n",
       "      <td>1.015712</td>\n",
       "    </tr>\n",
       "    <tr>\n",
       "      <th>1135</th>\n",
       "      <td>2017-11-01</td>\n",
       "      <td>Frutillar</td>\n",
       "      <td>Frutas</td>\n",
       "      <td>1.028684</td>\n",
       "    </tr>\n",
       "    <tr>\n",
       "      <th>2360</th>\n",
       "      <td>2014-10-01</td>\n",
       "      <td>Frutillar</td>\n",
       "      <td>Aceite</td>\n",
       "      <td>1.059591</td>\n",
       "    </tr>\n",
       "    <tr>\n",
       "      <th>856</th>\n",
       "      <td>2017-02-01</td>\n",
       "      <td>Llanquihue</td>\n",
       "      <td>Lacteos</td>\n",
       "      <td>1.040052</td>\n",
       "    </tr>\n",
       "  </tbody>\n",
       "</table>\n",
       "</div>"
      ],
      "text/plain": [
       "         Momento        Sector Producto    Factor\n",
       "435   2017-12-01     Frutillar   Huevos  0.968516\n",
       "537   2015-09-01        Osorno      Pan  0.929605\n",
       "848   2016-12-01  Puerto Montt  Lacteos  0.965540\n",
       "926   2018-04-01    Llanquihue  Lacteos  0.993576\n",
       "948   2014-09-01  Puerto Montt   Frutas  0.744710\n",
       "1764  2016-07-01  Puerto Varas   Azucar  1.019829\n",
       "987   2015-05-01        Osorno   Frutas  1.015712\n",
       "1135  2017-11-01     Frutillar   Frutas  1.028684\n",
       "2360  2014-10-01     Frutillar   Aceite  1.059591\n",
       "856   2017-02-01    Llanquihue  Lacteos  1.040052"
      ]
     },
     "execution_count": 4,
     "metadata": {},
     "output_type": "execute_result"
    }
   ],
   "source": [
    "df.sample(10)"
   ]
  },
  {
   "cell_type": "code",
   "execution_count": 5,
   "metadata": {},
   "outputs": [
    {
     "data": {
      "text/plain": [
       "Frutillar       517\n",
       "Osorno          517\n",
       "Llanquihue      517\n",
       "Puerto Montt    517\n",
       "Puerto Varas    517\n",
       "Name: Sector, dtype: int64"
      ]
     },
     "execution_count": 5,
     "metadata": {},
     "output_type": "execute_result"
    }
   ],
   "source": [
    "df.Sector.value_counts()"
   ]
  },
  {
   "cell_type": "code",
   "execution_count": 6,
   "metadata": {},
   "outputs": [],
   "source": [
    "df_w = pd.read_csv(\"output/w_ponderados.csv\")"
   ]
  },
  {
   "cell_type": "code",
   "execution_count": 7,
   "metadata": {},
   "outputs": [
    {
     "data": {
      "text/html": [
       "<div>\n",
       "<style scoped>\n",
       "    .dataframe tbody tr th:only-of-type {\n",
       "        vertical-align: middle;\n",
       "    }\n",
       "\n",
       "    .dataframe tbody tr th {\n",
       "        vertical-align: top;\n",
       "    }\n",
       "\n",
       "    .dataframe thead th {\n",
       "        text-align: right;\n",
       "    }\n",
       "</style>\n",
       "<table border=\"1\" class=\"dataframe\">\n",
       "  <thead>\n",
       "    <tr style=\"text-align: right;\">\n",
       "      <th></th>\n",
       "      <th>Producto</th>\n",
       "      <th>Ponderacion</th>\n",
       "      <th>Ponderacion_Nueva</th>\n",
       "    </tr>\n",
       "  </thead>\n",
       "  <tbody>\n",
       "    <tr>\n",
       "      <th>0</th>\n",
       "      <td>Aceite</td>\n",
       "      <td>0.34550</td>\n",
       "      <td>2.587449</td>\n",
       "    </tr>\n",
       "    <tr>\n",
       "      <th>1</th>\n",
       "      <td>Azucar</td>\n",
       "      <td>0.18716</td>\n",
       "      <td>1.401641</td>\n",
       "    </tr>\n",
       "    <tr>\n",
       "      <th>2</th>\n",
       "      <td>Carnes</td>\n",
       "      <td>4.38211</td>\n",
       "      <td>32.817616</td>\n",
       "    </tr>\n",
       "    <tr>\n",
       "      <th>3</th>\n",
       "      <td>Cereales</td>\n",
       "      <td>0.67947</td>\n",
       "      <td>5.088550</td>\n",
       "    </tr>\n",
       "    <tr>\n",
       "      <th>4</th>\n",
       "      <td>Frutas</td>\n",
       "      <td>1.18325</td>\n",
       "      <td>8.861358</td>\n",
       "    </tr>\n",
       "    <tr>\n",
       "      <th>5</th>\n",
       "      <td>Harina</td>\n",
       "      <td>0.09708</td>\n",
       "      <td>0.727032</td>\n",
       "    </tr>\n",
       "    <tr>\n",
       "      <th>6</th>\n",
       "      <td>Hortaliza</td>\n",
       "      <td>1.69038</td>\n",
       "      <td>12.659254</td>\n",
       "    </tr>\n",
       "    <tr>\n",
       "      <th>7</th>\n",
       "      <td>Huevos</td>\n",
       "      <td>0.33391</td>\n",
       "      <td>2.500652</td>\n",
       "    </tr>\n",
       "    <tr>\n",
       "      <th>8</th>\n",
       "      <td>Lacteos</td>\n",
       "      <td>2.22952</td>\n",
       "      <td>16.696872</td>\n",
       "    </tr>\n",
       "    <tr>\n",
       "      <th>9</th>\n",
       "      <td>Legumbre</td>\n",
       "      <td>0.13135</td>\n",
       "      <td>0.983680</td>\n",
       "    </tr>\n",
       "    <tr>\n",
       "      <th>10</th>\n",
       "      <td>Pan</td>\n",
       "      <td>2.09319</td>\n",
       "      <td>15.675897</td>\n",
       "    </tr>\n",
       "  </tbody>\n",
       "</table>\n",
       "</div>"
      ],
      "text/plain": [
       "     Producto  Ponderacion  Ponderacion_Nueva\n",
       "0      Aceite      0.34550           2.587449\n",
       "1      Azucar      0.18716           1.401641\n",
       "2      Carnes      4.38211          32.817616\n",
       "3    Cereales      0.67947           5.088550\n",
       "4      Frutas      1.18325           8.861358\n",
       "5      Harina      0.09708           0.727032\n",
       "6   Hortaliza      1.69038          12.659254\n",
       "7      Huevos      0.33391           2.500652\n",
       "8     Lacteos      2.22952          16.696872\n",
       "9    Legumbre      0.13135           0.983680\n",
       "10        Pan      2.09319          15.675897"
      ]
     },
     "execution_count": 7,
     "metadata": {},
     "output_type": "execute_result"
    }
   ],
   "source": [
    "df_w.head(11)"
   ]
  },
  {
   "cell_type": "markdown",
   "metadata": {},
   "source": [
    "### 2. Calculamos precios base"
   ]
  },
  {
   "cell_type": "code",
   "execution_count": 8,
   "metadata": {},
   "outputs": [],
   "source": [
    "dfp = pd.read_csv(\"output/canasta_ipc.csv\")"
   ]
  },
  {
   "cell_type": "code",
   "execution_count": 9,
   "metadata": {},
   "outputs": [
    {
     "data": {
      "text/html": [
       "<div>\n",
       "<style scoped>\n",
       "    .dataframe tbody tr th:only-of-type {\n",
       "        vertical-align: middle;\n",
       "    }\n",
       "\n",
       "    .dataframe tbody tr th {\n",
       "        vertical-align: top;\n",
       "    }\n",
       "\n",
       "    .dataframe thead th {\n",
       "        text-align: right;\n",
       "    }\n",
       "</style>\n",
       "<table border=\"1\" class=\"dataframe\">\n",
       "  <thead>\n",
       "    <tr style=\"text-align: right;\">\n",
       "      <th></th>\n",
       "      <th>Momento</th>\n",
       "      <th>Sector</th>\n",
       "      <th>Producto</th>\n",
       "      <th>Variedad</th>\n",
       "      <th>Promedio</th>\n",
       "    </tr>\n",
       "  </thead>\n",
       "  <tbody>\n",
       "    <tr>\n",
       "      <th>0</th>\n",
       "      <td>2014-08</td>\n",
       "      <td>Frutillar</td>\n",
       "      <td>Aceite</td>\n",
       "      <td>Maravilla</td>\n",
       "      <td>1807.484158</td>\n",
       "    </tr>\n",
       "    <tr>\n",
       "      <th>1</th>\n",
       "      <td>2014-09</td>\n",
       "      <td>Frutillar</td>\n",
       "      <td>Aceite</td>\n",
       "      <td>Maravilla</td>\n",
       "      <td>1680.222200</td>\n",
       "    </tr>\n",
       "    <tr>\n",
       "      <th>2</th>\n",
       "      <td>2014-10</td>\n",
       "      <td>Frutillar</td>\n",
       "      <td>Aceite</td>\n",
       "      <td>Maravilla</td>\n",
       "      <td>1651.904700</td>\n",
       "    </tr>\n",
       "    <tr>\n",
       "      <th>3</th>\n",
       "      <td>2014-11</td>\n",
       "      <td>Frutillar</td>\n",
       "      <td>Aceite</td>\n",
       "      <td>Maravilla</td>\n",
       "      <td>1807.484158</td>\n",
       "    </tr>\n",
       "    <tr>\n",
       "      <th>4</th>\n",
       "      <td>2014-12</td>\n",
       "      <td>Frutillar</td>\n",
       "      <td>Aceite</td>\n",
       "      <td>Maravilla</td>\n",
       "      <td>1807.484158</td>\n",
       "    </tr>\n",
       "  </tbody>\n",
       "</table>\n",
       "</div>"
      ],
      "text/plain": [
       "   Momento     Sector Producto   Variedad     Promedio\n",
       "0  2014-08  Frutillar   Aceite  Maravilla  1807.484158\n",
       "1  2014-09  Frutillar   Aceite  Maravilla  1680.222200\n",
       "2  2014-10  Frutillar   Aceite  Maravilla  1651.904700\n",
       "3  2014-11  Frutillar   Aceite  Maravilla  1807.484158\n",
       "4  2014-12  Frutillar   Aceite  Maravilla  1807.484158"
      ]
     },
     "execution_count": 9,
     "metadata": {},
     "output_type": "execute_result"
    }
   ],
   "source": [
    "dfp.head()"
   ]
  },
  {
   "cell_type": "code",
   "execution_count": 10,
   "metadata": {},
   "outputs": [],
   "source": [
    "df_pb = dfp[dfp.Momento==base]"
   ]
  },
  {
   "cell_type": "code",
   "execution_count": 11,
   "metadata": {},
   "outputs": [
    {
     "data": {
      "text/html": [
       "<div>\n",
       "<style scoped>\n",
       "    .dataframe tbody tr th:only-of-type {\n",
       "        vertical-align: middle;\n",
       "    }\n",
       "\n",
       "    .dataframe tbody tr th {\n",
       "        vertical-align: top;\n",
       "    }\n",
       "\n",
       "    .dataframe thead th {\n",
       "        text-align: right;\n",
       "    }\n",
       "</style>\n",
       "<table border=\"1\" class=\"dataframe\">\n",
       "  <thead>\n",
       "    <tr style=\"text-align: right;\">\n",
       "      <th></th>\n",
       "      <th>Momento</th>\n",
       "      <th>Sector</th>\n",
       "      <th>Producto</th>\n",
       "      <th>Variedad</th>\n",
       "      <th>Promedio</th>\n",
       "    </tr>\n",
       "  </thead>\n",
       "  <tbody>\n",
       "    <tr>\n",
       "      <th>25968</th>\n",
       "      <td>2014-08</td>\n",
       "      <td>Puerto Montt</td>\n",
       "      <td>Hortaliza</td>\n",
       "      <td>Espinaca</td>\n",
       "      <td>2000.000000</td>\n",
       "    </tr>\n",
       "    <tr>\n",
       "      <th>29788</th>\n",
       "      <td>2014-08</td>\n",
       "      <td>Llanquihue</td>\n",
       "      <td>Hortaliza</td>\n",
       "      <td>Repollo</td>\n",
       "      <td>1193.693171</td>\n",
       "    </tr>\n",
       "    <tr>\n",
       "      <th>25063</th>\n",
       "      <td>2014-08</td>\n",
       "      <td>Osorno</td>\n",
       "      <td>Hortaliza</td>\n",
       "      <td>Choclo</td>\n",
       "      <td>550.000000</td>\n",
       "    </tr>\n",
       "    <tr>\n",
       "      <th>33332</th>\n",
       "      <td>2014-08</td>\n",
       "      <td>Llanquihue</td>\n",
       "      <td>Lacteos</td>\n",
       "      <td>Leche en Polvo Descremada</td>\n",
       "      <td>4091.658812</td>\n",
       "    </tr>\n",
       "    <tr>\n",
       "      <th>14196</th>\n",
       "      <td>2014-08</td>\n",
       "      <td>Osorno</td>\n",
       "      <td>Cereales</td>\n",
       "      <td>Spaghetti N° 5</td>\n",
       "      <td>555.676600</td>\n",
       "    </tr>\n",
       "  </tbody>\n",
       "</table>\n",
       "</div>"
      ],
      "text/plain": [
       "       Momento        Sector   Producto                   Variedad  \\\n",
       "25968  2014-08  Puerto Montt  Hortaliza                   Espinaca   \n",
       "29788  2014-08    Llanquihue  Hortaliza                    Repollo   \n",
       "25063  2014-08        Osorno  Hortaliza                     Choclo   \n",
       "33332  2014-08    Llanquihue    Lacteos  Leche en Polvo Descremada   \n",
       "14196  2014-08        Osorno   Cereales             Spaghetti N° 5   \n",
       "\n",
       "          Promedio  \n",
       "25968  2000.000000  \n",
       "29788  1193.693171  \n",
       "25063   550.000000  \n",
       "33332  4091.658812  \n",
       "14196   555.676600  "
      ]
     },
     "execution_count": 11,
     "metadata": {},
     "output_type": "execute_result"
    }
   ],
   "source": [
    "df_pb.sample(5)"
   ]
  },
  {
   "cell_type": "code",
   "execution_count": 12,
   "metadata": {},
   "outputs": [
    {
     "data": {
      "text/html": [
       "<div>\n",
       "<style scoped>\n",
       "    .dataframe tbody tr th:only-of-type {\n",
       "        vertical-align: middle;\n",
       "    }\n",
       "\n",
       "    .dataframe tbody tr th {\n",
       "        vertical-align: top;\n",
       "    }\n",
       "\n",
       "    .dataframe thead th {\n",
       "        text-align: right;\n",
       "    }\n",
       "</style>\n",
       "<table border=\"1\" class=\"dataframe\">\n",
       "  <thead>\n",
       "    <tr style=\"text-align: right;\">\n",
       "      <th></th>\n",
       "      <th>Promedio</th>\n",
       "    </tr>\n",
       "    <tr>\n",
       "      <th>Producto</th>\n",
       "      <th></th>\n",
       "    </tr>\n",
       "  </thead>\n",
       "  <tbody>\n",
       "    <tr>\n",
       "      <th>Aceite</th>\n",
       "      <td>1550.660213</td>\n",
       "    </tr>\n",
       "    <tr>\n",
       "      <th>Azucar</th>\n",
       "      <td>626.972709</td>\n",
       "    </tr>\n",
       "    <tr>\n",
       "      <th>Carnes</th>\n",
       "      <td>4988.965919</td>\n",
       "    </tr>\n",
       "    <tr>\n",
       "      <th>Cereales</th>\n",
       "      <td>836.436504</td>\n",
       "    </tr>\n",
       "    <tr>\n",
       "      <th>Frutas</th>\n",
       "      <td>1436.414083</td>\n",
       "    </tr>\n",
       "    <tr>\n",
       "      <th>Harina</th>\n",
       "      <td>719.486763</td>\n",
       "    </tr>\n",
       "    <tr>\n",
       "      <th>Hortaliza</th>\n",
       "      <td>916.972072</td>\n",
       "    </tr>\n",
       "    <tr>\n",
       "      <th>Huevos</th>\n",
       "      <td>1844.462405</td>\n",
       "    </tr>\n",
       "    <tr>\n",
       "      <th>Lacteos</th>\n",
       "      <td>3281.595206</td>\n",
       "    </tr>\n",
       "    <tr>\n",
       "      <th>Legumbre</th>\n",
       "      <td>2105.174802</td>\n",
       "    </tr>\n",
       "    <tr>\n",
       "      <th>Pan</th>\n",
       "      <td>1216.912163</td>\n",
       "    </tr>\n",
       "  </tbody>\n",
       "</table>\n",
       "</div>"
      ],
      "text/plain": [
       "              Promedio\n",
       "Producto              \n",
       "Aceite     1550.660213\n",
       "Azucar      626.972709\n",
       "Carnes     4988.965919\n",
       "Cereales    836.436504\n",
       "Frutas     1436.414083\n",
       "Harina      719.486763\n",
       "Hortaliza   916.972072\n",
       "Huevos     1844.462405\n",
       "Lacteos    3281.595206\n",
       "Legumbre   2105.174802\n",
       "Pan        1216.912163"
      ]
     },
     "execution_count": 12,
     "metadata": {},
     "output_type": "execute_result"
    }
   ],
   "source": [
    "pb = df_pb.groupby([\"Producto\"]).mean()\n",
    "pb"
   ]
  },
  {
   "cell_type": "markdown",
   "metadata": {},
   "source": [
    "### 3. Formula del IPC"
   ]
  },
  {
   "cell_type": "code",
   "execution_count": 13,
   "metadata": {},
   "outputs": [],
   "source": [
    "def GetIPC(df, df_base, df_p):\n",
    "    v = []\n",
    "    \n",
    "    group = df.groupby([\"Momento\"])\n",
    "    for name, g in group: \n",
    "        #print(\"name\", name)\n",
    "        \n",
    "        \n",
    "        ipc = 1\n",
    "        for row_num, row in g.iterrows():\n",
    "            \n",
    "            p_0 = df_base.loc[row[\"Producto\"]].iloc[0]\n",
    "            p_j = df[(df.Momento == row[\"Momento\"]) & (df.Producto == row[\"Producto\"])].Factor.iloc[0]\n",
    "\n",
    "            w_i = df_p[df_p.Producto == row[\"Producto\"]][\"Ponderacion_Nueva\"].iloc[0]\n",
    "            \n",
    "            ipc =+ ((p_j/p_0)*w_i)\n",
    "\n",
    "        v.append({\"ipc\": ipc*100, \"Momento\": name})\n",
    "        \n",
    "    return pd.DataFrame(v)"
   ]
  },
  {
   "cell_type": "markdown",
   "metadata": {},
   "source": [
    "### 4. IPC Osorno"
   ]
  },
  {
   "cell_type": "code",
   "execution_count": 14,
   "metadata": {},
   "outputs": [],
   "source": [
    "df_osorno = df[(df.Sector==\"Osorno\") & (df.Momento > base + \"-01\")]"
   ]
  },
  {
   "cell_type": "code",
   "execution_count": 15,
   "metadata": {
    "scrolled": true
   },
   "outputs": [
    {
     "data": {
      "text/plain": [
       "Osorno    506\n",
       "Name: Sector, dtype: int64"
      ]
     },
     "execution_count": 15,
     "metadata": {},
     "output_type": "execute_result"
    }
   ],
   "source": [
    "df_osorno.Sector.value_counts()"
   ]
  },
  {
   "cell_type": "code",
   "execution_count": 16,
   "metadata": {},
   "outputs": [],
   "source": [
    "df_ipc_o = GetIPC(df_osorno, pb, df_w)"
   ]
  },
  {
   "cell_type": "code",
   "execution_count": 17,
   "metadata": {},
   "outputs": [
    {
     "data": {
      "text/html": [
       "<div>\n",
       "<style scoped>\n",
       "    .dataframe tbody tr th:only-of-type {\n",
       "        vertical-align: middle;\n",
       "    }\n",
       "\n",
       "    .dataframe tbody tr th {\n",
       "        vertical-align: top;\n",
       "    }\n",
       "\n",
       "    .dataframe thead th {\n",
       "        text-align: right;\n",
       "    }\n",
       "</style>\n",
       "<table border=\"1\" class=\"dataframe\">\n",
       "  <thead>\n",
       "    <tr style=\"text-align: right;\">\n",
       "      <th></th>\n",
       "      <th>Momento</th>\n",
       "      <th>ipc</th>\n",
       "    </tr>\n",
       "  </thead>\n",
       "  <tbody>\n",
       "    <tr>\n",
       "      <th>0</th>\n",
       "      <td>2014-09-01</td>\n",
       "      <td>0.163939</td>\n",
       "    </tr>\n",
       "    <tr>\n",
       "      <th>1</th>\n",
       "      <td>2014-10-01</td>\n",
       "      <td>0.164969</td>\n",
       "    </tr>\n",
       "    <tr>\n",
       "      <th>2</th>\n",
       "      <td>2014-11-01</td>\n",
       "      <td>0.165208</td>\n",
       "    </tr>\n",
       "    <tr>\n",
       "      <th>3</th>\n",
       "      <td>2014-12-01</td>\n",
       "      <td>0.166851</td>\n",
       "    </tr>\n",
       "    <tr>\n",
       "      <th>4</th>\n",
       "      <td>2015-01-01</td>\n",
       "      <td>0.162385</td>\n",
       "    </tr>\n",
       "  </tbody>\n",
       "</table>\n",
       "</div>"
      ],
      "text/plain": [
       "      Momento       ipc\n",
       "0  2014-09-01  0.163939\n",
       "1  2014-10-01  0.164969\n",
       "2  2014-11-01  0.165208\n",
       "3  2014-12-01  0.166851\n",
       "4  2015-01-01  0.162385"
      ]
     },
     "execution_count": 17,
     "metadata": {},
     "output_type": "execute_result"
    }
   ],
   "source": [
    "df_ipc_o.head()"
   ]
  },
  {
   "cell_type": "code",
   "execution_count": 18,
   "metadata": {},
   "outputs": [
    {
     "data": {
      "text/plain": [
       "<matplotlib.axes._subplots.AxesSubplot at 0x10cffbd68>"
      ]
     },
     "execution_count": 18,
     "metadata": {},
     "output_type": "execute_result"
    },
    {
     "data": {
      "image/png": "[encoded data removed]",
      "text/plain": [
       "<Figure size 1440x432 with 1 Axes>"
      ]
     },
     "metadata": {},
     "output_type": "display_data"
    }
   ],
   "source": [
    "df_ipc_o.plot(kind='bar', figsize=(20, 6), rot=45, x=\"Momento\", ylim=(0.15, 0.185))"
   ]
  },
  {
   "cell_type": "markdown",
   "metadata": {},
   "source": [
    "### 5. IPC Puerto Varas"
   ]
  },
  {
   "cell_type": "code",
   "execution_count": 19,
   "metadata": {},
   "outputs": [],
   "source": [
    "df_pvaras = df[(df.Sector==\"Puerto Varas\") & (df.Momento > base + \"-01\")]"
   ]
  },
  {
   "cell_type": "code",
   "execution_count": 20,
   "metadata": {},
   "outputs": [
    {
     "data": {
      "text/plain": [
       "Puerto Varas    506\n",
       "Name: Sector, dtype: int64"
      ]
     },
     "execution_count": 20,
     "metadata": {},
     "output_type": "execute_result"
    }
   ],
   "source": [
    "df_pvaras.Sector.value_counts()"
   ]
  },
  {
   "cell_type": "code",
   "execution_count": 21,
   "metadata": {},
   "outputs": [],
   "source": [
    "df_ipc_pv = GetIPC(df_pvaras, pb, df_w)"
   ]
  },
  {
   "cell_type": "code",
   "execution_count": 22,
   "metadata": {},
   "outputs": [
    {
     "data": {
      "text/html": [
       "<div>\n",
       "<style scoped>\n",
       "    .dataframe tbody tr th:only-of-type {\n",
       "        vertical-align: middle;\n",
       "    }\n",
       "\n",
       "    .dataframe tbody tr th {\n",
       "        vertical-align: top;\n",
       "    }\n",
       "\n",
       "    .dataframe thead th {\n",
       "        text-align: right;\n",
       "    }\n",
       "</style>\n",
       "<table border=\"1\" class=\"dataframe\">\n",
       "  <thead>\n",
       "    <tr style=\"text-align: right;\">\n",
       "      <th></th>\n",
       "      <th>Momento</th>\n",
       "      <th>ipc</th>\n",
       "    </tr>\n",
       "  </thead>\n",
       "  <tbody>\n",
       "    <tr>\n",
       "      <th>0</th>\n",
       "      <td>2014-09-01</td>\n",
       "      <td>0.158482</td>\n",
       "    </tr>\n",
       "    <tr>\n",
       "      <th>1</th>\n",
       "      <td>2014-10-01</td>\n",
       "      <td>0.167828</td>\n",
       "    </tr>\n",
       "    <tr>\n",
       "      <th>2</th>\n",
       "      <td>2014-11-01</td>\n",
       "      <td>0.163989</td>\n",
       "    </tr>\n",
       "    <tr>\n",
       "      <th>3</th>\n",
       "      <td>2014-12-01</td>\n",
       "      <td>0.169855</td>\n",
       "    </tr>\n",
       "    <tr>\n",
       "      <th>4</th>\n",
       "      <td>2015-01-01</td>\n",
       "      <td>0.161568</td>\n",
       "    </tr>\n",
       "  </tbody>\n",
       "</table>\n",
       "</div>"
      ],
      "text/plain": [
       "      Momento       ipc\n",
       "0  2014-09-01  0.158482\n",
       "1  2014-10-01  0.167828\n",
       "2  2014-11-01  0.163989\n",
       "3  2014-12-01  0.169855\n",
       "4  2015-01-01  0.161568"
      ]
     },
     "execution_count": 22,
     "metadata": {},
     "output_type": "execute_result"
    }
   ],
   "source": [
    "df_ipc_pv.head()"
   ]
  },
  {
   "cell_type": "code",
   "execution_count": 23,
   "metadata": {},
   "outputs": [
    {
     "data": {
      "text/plain": [
       "<matplotlib.axes._subplots.AxesSubplot at 0x10d014588>"
      ]
     },
     "execution_count": 23,
     "metadata": {},
     "output_type": "execute_result"
    },
    {
     "data": {
      "image/png": "[encoded data removed]",
      "text/plain": [
       "<Figure size 1440x432 with 1 Axes>"
      ]
     },
     "metadata": {},
     "output_type": "display_data"
    }
   ],
   "source": [
    "df_ipc_pv.plot(kind='bar', figsize=(20, 6), rot=45, x=\"Momento\", ylim=(0.15, 0.185))"
   ]
  },
  {
   "cell_type": "markdown",
   "metadata": {},
   "source": [
    "### 6. IPC Frutillar "
   ]
  },
  {
   "cell_type": "code",
   "execution_count": 24,
   "metadata": {},
   "outputs": [],
   "source": [
    "df_frutillar = df[(df.Sector==\"Frutillar\") & (df.Momento > base + \"-01\")]"
   ]
  },
  {
   "cell_type": "code",
   "execution_count": 25,
   "metadata": {},
   "outputs": [
    {
     "data": {
      "text/plain": [
       "Frutillar    506\n",
       "Name: Sector, dtype: int64"
      ]
     },
     "execution_count": 25,
     "metadata": {},
     "output_type": "execute_result"
    }
   ],
   "source": [
    "df_frutillar.Sector.value_counts()"
   ]
  },
  {
   "cell_type": "code",
   "execution_count": 26,
   "metadata": {},
   "outputs": [],
   "source": [
    "df_ipc_fru = GetIPC(df_frutillar, pb, df_w)"
   ]
  },
  {
   "cell_type": "code",
   "execution_count": 27,
   "metadata": {},
   "outputs": [
    {
     "data": {
      "text/html": [
       "<div>\n",
       "<style scoped>\n",
       "    .dataframe tbody tr th:only-of-type {\n",
       "        vertical-align: middle;\n",
       "    }\n",
       "\n",
       "    .dataframe tbody tr th {\n",
       "        vertical-align: top;\n",
       "    }\n",
       "\n",
       "    .dataframe thead th {\n",
       "        text-align: right;\n",
       "    }\n",
       "</style>\n",
       "<table border=\"1\" class=\"dataframe\">\n",
       "  <thead>\n",
       "    <tr style=\"text-align: right;\">\n",
       "      <th></th>\n",
       "      <th>Momento</th>\n",
       "      <th>ipc</th>\n",
       "    </tr>\n",
       "  </thead>\n",
       "  <tbody>\n",
       "    <tr>\n",
       "      <th>0</th>\n",
       "      <td>2014-09-01</td>\n",
       "      <td>0.150957</td>\n",
       "    </tr>\n",
       "    <tr>\n",
       "      <th>1</th>\n",
       "      <td>2014-10-01</td>\n",
       "      <td>0.176805</td>\n",
       "    </tr>\n",
       "    <tr>\n",
       "      <th>2</th>\n",
       "      <td>2014-11-01</td>\n",
       "      <td>0.174068</td>\n",
       "    </tr>\n",
       "    <tr>\n",
       "      <th>3</th>\n",
       "      <td>2014-12-01</td>\n",
       "      <td>0.166861</td>\n",
       "    </tr>\n",
       "    <tr>\n",
       "      <th>4</th>\n",
       "      <td>2015-01-01</td>\n",
       "      <td>0.166861</td>\n",
       "    </tr>\n",
       "  </tbody>\n",
       "</table>\n",
       "</div>"
      ],
      "text/plain": [
       "      Momento       ipc\n",
       "0  2014-09-01  0.150957\n",
       "1  2014-10-01  0.176805\n",
       "2  2014-11-01  0.174068\n",
       "3  2014-12-01  0.166861\n",
       "4  2015-01-01  0.166861"
      ]
     },
     "execution_count": 27,
     "metadata": {},
     "output_type": "execute_result"
    }
   ],
   "source": [
    "df_ipc_fru.head()"
   ]
  },
  {
   "cell_type": "code",
   "execution_count": 28,
   "metadata": {},
   "outputs": [
    {
     "data": {
      "text/plain": [
       "<matplotlib.axes._subplots.AxesSubplot at 0x10d1b85c0>"
      ]
     },
     "execution_count": 28,
     "metadata": {},
     "output_type": "execute_result"
    },
    {
     "data": {
      "image/png": "[encoded data removed]",
      "text/plain": [
       "<Figure size 1440x432 with 1 Axes>"
      ]
     },
     "metadata": {},
     "output_type": "display_data"
    }
   ],
   "source": [
    "df_ipc_fru.plot(kind='bar', figsize=(20, 6), rot=45, x=\"Momento\", ylim=(0.10, 0.2))"
   ]
  },
  {
   "cell_type": "markdown",
   "metadata": {},
   "source": [
    "### 7. IPC Llanquihue "
   ]
  },
  {
   "cell_type": "code",
   "execution_count": 29,
   "metadata": {},
   "outputs": [],
   "source": [
    "df_llanquihue = df[(df.Sector==\"Llanquihue\") & (df.Momento > base + \"-01\")]"
   ]
  },
  {
   "cell_type": "code",
   "execution_count": 30,
   "metadata": {},
   "outputs": [
    {
     "data": {
      "text/plain": [
       "Llanquihue    506\n",
       "Name: Sector, dtype: int64"
      ]
     },
     "execution_count": 30,
     "metadata": {},
     "output_type": "execute_result"
    }
   ],
   "source": [
    "df_llanquihue.Sector.value_counts()"
   ]
  },
  {
   "cell_type": "code",
   "execution_count": 31,
   "metadata": {},
   "outputs": [],
   "source": [
    "df_ipc_lla = GetIPC(df_llanquihue, pb, df_w)"
   ]
  },
  {
   "cell_type": "code",
   "execution_count": 32,
   "metadata": {},
   "outputs": [
    {
     "data": {
      "text/html": [
       "<div>\n",
       "<style scoped>\n",
       "    .dataframe tbody tr th:only-of-type {\n",
       "        vertical-align: middle;\n",
       "    }\n",
       "\n",
       "    .dataframe tbody tr th {\n",
       "        vertical-align: top;\n",
       "    }\n",
       "\n",
       "    .dataframe thead th {\n",
       "        text-align: right;\n",
       "    }\n",
       "</style>\n",
       "<table border=\"1\" class=\"dataframe\">\n",
       "  <thead>\n",
       "    <tr style=\"text-align: right;\">\n",
       "      <th></th>\n",
       "      <th>Momento</th>\n",
       "      <th>ipc</th>\n",
       "    </tr>\n",
       "  </thead>\n",
       "  <tbody>\n",
       "    <tr>\n",
       "      <th>0</th>\n",
       "      <td>2014-09-01</td>\n",
       "      <td>0.157679</td>\n",
       "    </tr>\n",
       "    <tr>\n",
       "      <th>1</th>\n",
       "      <td>2014-10-01</td>\n",
       "      <td>0.173846</td>\n",
       "    </tr>\n",
       "    <tr>\n",
       "      <th>2</th>\n",
       "      <td>2014-11-01</td>\n",
       "      <td>0.169483</td>\n",
       "    </tr>\n",
       "    <tr>\n",
       "      <th>3</th>\n",
       "      <td>2014-12-01</td>\n",
       "      <td>0.166861</td>\n",
       "    </tr>\n",
       "    <tr>\n",
       "      <th>4</th>\n",
       "      <td>2015-01-01</td>\n",
       "      <td>0.166861</td>\n",
       "    </tr>\n",
       "  </tbody>\n",
       "</table>\n",
       "</div>"
      ],
      "text/plain": [
       "      Momento       ipc\n",
       "0  2014-09-01  0.157679\n",
       "1  2014-10-01  0.173846\n",
       "2  2014-11-01  0.169483\n",
       "3  2014-12-01  0.166861\n",
       "4  2015-01-01  0.166861"
      ]
     },
     "execution_count": 32,
     "metadata": {},
     "output_type": "execute_result"
    }
   ],
   "source": [
    "df_ipc_lla.head()"
   ]
  },
  {
   "cell_type": "code",
   "execution_count": 33,
   "metadata": {},
   "outputs": [
    {
     "data": {
      "text/plain": [
       "<matplotlib.axes._subplots.AxesSubplot at 0x10de42208>"
      ]
     },
     "execution_count": 33,
     "metadata": {},
     "output_type": "execute_result"
    },
    {
     "data": {
      "image/png": "[encoded data removed]",
      "text/plain": [
       "<Figure size 1440x432 with 1 Axes>"
      ]
     },
     "metadata": {},
     "output_type": "display_data"
    }
   ],
   "source": [
    "df_ipc_lla.plot(kind='bar', figsize=(20, 6), rot=45, x=\"Momento\", ylim=(0.12, 0.2))"
   ]
  },
  {
   "cell_type": "markdown",
   "metadata": {},
   "source": [
    "### 8. IPC Puerto Montt"
   ]
  },
  {
   "cell_type": "code",
   "execution_count": 34,
   "metadata": {},
   "outputs": [],
   "source": [
    "df_pm = df[(df.Sector==\"Puerto Montt\") & (df.Momento > base + \"-01\")]"
   ]
  },
  {
   "cell_type": "code",
   "execution_count": 35,
   "metadata": {},
   "outputs": [
    {
     "data": {
      "text/plain": [
       "Puerto Montt    506\n",
       "Name: Sector, dtype: int64"
      ]
     },
     "execution_count": 35,
     "metadata": {},
     "output_type": "execute_result"
    }
   ],
   "source": [
    "df_pm.Sector.value_counts()"
   ]
  },
  {
   "cell_type": "code",
   "execution_count": 36,
   "metadata": {},
   "outputs": [],
   "source": [
    "df_ipc_pm = GetIPC(df_pm, pb, df_w)"
   ]
  },
  {
   "cell_type": "code",
   "execution_count": 37,
   "metadata": {},
   "outputs": [
    {
     "data": {
      "text/html": [
       "<div>\n",
       "<style scoped>\n",
       "    .dataframe tbody tr th:only-of-type {\n",
       "        vertical-align: middle;\n",
       "    }\n",
       "\n",
       "    .dataframe tbody tr th {\n",
       "        vertical-align: top;\n",
       "    }\n",
       "\n",
       "    .dataframe thead th {\n",
       "        text-align: right;\n",
       "    }\n",
       "</style>\n",
       "<table border=\"1\" class=\"dataframe\">\n",
       "  <thead>\n",
       "    <tr style=\"text-align: right;\">\n",
       "      <th></th>\n",
       "      <th>Momento</th>\n",
       "      <th>ipc</th>\n",
       "    </tr>\n",
       "  </thead>\n",
       "  <tbody>\n",
       "    <tr>\n",
       "      <th>0</th>\n",
       "      <td>2014-09-01</td>\n",
       "      <td>0.169177</td>\n",
       "    </tr>\n",
       "    <tr>\n",
       "      <th>1</th>\n",
       "      <td>2014-10-01</td>\n",
       "      <td>0.168532</td>\n",
       "    </tr>\n",
       "    <tr>\n",
       "      <th>2</th>\n",
       "      <td>2014-11-01</td>\n",
       "      <td>0.159858</td>\n",
       "    </tr>\n",
       "    <tr>\n",
       "      <th>3</th>\n",
       "      <td>2014-12-01</td>\n",
       "      <td>0.168076</td>\n",
       "    </tr>\n",
       "    <tr>\n",
       "      <th>4</th>\n",
       "      <td>2015-01-01</td>\n",
       "      <td>0.163990</td>\n",
       "    </tr>\n",
       "  </tbody>\n",
       "</table>\n",
       "</div>"
      ],
      "text/plain": [
       "      Momento       ipc\n",
       "0  2014-09-01  0.169177\n",
       "1  2014-10-01  0.168532\n",
       "2  2014-11-01  0.159858\n",
       "3  2014-12-01  0.168076\n",
       "4  2015-01-01  0.163990"
      ]
     },
     "execution_count": 37,
     "metadata": {},
     "output_type": "execute_result"
    }
   ],
   "source": [
    "df_ipc_pm.head()"
   ]
  },
  {
   "cell_type": "code",
   "execution_count": 38,
   "metadata": {},
   "outputs": [
    {
     "data": {
      "text/plain": [
       "<matplotlib.axes._subplots.AxesSubplot at 0x111791c88>"
      ]
     },
     "execution_count": 38,
     "metadata": {},
     "output_type": "execute_result"
    },
    {
     "data": {
      "image/png": "[encoded data removed]",
      "text/plain": [
       "<Figure size 1440x432 with 1 Axes>"
      ]
     },
     "metadata": {},
     "output_type": "display_data"
    }
   ],
   "source": [
    "df_ipc_pm.plot(kind='bar', figsize=(20, 6), rot=45, x=\"Momento\", ylim=(0.14, 0.18))"
   ]
  },
  {
   "cell_type": "markdown",
   "metadata": {},
   "source": [
    "### 9 IPC Region de los Lagos"
   ]
  },
  {
   "cell_type": "code",
   "execution_count": 39,
   "metadata": {},
   "outputs": [],
   "source": [
    "df_ipc_r = df_ipc_o\n",
    "df_ipc_r = df_ipc_r.append(df_ipc_fru)\n",
    "df_ipc_r = df_ipc_r.append(df_ipc_lla)\n",
    "df_ipc_r = df_ipc_r.append(df_ipc_pm)\n",
    "df_ipc_r = df_ipc_r.append(df_ipc_pv)"
   ]
  },
  {
   "cell_type": "code",
   "execution_count": 40,
   "metadata": {},
   "outputs": [
    {
     "data": {
      "text/html": [
       "<div>\n",
       "<style scoped>\n",
       "    .dataframe tbody tr th:only-of-type {\n",
       "        vertical-align: middle;\n",
       "    }\n",
       "\n",
       "    .dataframe tbody tr th {\n",
       "        vertical-align: top;\n",
       "    }\n",
       "\n",
       "    .dataframe thead th {\n",
       "        text-align: right;\n",
       "    }\n",
       "</style>\n",
       "<table border=\"1\" class=\"dataframe\">\n",
       "  <thead>\n",
       "    <tr style=\"text-align: right;\">\n",
       "      <th></th>\n",
       "      <th>Momento</th>\n",
       "      <th>ipc</th>\n",
       "    </tr>\n",
       "  </thead>\n",
       "  <tbody>\n",
       "    <tr>\n",
       "      <th>38</th>\n",
       "      <td>2017-11-01</td>\n",
       "      <td>0.169180</td>\n",
       "    </tr>\n",
       "    <tr>\n",
       "      <th>27</th>\n",
       "      <td>2016-12-01</td>\n",
       "      <td>0.174652</td>\n",
       "    </tr>\n",
       "    <tr>\n",
       "      <th>39</th>\n",
       "      <td>2017-12-01</td>\n",
       "      <td>0.163035</td>\n",
       "    </tr>\n",
       "    <tr>\n",
       "      <th>18</th>\n",
       "      <td>2016-03-01</td>\n",
       "      <td>0.169836</td>\n",
       "    </tr>\n",
       "    <tr>\n",
       "      <th>30</th>\n",
       "      <td>2017-03-01</td>\n",
       "      <td>0.161886</td>\n",
       "    </tr>\n",
       "    <tr>\n",
       "      <th>37</th>\n",
       "      <td>2017-10-01</td>\n",
       "      <td>0.169914</td>\n",
       "    </tr>\n",
       "    <tr>\n",
       "      <th>40</th>\n",
       "      <td>2018-01-01</td>\n",
       "      <td>0.169706</td>\n",
       "    </tr>\n",
       "    <tr>\n",
       "      <th>22</th>\n",
       "      <td>2016-07-01</td>\n",
       "      <td>0.168123</td>\n",
       "    </tr>\n",
       "    <tr>\n",
       "      <th>22</th>\n",
       "      <td>2016-07-01</td>\n",
       "      <td>0.175883</td>\n",
       "    </tr>\n",
       "    <tr>\n",
       "      <th>20</th>\n",
       "      <td>2016-05-01</td>\n",
       "      <td>0.167971</td>\n",
       "    </tr>\n",
       "  </tbody>\n",
       "</table>\n",
       "</div>"
      ],
      "text/plain": [
       "       Momento       ipc\n",
       "38  2017-11-01  0.169180\n",
       "27  2016-12-01  0.174652\n",
       "39  2017-12-01  0.163035\n",
       "18  2016-03-01  0.169836\n",
       "30  2017-03-01  0.161886\n",
       "37  2017-10-01  0.169914\n",
       "40  2018-01-01  0.169706\n",
       "22  2016-07-01  0.168123\n",
       "22  2016-07-01  0.175883\n",
       "20  2016-05-01  0.167971"
      ]
     },
     "execution_count": 40,
     "metadata": {},
     "output_type": "execute_result"
    }
   ],
   "source": [
    "df_ipc_r.sample(10)"
   ]
  },
  {
   "cell_type": "code",
   "execution_count": 41,
   "metadata": {},
   "outputs": [],
   "source": [
    "df_ipc_t = df_ipc_r.groupby([\"Momento\"]).mean().reset_index()"
   ]
  },
  {
   "cell_type": "code",
   "execution_count": 42,
   "metadata": {},
   "outputs": [
    {
     "data": {
      "text/plain": [
       "<matplotlib.axes._subplots.AxesSubplot at 0x111b0be48>"
      ]
     },
     "execution_count": 42,
     "metadata": {},
     "output_type": "execute_result"
    },
    {
     "data": {
      "image/png": "[encoded data removed]",
      "text/plain": [
       "<Figure size 1440x432 with 1 Axes>"
      ]
     },
     "metadata": {},
     "output_type": "display_data"
    }
   ],
   "source": [
    "df_ipc_t.plot(kind='bar', figsize=(20, 6), rot=45, x=\"Momento\", ylim=(0.15, 0.175))"
   ]
  },
  {
   "cell_type": "code",
   "execution_count": 43,
   "metadata": {},
   "outputs": [
    {
     "data": {
      "text/html": [
       "<div>\n",
       "<style scoped>\n",
       "    .dataframe tbody tr th:only-of-type {\n",
       "        vertical-align: middle;\n",
       "    }\n",
       "\n",
       "    .dataframe tbody tr th {\n",
       "        vertical-align: top;\n",
       "    }\n",
       "\n",
       "    .dataframe thead th {\n",
       "        text-align: right;\n",
       "    }\n",
       "</style>\n",
       "<table border=\"1\" class=\"dataframe\">\n",
       "  <thead>\n",
       "    <tr style=\"text-align: right;\">\n",
       "      <th></th>\n",
       "      <th>Momento</th>\n",
       "      <th>ipc</th>\n",
       "    </tr>\n",
       "  </thead>\n",
       "  <tbody>\n",
       "    <tr>\n",
       "      <th>0</th>\n",
       "      <td>2014-09-01</td>\n",
       "      <td>0.160047</td>\n",
       "    </tr>\n",
       "    <tr>\n",
       "      <th>1</th>\n",
       "      <td>2014-10-01</td>\n",
       "      <td>0.170396</td>\n",
       "    </tr>\n",
       "    <tr>\n",
       "      <th>2</th>\n",
       "      <td>2014-11-01</td>\n",
       "      <td>0.166521</td>\n",
       "    </tr>\n",
       "    <tr>\n",
       "      <th>3</th>\n",
       "      <td>2014-12-01</td>\n",
       "      <td>0.167701</td>\n",
       "    </tr>\n",
       "    <tr>\n",
       "      <th>4</th>\n",
       "      <td>2015-01-01</td>\n",
       "      <td>0.164333</td>\n",
       "    </tr>\n",
       "  </tbody>\n",
       "</table>\n",
       "</div>"
      ],
      "text/plain": [
       "      Momento       ipc\n",
       "0  2014-09-01  0.160047\n",
       "1  2014-10-01  0.170396\n",
       "2  2014-11-01  0.166521\n",
       "3  2014-12-01  0.167701\n",
       "4  2015-01-01  0.164333"
      ]
     },
     "execution_count": 43,
     "metadata": {},
     "output_type": "execute_result"
    }
   ],
   "source": [
    "df_ipc_t.head()"
   ]
  },
  {
   "cell_type": "code",
   "execution_count": 44,
   "metadata": {},
   "outputs": [],
   "source": [
    "df_ipc_t['ipcAcumulado'] = df_ipc_t.ipc.cumsum()"
   ]
  },
  {
   "cell_type": "code",
   "execution_count": 45,
   "metadata": {},
   "outputs": [
    {
     "data": {
      "text/html": [
       "<div>\n",
       "<style scoped>\n",
       "    .dataframe tbody tr th:only-of-type {\n",
       "        vertical-align: middle;\n",
       "    }\n",
       "\n",
       "    .dataframe tbody tr th {\n",
       "        vertical-align: top;\n",
       "    }\n",
       "\n",
       "    .dataframe thead th {\n",
       "        text-align: right;\n",
       "    }\n",
       "</style>\n",
       "<table border=\"1\" class=\"dataframe\">\n",
       "  <thead>\n",
       "    <tr style=\"text-align: right;\">\n",
       "      <th></th>\n",
       "      <th>Momento</th>\n",
       "      <th>ipc</th>\n",
       "      <th>ipcAcumulado</th>\n",
       "    </tr>\n",
       "  </thead>\n",
       "  <tbody>\n",
       "    <tr>\n",
       "      <th>41</th>\n",
       "      <td>2018-02-01</td>\n",
       "      <td>0.168948</td>\n",
       "      <td>7.021914</td>\n",
       "    </tr>\n",
       "    <tr>\n",
       "      <th>42</th>\n",
       "      <td>2018-03-01</td>\n",
       "      <td>0.165797</td>\n",
       "      <td>7.187711</td>\n",
       "    </tr>\n",
       "    <tr>\n",
       "      <th>43</th>\n",
       "      <td>2018-04-01</td>\n",
       "      <td>0.163001</td>\n",
       "      <td>7.350713</td>\n",
       "    </tr>\n",
       "    <tr>\n",
       "      <th>44</th>\n",
       "      <td>2018-05-01</td>\n",
       "      <td>0.160952</td>\n",
       "      <td>7.511664</td>\n",
       "    </tr>\n",
       "    <tr>\n",
       "      <th>45</th>\n",
       "      <td>2018-06-01</td>\n",
       "      <td>0.170417</td>\n",
       "      <td>7.682081</td>\n",
       "    </tr>\n",
       "  </tbody>\n",
       "</table>\n",
       "</div>"
      ],
      "text/plain": [
       "       Momento       ipc  ipcAcumulado\n",
       "41  2018-02-01  0.168948      7.021914\n",
       "42  2018-03-01  0.165797      7.187711\n",
       "43  2018-04-01  0.163001      7.350713\n",
       "44  2018-05-01  0.160952      7.511664\n",
       "45  2018-06-01  0.170417      7.682081"
      ]
     },
     "execution_count": 45,
     "metadata": {},
     "output_type": "execute_result"
    }
   ],
   "source": [
    "df_ipc_t.tail()"
   ]
  },
  {
   "cell_type": "code",
   "execution_count": 46,
   "metadata": {},
   "outputs": [
    {
     "data": {
      "text/html": [
       "<div>\n",
       "<style scoped>\n",
       "    .dataframe tbody tr th:only-of-type {\n",
       "        vertical-align: middle;\n",
       "    }\n",
       "\n",
       "    .dataframe tbody tr th {\n",
       "        vertical-align: top;\n",
       "    }\n",
       "\n",
       "    .dataframe thead th {\n",
       "        text-align: right;\n",
       "    }\n",
       "</style>\n",
       "<table border=\"1\" class=\"dataframe\">\n",
       "  <thead>\n",
       "    <tr style=\"text-align: right;\">\n",
       "      <th></th>\n",
       "      <th>Momento</th>\n",
       "      <th>ipc</th>\n",
       "      <th>ipcAcumulado</th>\n",
       "    </tr>\n",
       "  </thead>\n",
       "  <tbody>\n",
       "    <tr>\n",
       "      <th>0</th>\n",
       "      <td>2014-09-01</td>\n",
       "      <td>0.160047</td>\n",
       "      <td>0.160047</td>\n",
       "    </tr>\n",
       "    <tr>\n",
       "      <th>1</th>\n",
       "      <td>2014-10-01</td>\n",
       "      <td>0.170396</td>\n",
       "      <td>0.330443</td>\n",
       "    </tr>\n",
       "    <tr>\n",
       "      <th>2</th>\n",
       "      <td>2014-11-01</td>\n",
       "      <td>0.166521</td>\n",
       "      <td>0.496964</td>\n",
       "    </tr>\n",
       "    <tr>\n",
       "      <th>3</th>\n",
       "      <td>2014-12-01</td>\n",
       "      <td>0.167701</td>\n",
       "      <td>0.664665</td>\n",
       "    </tr>\n",
       "    <tr>\n",
       "      <th>4</th>\n",
       "      <td>2015-01-01</td>\n",
       "      <td>0.164333</td>\n",
       "      <td>0.828998</td>\n",
       "    </tr>\n",
       "  </tbody>\n",
       "</table>\n",
       "</div>"
      ],
      "text/plain": [
       "      Momento       ipc  ipcAcumulado\n",
       "0  2014-09-01  0.160047      0.160047\n",
       "1  2014-10-01  0.170396      0.330443\n",
       "2  2014-11-01  0.166521      0.496964\n",
       "3  2014-12-01  0.167701      0.664665\n",
       "4  2015-01-01  0.164333      0.828998"
      ]
     },
     "execution_count": 46,
     "metadata": {},
     "output_type": "execute_result"
    }
   ],
   "source": [
    "df_ipc_t.head()"
   ]
  },
  {
   "cell_type": "markdown",
   "metadata": {},
   "source": [
    "**Vemos que el IPC acumulado para el periodo para la Región de los Lagos es 7.68%**\n",
    "\n",
    "En el calculador en el [sitio web de la INE](http://encina.ine.cl/calculadora/) podemos ver que el IPC nacional para este periodo (y para la canasta completa) es un 13.2%"
   ]
  },
  {
   "cell_type": "code",
   "execution_count": 47,
   "metadata": {},
   "outputs": [
    {
     "data": {
      "image/png": "[encoded data removed]",
      "text/plain": [
       "<Figure size 1440x720 with 1 Axes>"
      ]
     },
     "metadata": {},
     "output_type": "display_data"
    }
   ],
   "source": [
    "y1 = df_ipc_t.ipc\n",
    "y2 = df_ipc_t.ipc.cumsum()\n",
    "\n",
    "datos = pd.DataFrame(np.c_[y1, y2])\n",
    "\n",
    "plt.figure(figsize=(20,10))\n",
    "\n",
    "ax = sns.lineplot(data=datos)\n",
    "plt.ylim(0,10)\n",
    "plt.show()"
   ]
  },
  {
   "cell_type": "markdown",
   "metadata": {},
   "source": [
    "### Exportar dataframes para analisis siguiente"
   ]
  },
  {
   "cell_type": "code",
   "execution_count": 49,
   "metadata": {},
   "outputs": [],
   "source": [
    "df_ipc_o.to_csv('output/ipc_osorno.csv', index=None)\n",
    "df_ipc_pv.to_csv('output/ipc_ptovaras.csv', index=None)\n",
    "df_ipc_fru.to_csv('output/ipc_frutillar.csv', index=None)\n",
    "df_ipc_lla.to_csv('output/ipc_llanquihue.csv', index=None)\n",
    "df_ipc_pm.to_csv('output/ipc_ptomontt.csv', index=None)\n",
    "df_ipc_t.to_csv('output/ipc_region.csv', index=None)"
   ]
  },
  {
   "cell_type": "code",
   "execution_count": null,
   "metadata": {},
   "outputs": [],
   "source": []
  },
  {
   "cell_type": "code",
   "execution_count": null,
   "metadata": {},
   "outputs": [],
   "source": []
  },
  {
   "cell_type": "code",
   "execution_count": null,
   "metadata": {},
   "outputs": [],
   "source": []
  }
 ],
 "metadata": {
  "kernelspec": {
   "display_name": "Python 3",
   "language": "python",
   "name": "python3"
  },
  "language_info": {
   "codemirror_mode": {
    "name": "ipython",
    "version": 3
   },
   "file_extension": ".py",
   "mimetype": "text/x-python",
   "name": "python",
   "nbconvert_exporter": "python",
   "pygments_lexer": "ipython3",
   "version": "3.6.4"
  }
 },
 "nbformat": 4,
 "nbformat_minor": 2
}
