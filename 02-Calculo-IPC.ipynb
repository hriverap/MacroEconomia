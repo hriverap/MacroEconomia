{
 "cells": [
  {
   "cell_type": "markdown",
   "metadata": {},
   "source": [
    "# Universidad del Desarrollo\n",
    "## Magister Data Science - Macroeconomía\n",
    "### Grupo N°2: (Región de los Lagos)\n",
    "* Jose Pedro\n",
    "* Cristian\n",
    "* Paul\n",
    "* Max\n",
    "* Hernan\n",
    "\n",
    "## Calculo IPC"
   ]
  },
  {
   "cell_type": "markdown",
   "metadata": {},
   "source": [
    "**Objetivo**\n",
    "\n",
    "El objetivo de este notebook es el calculo de IPC según el siguiente algortimo.\n",
    "\n"
   ]
  },
  {
   "cell_type": "markdown",
   "metadata": {},
   "source": [
    "$ \n",
    "\\begin{equation*}\n",
    "IPC_t   = |\\sum_{k=1}^N \\frac{p_i^t}{p_i^0} w_i| * 100\n",
    "\\end{equation*} \n",
    "$"
   ]
  },
  {
   "cell_type": "markdown",
   "metadata": {},
   "source": [
    "$ \n",
    "\\begin{equation*} \n",
    "p_i^t = \\prod_{j=1}^n (\\frac{v_j^t}{v_j^{t-1}})^{1/n} \n",
    "\\end{equation*} \n",
    "$"
   ]
  },
  {
   "cell_type": "markdown",
   "metadata": {},
   "source": [
    "Donde:\n",
    "* $ p_i^t $ = Precio del producto i en el momento t\n",
    "* $ p_i^0 $ = Precio del producto 0 en el mes base **(2014/08=100)**\n",
    "* $ w_i   $ = Ponderación del producto i en la canasta\n",
    "* $ v_j^t $ = Precio de la variaedad j en el momento t\n",
    "* N = Numero de productos\n",
    "* n = Numero de variedades"
   ]
  },
  {
   "cell_type": "markdown",
   "metadata": {},
   "source": [
    "Dados los siguientes supuestos:\n",
    "* n = 2\n",
    "* t = 2014/09\n",
    "\n",
    "Entonces:\n",
    "\n",
    "P = ([ p_var1(2014-09) / p_var1(2014-08) ]$**$(1/2)) $*$ ([ p_var2(2014-09) / p_var2(2014-08) ]$**$(1/2))"
   ]
  },
  {
   "cell_type": "code",
   "execution_count": 55,
   "metadata": {},
   "outputs": [],
   "source": [
    "import pandas as pd\n",
    "import numpy as np\n",
    "\n",
    "%matplotlib inline"
   ]
  },
  {
   "cell_type": "markdown",
   "metadata": {},
   "source": [
    "### 1. Se carga RUT con los productos"
   ]
  },
  {
   "cell_type": "code",
   "execution_count": 56,
   "metadata": {},
   "outputs": [],
   "source": [
    "df = pd.read_csv('output/canasta_ipc.csv')"
   ]
  },
  {
   "cell_type": "code",
   "execution_count": 57,
   "metadata": {},
   "outputs": [
    {
     "data": {
      "text/html": [
       "<div>\n",
       "<style scoped>\n",
       "    .dataframe tbody tr th:only-of-type {\n",
       "        vertical-align: middle;\n",
       "    }\n",
       "\n",
       "    .dataframe tbody tr th {\n",
       "        vertical-align: top;\n",
       "    }\n",
       "\n",
       "    .dataframe thead th {\n",
       "        text-align: right;\n",
       "    }\n",
       "</style>\n",
       "<table border=\"1\" class=\"dataframe\">\n",
       "  <thead>\n",
       "    <tr style=\"text-align: right;\">\n",
       "      <th></th>\n",
       "      <th>Momento</th>\n",
       "      <th>Sector</th>\n",
       "      <th>Producto</th>\n",
       "      <th>Variedad</th>\n",
       "      <th>Promedio</th>\n",
       "    </tr>\n",
       "  </thead>\n",
       "  <tbody>\n",
       "    <tr>\n",
       "      <th>0</th>\n",
       "      <td>2014-08</td>\n",
       "      <td>Osorno</td>\n",
       "      <td>Aceite</td>\n",
       "      <td>Maravilla</td>\n",
       "      <td>1558.2966</td>\n",
       "    </tr>\n",
       "    <tr>\n",
       "      <th>1</th>\n",
       "      <td>2014-08</td>\n",
       "      <td>Osorno</td>\n",
       "      <td>Aceite</td>\n",
       "      <td>Vegetal</td>\n",
       "      <td>1410.9042</td>\n",
       "    </tr>\n",
       "  </tbody>\n",
       "</table>\n",
       "</div>"
      ],
      "text/plain": [
       "   Momento  Sector Producto   Variedad   Promedio\n",
       "0  2014-08  Osorno   Aceite  Maravilla  1558.2966\n",
       "1  2014-08  Osorno   Aceite    Vegetal  1410.9042"
      ]
     },
     "execution_count": 57,
     "metadata": {},
     "output_type": "execute_result"
    }
   ],
   "source": [
    "df.head(2)"
   ]
  },
  {
   "cell_type": "code",
   "execution_count": 58,
   "metadata": {},
   "outputs": [],
   "source": [
    "def Get_series_productos (st_producto, key_variedad='Variedad', key_precio='Promedio'):\n",
    "  variedades = set(st_producto[key_variedad].values)\n",
    "  n_variedades = len(variedades)\n",
    "    \n",
    "  n_serie_producto = (st_producto.shape[0] // n_variedades - 1)\n",
    "  serie_producto = np.ones(n_serie_producto, dtype = np.float)\n",
    "  \n",
    "  for var in variedades:\n",
    "    serie = np.ones(n_serie_producto, dtype = np.float)\n",
    "    serie = st_producto[st_producto[key_variedad] == var][key_precio].values\n",
    "    serie_producto *= serie[1:] / serie[:-1]\n",
    "    return (serie_producto) ** (1/n_variedades)"
   ]
  },
  {
   "cell_type": "code",
   "execution_count": 59,
   "metadata": {},
   "outputs": [],
   "source": [
    "df_aceite = df[df.Producto ==\"Aceite\"]"
   ]
  },
  {
   "cell_type": "code",
   "execution_count": 60,
   "metadata": {
    "scrolled": true
   },
   "outputs": [],
   "source": [
    "dfs_aceite = Get_series_productos(df_aceite, \"Variedad\", \"Promedio\")"
   ]
  },
  {
   "cell_type": "code",
   "execution_count": 61,
   "metadata": {},
   "outputs": [
    {
     "data": {
      "text/plain": [
       "array([0.98653698, 1.05255531, 0.96958951, 0.98085206, 1.00761578,\n",
       "       1.0033667 , 1.0312479 , 1.00281626, 0.9466335 , 1.00918303,\n",
       "       1.00535758, 0.97785949, 0.99155656, 1.03476376, 0.96853592,\n",
       "       0.98865518, 1.04672198, 0.96294288, 0.99158203, 1.03464895,\n",
       "       0.98944837, 0.9992141 , 0.98732343, 1.04166565, 1.05441692,\n",
       "       0.95513384, 0.97742552, 1.01467068, 0.9912589 , 1.10224302,\n",
       "       0.90872926, 0.99250229, 1.00673234, 1.02241528, 1.13628918,\n",
       "       0.86395075, 0.99573875, 1.01189589, 1.00614437, 1.04396279,\n",
       "       0.96099996, 0.9715285 , 1.0195482 , 0.99201871, 1.05899391,\n",
       "       0.88548227, 1.06658953, 0.99999227, 1.00384206, 1.05470122,\n",
       "       0.95552213, 0.98963583, 0.99891304, 0.9906399 , 1.06843056,\n",
       "       0.98409969, 0.95958573, 0.99774017, 1.01523628, 1.04103765,\n",
       "       1.02669347, 0.9460555 , 0.99949249, 0.9883851 , 1.05278433,\n",
       "       0.9858458 , 1.00231259, 0.98412459, 0.99049556, 1.04441303,\n",
       "       1.00982112, 0.95567528, 0.98306179, 0.99018189, 1.05989296,\n",
       "       0.95317706, 1.02690743, 0.98589257, 1.0021468 , 1.03860927,\n",
       "       0.98953694, 0.97674837, 0.99682048, 1.00946141, 1.03414834,\n",
       "       0.99800432, 0.96607829, 1.00224978, 1.00898649, 1.03140579,\n",
       "       1.00546647, 0.96258644, 0.97912006, 1.02369348, 1.02546573,\n",
       "       1.00740597, 0.95999158, 0.97037236, 1.01195982, 1.05599179,\n",
       "       1.02407844, 0.91853192, 0.99477533, 1.03503536, 1.06599168,\n",
       "       0.99200697, 0.96855295, 0.97418221, 1.0172744 , 1.05762465,\n",
       "       0.96887811, 0.98336074, 0.99208048, 1.00132523, 1.06180653,\n",
       "       1.00521709, 0.94354351, 0.99458626, 0.98220455, 1.03591477,\n",
       "       1.0129595 , 0.95590796, 1.00069908, 0.98960836, 1.04965695,\n",
       "       1.04134204, 0.93597706, 0.99039012, 0.98428863, 1.08131117,\n",
       "       1.02805943, 0.91337953, 1.01492409, 1.00080925, 1.05343   ,\n",
       "       0.97845099, 0.97913639, 0.99851199, 0.99780436, 1.02977741,\n",
       "       1.01857254, 0.93596752, 0.98054497, 1.04827067, 0.972911  ,\n",
       "       0.9968246 , 0.99363036, 0.99460093, 1.02908794, 1.0435695 ,\n",
       "       0.95830746, 0.96454962, 1.00441114, 1.02464526, 1.05393344,\n",
       "       0.99163902, 0.9330739 , 1.00785918, 1.02520309, 0.99279286,\n",
       "       1.03149052, 0.92554177, 1.01377039, 0.99980397, 1.0516981 ,\n",
       "       0.98131793, 0.97054815, 1.00479094, 1.00353508, 1.04847815,\n",
       "       0.99349279, 0.96591712, 1.00856923, 0.99092202, 1.04464068,\n",
       "       0.97640119, 0.95892901, 0.98373668, 1.03329052, 1.02761853,\n",
       "       0.95742625, 0.99343767, 0.99637335, 1.03203457, 1.05333626,\n",
       "       0.96357049, 0.96603293, 1.00471796, 1.01280842, 1.04358048,\n",
       "       1.00619359, 0.92669604, 1.02364542, 0.99404736, 1.0559534 ,\n",
       "       0.98501449, 0.9623247 , 1.00564518, 1.00944316, 1.04170904,\n",
       "       1.01690583, 0.9326453 , 0.99799922, 1.01350769, 1.04489475,\n",
       "       0.99831809, 0.95216484, 0.9964067 , 0.99948535, 1.062175  ,\n",
       "       0.95045836, 0.9865225 , 1.00302274, 0.98948235, 1.03872938,\n",
       "       0.98907298, 0.96304552, 1.01335421, 0.99621673, 1.04092113,\n",
       "       0.99872936, 0.96427944, 0.9925517 , 1.00963786])"
      ]
     },
     "execution_count": 61,
     "metadata": {},
     "output_type": "execute_result"
    }
   ],
   "source": [
    "dfs_aceite"
   ]
  },
  {
   "cell_type": "code",
   "execution_count": 41,
   "metadata": {},
   "outputs": [
    {
     "data": {
      "text/html": [
       "<div>\n",
       "<style scoped>\n",
       "    .dataframe tbody tr th:only-of-type {\n",
       "        vertical-align: middle;\n",
       "    }\n",
       "\n",
       "    .dataframe tbody tr th {\n",
       "        vertical-align: top;\n",
       "    }\n",
       "\n",
       "    .dataframe thead th {\n",
       "        text-align: right;\n",
       "    }\n",
       "</style>\n",
       "<table border=\"1\" class=\"dataframe\">\n",
       "  <thead>\n",
       "    <tr style=\"text-align: right;\">\n",
       "      <th></th>\n",
       "      <th>Momento</th>\n",
       "      <th>Sector</th>\n",
       "      <th>Producto</th>\n",
       "      <th>Variedad</th>\n",
       "      <th>Promedio</th>\n",
       "    </tr>\n",
       "  </thead>\n",
       "  <tbody>\n",
       "    <tr>\n",
       "      <th>0</th>\n",
       "      <td>2014-08</td>\n",
       "      <td>Osorno</td>\n",
       "      <td>Aceite</td>\n",
       "      <td>Maravilla</td>\n",
       "      <td>1558.2966</td>\n",
       "    </tr>\n",
       "    <tr>\n",
       "      <th>1</th>\n",
       "      <td>2014-08</td>\n",
       "      <td>Osorno</td>\n",
       "      <td>Aceite</td>\n",
       "      <td>Vegetal</td>\n",
       "      <td>1410.9042</td>\n",
       "    </tr>\n",
       "  </tbody>\n",
       "</table>\n",
       "</div>"
      ],
      "text/plain": [
       "   Momento  Sector Producto   Variedad   Promedio\n",
       "0  2014-08  Osorno   Aceite  Maravilla  1558.2966\n",
       "1  2014-08  Osorno   Aceite    Vegetal  1410.9042"
      ]
     },
     "execution_count": 41,
     "metadata": {},
     "output_type": "execute_result"
    }
   ],
   "source": [
    "df[(df.Momento==\"2014-08\") & (df.Producto==\"Aceite\") & (df.Sector==\"Osorno\") ]"
   ]
  },
  {
   "cell_type": "code",
   "execution_count": 42,
   "metadata": {},
   "outputs": [
    {
     "data": {
      "text/html": [
       "<div>\n",
       "<style scoped>\n",
       "    .dataframe tbody tr th:only-of-type {\n",
       "        vertical-align: middle;\n",
       "    }\n",
       "\n",
       "    .dataframe tbody tr th {\n",
       "        vertical-align: top;\n",
       "    }\n",
       "\n",
       "    .dataframe thead th {\n",
       "        text-align: right;\n",
       "    }\n",
       "</style>\n",
       "<table border=\"1\" class=\"dataframe\">\n",
       "  <thead>\n",
       "    <tr style=\"text-align: right;\">\n",
       "      <th></th>\n",
       "      <th>Momento</th>\n",
       "      <th>Sector</th>\n",
       "      <th>Producto</th>\n",
       "      <th>Variedad</th>\n",
       "      <th>Promedio</th>\n",
       "    </tr>\n",
       "  </thead>\n",
       "  <tbody>\n",
       "    <tr>\n",
       "      <th>8</th>\n",
       "      <td>2014-09</td>\n",
       "      <td>Osorno</td>\n",
       "      <td>Aceite</td>\n",
       "      <td>Maravilla</td>\n",
       "      <td>1519.6709</td>\n",
       "    </tr>\n",
       "    <tr>\n",
       "      <th>9</th>\n",
       "      <td>2014-09</td>\n",
       "      <td>Osorno</td>\n",
       "      <td>Aceite</td>\n",
       "      <td>Vegetal</td>\n",
       "      <td>1396.5417</td>\n",
       "    </tr>\n",
       "  </tbody>\n",
       "</table>\n",
       "</div>"
      ],
      "text/plain": [
       "   Momento  Sector Producto   Variedad   Promedio\n",
       "8  2014-09  Osorno   Aceite  Maravilla  1519.6709\n",
       "9  2014-09  Osorno   Aceite    Vegetal  1396.5417"
      ]
     },
     "execution_count": 42,
     "metadata": {},
     "output_type": "execute_result"
    }
   ],
   "source": [
    "df[(df.Momento==\"2014-09\") & (df.Producto==\"Aceite\") & (df.Sector==\"Osorno\") ]"
   ]
  },
  {
   "cell_type": "code",
   "execution_count": 54,
   "metadata": {},
   "outputs": [
    {
     "data": {
      "text/plain": [
       "0.9824894666738698"
      ]
     },
     "execution_count": 54,
     "metadata": {},
     "output_type": "execute_result"
    }
   ],
   "source": [
    "((1519.6709/1558.2966)**.5)*((1396.5417/1410.9042)**.5)"
   ]
  },
  {
   "cell_type": "code",
   "execution_count": null,
   "metadata": {},
   "outputs": [],
   "source": [
    "0.98653698"
   ]
  },
  {
   "cell_type": "code",
   "execution_count": 51,
   "metadata": {},
   "outputs": [],
   "source": [
    "def Get_SerieProductos (producto, key_variedad='Variedad', key_precio='Promedio'):\n",
    "  variedades = set(producto[key_variedad].values)\n",
    "  n_variedades = len(variedades)\n",
    "    \n",
    "  n_serie_producto = (producto.shape[0] // n_variedades - 1)\n",
    "  serie_producto = np.ones(n_serie_producto, dtype = np.float)\n",
    "  \n",
    "  for var in variedades:\n",
    "    serie = np.ones(n_serie_producto, dtype = np.float)\n",
    "    serie = producto[producto[key_variedad] == var][key_precio].values\n",
    "    serie_producto *= (serie[1:] / serie[:-1])**(1/n_variedades)\n",
    "    return serie_producto"
   ]
  },
  {
   "cell_type": "code",
   "execution_count": 52,
   "metadata": {},
   "outputs": [],
   "source": [
    "dfs_aceite =  Get_SerieProductos(df_aceite)"
   ]
  },
  {
   "cell_type": "code",
   "execution_count": 53,
   "metadata": {},
   "outputs": [
    {
     "data": {
      "text/plain": [
       "array([0.98653698, 1.05255531, 0.96958951, 0.98085206, 1.00761578,\n",
       "       1.0033667 , 1.0312479 , 1.00281626, 0.9466335 , 1.00918303,\n",
       "       1.00535758, 0.97785949, 0.99155656, 1.03476376, 0.96853592,\n",
       "       0.98865518, 1.04672198, 0.96294288, 0.99158203, 1.03464895,\n",
       "       0.98944837, 0.9992141 , 0.98732343, 1.04166565, 1.05441692,\n",
       "       0.95513384, 0.97742552, 1.01467068, 0.9912589 , 1.10224302,\n",
       "       0.90872926, 0.99250229, 1.00673234, 1.02241528, 1.13628918,\n",
       "       0.86395075, 0.99573875, 1.01189589, 1.00614437, 1.04396279,\n",
       "       0.96099996, 0.9715285 , 1.0195482 , 0.99201871, 1.05899391,\n",
       "       0.88548227, 1.06658953, 0.99999227, 1.00384206, 1.05470122,\n",
       "       0.95552213, 0.98963583, 0.99891304, 0.9906399 , 1.06843056,\n",
       "       0.98409969, 0.95958573, 0.99774017, 1.01523628, 1.04103765,\n",
       "       1.02669347, 0.9460555 , 0.99949249, 0.9883851 , 1.05278433,\n",
       "       0.9858458 , 1.00231259, 0.98412459, 0.99049556, 1.04441303,\n",
       "       1.00982112, 0.95567528, 0.98306179, 0.99018189, 1.05989296,\n",
       "       0.95317706, 1.02690743, 0.98589257, 1.0021468 , 1.03860927,\n",
       "       0.98953694, 0.97674837, 0.99682048, 1.00946141, 1.03414834,\n",
       "       0.99800432, 0.96607829, 1.00224978, 1.00898649, 1.03140579,\n",
       "       1.00546647, 0.96258644, 0.97912006, 1.02369348, 1.02546573,\n",
       "       1.00740597, 0.95999158, 0.97037236, 1.01195982, 1.05599179,\n",
       "       1.02407844, 0.91853192, 0.99477533, 1.03503536, 1.06599168,\n",
       "       0.99200697, 0.96855295, 0.97418221, 1.0172744 , 1.05762465,\n",
       "       0.96887811, 0.98336074, 0.99208048, 1.00132523, 1.06180653,\n",
       "       1.00521709, 0.94354351, 0.99458626, 0.98220455, 1.03591477,\n",
       "       1.0129595 , 0.95590796, 1.00069908, 0.98960836, 1.04965695,\n",
       "       1.04134204, 0.93597706, 0.99039012, 0.98428863, 1.08131117,\n",
       "       1.02805943, 0.91337953, 1.01492409, 1.00080925, 1.05343   ,\n",
       "       0.97845099, 0.97913639, 0.99851199, 0.99780436, 1.02977741,\n",
       "       1.01857254, 0.93596752, 0.98054497, 1.04827067, 0.972911  ,\n",
       "       0.9968246 , 0.99363036, 0.99460093, 1.02908794, 1.0435695 ,\n",
       "       0.95830746, 0.96454962, 1.00441114, 1.02464526, 1.05393344,\n",
       "       0.99163902, 0.9330739 , 1.00785918, 1.02520309, 0.99279286,\n",
       "       1.03149052, 0.92554177, 1.01377039, 0.99980397, 1.0516981 ,\n",
       "       0.98131793, 0.97054815, 1.00479094, 1.00353508, 1.04847815,\n",
       "       0.99349279, 0.96591712, 1.00856923, 0.99092202, 1.04464068,\n",
       "       0.97640119, 0.95892901, 0.98373668, 1.03329052, 1.02761853,\n",
       "       0.95742625, 0.99343767, 0.99637335, 1.03203457, 1.05333626,\n",
       "       0.96357049, 0.96603293, 1.00471796, 1.01280842, 1.04358048,\n",
       "       1.00619359, 0.92669604, 1.02364542, 0.99404736, 1.0559534 ,\n",
       "       0.98501449, 0.9623247 , 1.00564518, 1.00944316, 1.04170904,\n",
       "       1.01690583, 0.9326453 , 0.99799922, 1.01350769, 1.04489475,\n",
       "       0.99831809, 0.95216484, 0.9964067 , 0.99948535, 1.062175  ,\n",
       "       0.95045836, 0.9865225 , 1.00302274, 0.98948235, 1.03872938,\n",
       "       0.98907298, 0.96304552, 1.01335421, 0.99621673, 1.04092113,\n",
       "       0.99872936, 0.96427944, 0.9925517 , 1.00963786])"
      ]
     },
     "execution_count": 53,
     "metadata": {},
     "output_type": "execute_result"
    }
   ],
   "source": [
    "dfs_aceite"
   ]
  },
  {
   "cell_type": "code",
   "execution_count": null,
   "metadata": {},
   "outputs": [],
   "source": []
  }
 ],
 "metadata": {
  "kernelspec": {
   "display_name": "Python 3",
   "language": "python",
   "name": "python3"
  },
  "language_info": {
   "codemirror_mode": {
    "name": "ipython",
    "version": 3
   },
   "file_extension": ".py",
   "mimetype": "text/x-python",
   "name": "python",
   "nbconvert_exporter": "python",
   "pygments_lexer": "ipython3",
   "version": "3.6.4"
  }
 },
 "nbformat": 4,
 "nbformat_minor": 2
}
