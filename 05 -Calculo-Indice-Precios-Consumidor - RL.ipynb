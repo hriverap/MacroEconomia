{
 "cells": [
  {
   "cell_type": "markdown",
   "metadata": {},
   "source": [
    "# Universidad del Desarrollo\n",
    "## Magister Data Science - Macroeconomía\n",
    "### Grupo N°2: (Región de los Lagos)\n",
    "* Jose Pedro\n",
    "* Cristian\n",
    "* Paul\n",
    "* Max\n",
    "* Hernan\n",
    "\n",
    "## Calculo Indice Precios al Consumidor"
   ]
  },
  {
   "cell_type": "markdown",
   "metadata": {},
   "source": [
    "**Objetivo**\n",
    "\n",
    "El objetivo de este notebook es el calculo de IPC según el siguiente algortimo.\n",
    "\n"
   ]
  },
  {
   "cell_type": "markdown",
   "metadata": {},
   "source": [
    "$ \n",
    "\\begin{equation*}\n",
    "IPC_t   = |\\sum_{k=1}^N \\frac{p_i^t}{p_i^0} w_i| * 100\n",
    "\\end{equation*} \n",
    "$"
   ]
  },
  {
   "cell_type": "markdown",
   "metadata": {},
   "source": [
    "Donde:\n",
    "* $ p_i^t $ = Precio del producto i en el momento t\n",
    "* $ p_i^0 $ = Precio del producto 0 en el mes base **(2014/08=100)**\n",
    "* $ w_i   $ = Ponderación del producto i en la canasta\n",
    "* N = Numero de productos"
   ]
  },
  {
   "cell_type": "code",
   "execution_count": 19,
   "metadata": {},
   "outputs": [],
   "source": [
    "import pandas as pd\n",
    "import numpy as np\n",
    "import calendar\n",
    "import datetime\n",
    "\n",
    "%matplotlib inline"
   ]
  },
  {
   "cell_type": "code",
   "execution_count": 20,
   "metadata": {},
   "outputs": [],
   "source": [
    "base = \"2014-08\""
   ]
  },
  {
   "cell_type": "markdown",
   "metadata": {},
   "source": [
    "### 1. Se cargan el dataset de productos"
   ]
  },
  {
   "cell_type": "code",
   "execution_count": 21,
   "metadata": {},
   "outputs": [],
   "source": [
    "df = pd.read_csv('output/precios_productos.csv')"
   ]
  },
  {
   "cell_type": "code",
   "execution_count": 22,
   "metadata": {},
   "outputs": [
    {
     "data": {
      "text/html": [
       "<div>\n",
       "<style scoped>\n",
       "    .dataframe tbody tr th:only-of-type {\n",
       "        vertical-align: middle;\n",
       "    }\n",
       "\n",
       "    .dataframe tbody tr th {\n",
       "        vertical-align: top;\n",
       "    }\n",
       "\n",
       "    .dataframe thead th {\n",
       "        text-align: right;\n",
       "    }\n",
       "</style>\n",
       "<table border=\"1\" class=\"dataframe\">\n",
       "  <thead>\n",
       "    <tr style=\"text-align: right;\">\n",
       "      <th></th>\n",
       "      <th>Momento</th>\n",
       "      <th>Sector</th>\n",
       "      <th>Producto</th>\n",
       "      <th>Factor</th>\n",
       "    </tr>\n",
       "  </thead>\n",
       "  <tbody>\n",
       "    <tr>\n",
       "      <th>1573</th>\n",
       "      <td>2017-04-01</td>\n",
       "      <td>Puerto Montt</td>\n",
       "      <td>Carnes</td>\n",
       "      <td>1.025511</td>\n",
       "    </tr>\n",
       "    <tr>\n",
       "      <th>1272</th>\n",
       "      <td>2016-03-01</td>\n",
       "      <td>Osorno</td>\n",
       "      <td>Hortaliza</td>\n",
       "      <td>0.960416</td>\n",
       "    </tr>\n",
       "    <tr>\n",
       "      <th>2317</th>\n",
       "      <td>2017-12-01</td>\n",
       "      <td>Osorno</td>\n",
       "      <td>Harina</td>\n",
       "      <td>0.965960</td>\n",
       "    </tr>\n",
       "    <tr>\n",
       "      <th>1102</th>\n",
       "      <td>2017-04-01</td>\n",
       "      <td>Osorno</td>\n",
       "      <td>Frutas</td>\n",
       "      <td>0.906476</td>\n",
       "    </tr>\n",
       "    <tr>\n",
       "      <th>2362</th>\n",
       "      <td>2014-10-01</td>\n",
       "      <td>Osorno</td>\n",
       "      <td>Aceite</td>\n",
       "      <td>0.988659</td>\n",
       "    </tr>\n",
       "    <tr>\n",
       "      <th>1723</th>\n",
       "      <td>2015-11-01</td>\n",
       "      <td>Puerto Montt</td>\n",
       "      <td>Azucar</td>\n",
       "      <td>1.005647</td>\n",
       "    </tr>\n",
       "    <tr>\n",
       "      <th>1097</th>\n",
       "      <td>2017-03-01</td>\n",
       "      <td>Osorno</td>\n",
       "      <td>Frutas</td>\n",
       "      <td>1.036203</td>\n",
       "    </tr>\n",
       "    <tr>\n",
       "      <th>444</th>\n",
       "      <td>2018-01-01</td>\n",
       "      <td>Puerto Varas</td>\n",
       "      <td>Huevos</td>\n",
       "      <td>1.002547</td>\n",
       "    </tr>\n",
       "    <tr>\n",
       "      <th>452</th>\n",
       "      <td>2018-03-01</td>\n",
       "      <td>Osorno</td>\n",
       "      <td>Huevos</td>\n",
       "      <td>0.973153</td>\n",
       "    </tr>\n",
       "    <tr>\n",
       "      <th>1163</th>\n",
       "      <td>2018-04-01</td>\n",
       "      <td>Puerto Montt</td>\n",
       "      <td>Frutas</td>\n",
       "      <td>0.956392</td>\n",
       "    </tr>\n",
       "  </tbody>\n",
       "</table>\n",
       "</div>"
      ],
      "text/plain": [
       "         Momento        Sector   Producto    Factor\n",
       "1573  2017-04-01  Puerto Montt     Carnes  1.025511\n",
       "1272  2016-03-01        Osorno  Hortaliza  0.960416\n",
       "2317  2017-12-01        Osorno     Harina  0.965960\n",
       "1102  2017-04-01        Osorno     Frutas  0.906476\n",
       "2362  2014-10-01        Osorno     Aceite  0.988659\n",
       "1723  2015-11-01  Puerto Montt     Azucar  1.005647\n",
       "1097  2017-03-01        Osorno     Frutas  1.036203\n",
       "444   2018-01-01  Puerto Varas     Huevos  1.002547\n",
       "452   2018-03-01        Osorno     Huevos  0.973153\n",
       "1163  2018-04-01  Puerto Montt     Frutas  0.956392"
      ]
     },
     "execution_count": 22,
     "metadata": {},
     "output_type": "execute_result"
    }
   ],
   "source": [
    "df.sample(10)"
   ]
  },
  {
   "cell_type": "code",
   "execution_count": 23,
   "metadata": {},
   "outputs": [
    {
     "data": {
      "text/plain": [
       "Frutillar       517\n",
       "Osorno          517\n",
       "Puerto Varas    517\n",
       "Puerto Montt    517\n",
       "Llanquihue      517\n",
       "Name: Sector, dtype: int64"
      ]
     },
     "execution_count": 23,
     "metadata": {},
     "output_type": "execute_result"
    }
   ],
   "source": [
    "df.Sector.value_counts()"
   ]
  },
  {
   "cell_type": "code",
   "execution_count": 24,
   "metadata": {},
   "outputs": [],
   "source": [
    "df_w = pd.read_csv(\"output/w_ponderados.csv\")"
   ]
  },
  {
   "cell_type": "code",
   "execution_count": 25,
   "metadata": {},
   "outputs": [
    {
     "data": {
      "text/html": [
       "<div>\n",
       "<style scoped>\n",
       "    .dataframe tbody tr th:only-of-type {\n",
       "        vertical-align: middle;\n",
       "    }\n",
       "\n",
       "    .dataframe tbody tr th {\n",
       "        vertical-align: top;\n",
       "    }\n",
       "\n",
       "    .dataframe thead th {\n",
       "        text-align: right;\n",
       "    }\n",
       "</style>\n",
       "<table border=\"1\" class=\"dataframe\">\n",
       "  <thead>\n",
       "    <tr style=\"text-align: right;\">\n",
       "      <th></th>\n",
       "      <th>Producto</th>\n",
       "      <th>Ponderacion</th>\n",
       "      <th>Ponderacion_Nueva</th>\n",
       "    </tr>\n",
       "  </thead>\n",
       "  <tbody>\n",
       "    <tr>\n",
       "      <th>0</th>\n",
       "      <td>Aceite</td>\n",
       "      <td>0.34550</td>\n",
       "      <td>0.025874</td>\n",
       "    </tr>\n",
       "    <tr>\n",
       "      <th>1</th>\n",
       "      <td>Azucar</td>\n",
       "      <td>0.18716</td>\n",
       "      <td>0.014016</td>\n",
       "    </tr>\n",
       "    <tr>\n",
       "      <th>2</th>\n",
       "      <td>Carnes</td>\n",
       "      <td>4.38211</td>\n",
       "      <td>0.328176</td>\n",
       "    </tr>\n",
       "    <tr>\n",
       "      <th>3</th>\n",
       "      <td>Cereales</td>\n",
       "      <td>0.67947</td>\n",
       "      <td>0.050885</td>\n",
       "    </tr>\n",
       "    <tr>\n",
       "      <th>4</th>\n",
       "      <td>Frutas</td>\n",
       "      <td>1.18325</td>\n",
       "      <td>0.088614</td>\n",
       "    </tr>\n",
       "    <tr>\n",
       "      <th>5</th>\n",
       "      <td>Harina</td>\n",
       "      <td>0.09708</td>\n",
       "      <td>0.007270</td>\n",
       "    </tr>\n",
       "    <tr>\n",
       "      <th>6</th>\n",
       "      <td>Hortaliza</td>\n",
       "      <td>1.69038</td>\n",
       "      <td>0.126593</td>\n",
       "    </tr>\n",
       "    <tr>\n",
       "      <th>7</th>\n",
       "      <td>Huevos</td>\n",
       "      <td>0.33391</td>\n",
       "      <td>0.025007</td>\n",
       "    </tr>\n",
       "    <tr>\n",
       "      <th>8</th>\n",
       "      <td>Lacteos</td>\n",
       "      <td>2.22952</td>\n",
       "      <td>0.166969</td>\n",
       "    </tr>\n",
       "    <tr>\n",
       "      <th>9</th>\n",
       "      <td>Legumbre</td>\n",
       "      <td>0.13135</td>\n",
       "      <td>0.009837</td>\n",
       "    </tr>\n",
       "    <tr>\n",
       "      <th>10</th>\n",
       "      <td>Pan</td>\n",
       "      <td>2.09319</td>\n",
       "      <td>0.156759</td>\n",
       "    </tr>\n",
       "  </tbody>\n",
       "</table>\n",
       "</div>"
      ],
      "text/plain": [
       "     Producto  Ponderacion  Ponderacion_Nueva\n",
       "0      Aceite      0.34550           0.025874\n",
       "1      Azucar      0.18716           0.014016\n",
       "2      Carnes      4.38211           0.328176\n",
       "3    Cereales      0.67947           0.050885\n",
       "4      Frutas      1.18325           0.088614\n",
       "5      Harina      0.09708           0.007270\n",
       "6   Hortaliza      1.69038           0.126593\n",
       "7      Huevos      0.33391           0.025007\n",
       "8     Lacteos      2.22952           0.166969\n",
       "9    Legumbre      0.13135           0.009837\n",
       "10        Pan      2.09319           0.156759"
      ]
     },
     "execution_count": 25,
     "metadata": {},
     "output_type": "execute_result"
    }
   ],
   "source": [
    "df_w.head(11)"
   ]
  },
  {
   "cell_type": "markdown",
   "metadata": {},
   "source": [
    "### 2. Calculamos precios base"
   ]
  },
  {
   "cell_type": "code",
   "execution_count": 26,
   "metadata": {},
   "outputs": [],
   "source": [
    "dfp = pd.read_csv(\"output/canasta_ipc.csv\")"
   ]
  },
  {
   "cell_type": "code",
   "execution_count": 27,
   "metadata": {},
   "outputs": [
    {
     "data": {
      "text/html": [
       "<div>\n",
       "<style scoped>\n",
       "    .dataframe tbody tr th:only-of-type {\n",
       "        vertical-align: middle;\n",
       "    }\n",
       "\n",
       "    .dataframe tbody tr th {\n",
       "        vertical-align: top;\n",
       "    }\n",
       "\n",
       "    .dataframe thead th {\n",
       "        text-align: right;\n",
       "    }\n",
       "</style>\n",
       "<table border=\"1\" class=\"dataframe\">\n",
       "  <thead>\n",
       "    <tr style=\"text-align: right;\">\n",
       "      <th></th>\n",
       "      <th>Momento</th>\n",
       "      <th>Sector</th>\n",
       "      <th>Producto</th>\n",
       "      <th>Variedad</th>\n",
       "      <th>Promedio</th>\n",
       "    </tr>\n",
       "  </thead>\n",
       "  <tbody>\n",
       "    <tr>\n",
       "      <th>0</th>\n",
       "      <td>2014-08</td>\n",
       "      <td>Frutillar</td>\n",
       "      <td>Aceite</td>\n",
       "      <td>Maravilla</td>\n",
       "      <td>1807.484158</td>\n",
       "    </tr>\n",
       "    <tr>\n",
       "      <th>1</th>\n",
       "      <td>2014-09</td>\n",
       "      <td>Frutillar</td>\n",
       "      <td>Aceite</td>\n",
       "      <td>Maravilla</td>\n",
       "      <td>1680.222200</td>\n",
       "    </tr>\n",
       "    <tr>\n",
       "      <th>2</th>\n",
       "      <td>2014-10</td>\n",
       "      <td>Frutillar</td>\n",
       "      <td>Aceite</td>\n",
       "      <td>Maravilla</td>\n",
       "      <td>1651.904700</td>\n",
       "    </tr>\n",
       "    <tr>\n",
       "      <th>3</th>\n",
       "      <td>2014-11</td>\n",
       "      <td>Frutillar</td>\n",
       "      <td>Aceite</td>\n",
       "      <td>Maravilla</td>\n",
       "      <td>1807.484158</td>\n",
       "    </tr>\n",
       "    <tr>\n",
       "      <th>4</th>\n",
       "      <td>2014-12</td>\n",
       "      <td>Frutillar</td>\n",
       "      <td>Aceite</td>\n",
       "      <td>Maravilla</td>\n",
       "      <td>1807.484158</td>\n",
       "    </tr>\n",
       "  </tbody>\n",
       "</table>\n",
       "</div>"
      ],
      "text/plain": [
       "   Momento     Sector Producto   Variedad     Promedio\n",
       "0  2014-08  Frutillar   Aceite  Maravilla  1807.484158\n",
       "1  2014-09  Frutillar   Aceite  Maravilla  1680.222200\n",
       "2  2014-10  Frutillar   Aceite  Maravilla  1651.904700\n",
       "3  2014-11  Frutillar   Aceite  Maravilla  1807.484158\n",
       "4  2014-12  Frutillar   Aceite  Maravilla  1807.484158"
      ]
     },
     "execution_count": 27,
     "metadata": {},
     "output_type": "execute_result"
    }
   ],
   "source": [
    "dfp.head()"
   ]
  },
  {
   "cell_type": "code",
   "execution_count": 28,
   "metadata": {},
   "outputs": [],
   "source": [
    "df_pb = dfp[dfp.Momento==base]"
   ]
  },
  {
   "cell_type": "code",
   "execution_count": 29,
   "metadata": {},
   "outputs": [
    {
     "data": {
      "text/html": [
       "<div>\n",
       "<style scoped>\n",
       "    .dataframe tbody tr th:only-of-type {\n",
       "        vertical-align: middle;\n",
       "    }\n",
       "\n",
       "    .dataframe tbody tr th {\n",
       "        vertical-align: top;\n",
       "    }\n",
       "\n",
       "    .dataframe thead th {\n",
       "        text-align: right;\n",
       "    }\n",
       "</style>\n",
       "<table border=\"1\" class=\"dataframe\">\n",
       "  <thead>\n",
       "    <tr style=\"text-align: right;\">\n",
       "      <th></th>\n",
       "      <th>Momento</th>\n",
       "      <th>Sector</th>\n",
       "      <th>Producto</th>\n",
       "      <th>Variedad</th>\n",
       "      <th>Promedio</th>\n",
       "    </tr>\n",
       "  </thead>\n",
       "  <tbody>\n",
       "    <tr>\n",
       "      <th>3369</th>\n",
       "      <td>2014-08</td>\n",
       "      <td>Puerto Montt</td>\n",
       "      <td>Carnes</td>\n",
       "      <td>Choclillo</td>\n",
       "      <td>5229.060148</td>\n",
       "    </tr>\n",
       "    <tr>\n",
       "      <th>13151</th>\n",
       "      <td>2014-08</td>\n",
       "      <td>Osorno</td>\n",
       "      <td>Carnes</td>\n",
       "      <td>Tapapecho</td>\n",
       "      <td>4539.630900</td>\n",
       "    </tr>\n",
       "    <tr>\n",
       "      <th>19278</th>\n",
       "      <td>2014-08</td>\n",
       "      <td>Puerto Montt</td>\n",
       "      <td>Frutas</td>\n",
       "      <td>Naranja</td>\n",
       "      <td>725.000000</td>\n",
       "    </tr>\n",
       "    <tr>\n",
       "      <th>22523</th>\n",
       "      <td>2014-08</td>\n",
       "      <td>Frutillar</td>\n",
       "      <td>Harina</td>\n",
       "      <td>Harina sin polvos de hornear</td>\n",
       "      <td>763.721525</td>\n",
       "    </tr>\n",
       "    <tr>\n",
       "      <th>26186</th>\n",
       "      <td>2014-08</td>\n",
       "      <td>Puerto Montt</td>\n",
       "      <td>Hortaliza</td>\n",
       "      <td>Haba</td>\n",
       "      <td>1159.243587</td>\n",
       "    </tr>\n",
       "  </tbody>\n",
       "</table>\n",
       "</div>"
      ],
      "text/plain": [
       "       Momento        Sector   Producto                      Variedad  \\\n",
       "3369   2014-08  Puerto Montt     Carnes                     Choclillo   \n",
       "13151  2014-08        Osorno     Carnes                     Tapapecho   \n",
       "19278  2014-08  Puerto Montt     Frutas                       Naranja   \n",
       "22523  2014-08     Frutillar     Harina  Harina sin polvos de hornear   \n",
       "26186  2014-08  Puerto Montt  Hortaliza                          Haba   \n",
       "\n",
       "          Promedio  \n",
       "3369   5229.060148  \n",
       "13151  4539.630900  \n",
       "19278   725.000000  \n",
       "22523   763.721525  \n",
       "26186  1159.243587  "
      ]
     },
     "execution_count": 29,
     "metadata": {},
     "output_type": "execute_result"
    }
   ],
   "source": [
    "df_pb.sample(5)"
   ]
  },
  {
   "cell_type": "code",
   "execution_count": 30,
   "metadata": {},
   "outputs": [
    {
     "data": {
      "text/html": [
       "<div>\n",
       "<style scoped>\n",
       "    .dataframe tbody tr th:only-of-type {\n",
       "        vertical-align: middle;\n",
       "    }\n",
       "\n",
       "    .dataframe tbody tr th {\n",
       "        vertical-align: top;\n",
       "    }\n",
       "\n",
       "    .dataframe thead th {\n",
       "        text-align: right;\n",
       "    }\n",
       "</style>\n",
       "<table border=\"1\" class=\"dataframe\">\n",
       "  <thead>\n",
       "    <tr style=\"text-align: right;\">\n",
       "      <th></th>\n",
       "      <th>Promedio</th>\n",
       "    </tr>\n",
       "    <tr>\n",
       "      <th>Producto</th>\n",
       "      <th></th>\n",
       "    </tr>\n",
       "  </thead>\n",
       "  <tbody>\n",
       "    <tr>\n",
       "      <th>Aceite</th>\n",
       "      <td>1550.660213</td>\n",
       "    </tr>\n",
       "    <tr>\n",
       "      <th>Azucar</th>\n",
       "      <td>626.972709</td>\n",
       "    </tr>\n",
       "    <tr>\n",
       "      <th>Carnes</th>\n",
       "      <td>4988.965919</td>\n",
       "    </tr>\n",
       "    <tr>\n",
       "      <th>Cereales</th>\n",
       "      <td>836.436504</td>\n",
       "    </tr>\n",
       "    <tr>\n",
       "      <th>Frutas</th>\n",
       "      <td>1436.414083</td>\n",
       "    </tr>\n",
       "    <tr>\n",
       "      <th>Harina</th>\n",
       "      <td>719.486763</td>\n",
       "    </tr>\n",
       "    <tr>\n",
       "      <th>Hortaliza</th>\n",
       "      <td>916.972072</td>\n",
       "    </tr>\n",
       "    <tr>\n",
       "      <th>Huevos</th>\n",
       "      <td>1844.462405</td>\n",
       "    </tr>\n",
       "    <tr>\n",
       "      <th>Lacteos</th>\n",
       "      <td>3281.595206</td>\n",
       "    </tr>\n",
       "    <tr>\n",
       "      <th>Legumbre</th>\n",
       "      <td>2105.174802</td>\n",
       "    </tr>\n",
       "    <tr>\n",
       "      <th>Pan</th>\n",
       "      <td>1216.912163</td>\n",
       "    </tr>\n",
       "  </tbody>\n",
       "</table>\n",
       "</div>"
      ],
      "text/plain": [
       "              Promedio\n",
       "Producto              \n",
       "Aceite     1550.660213\n",
       "Azucar      626.972709\n",
       "Carnes     4988.965919\n",
       "Cereales    836.436504\n",
       "Frutas     1436.414083\n",
       "Harina      719.486763\n",
       "Hortaliza   916.972072\n",
       "Huevos     1844.462405\n",
       "Lacteos    3281.595206\n",
       "Legumbre   2105.174802\n",
       "Pan        1216.912163"
      ]
     },
     "execution_count": 30,
     "metadata": {},
     "output_type": "execute_result"
    }
   ],
   "source": [
    "pb = df_pb.groupby([\"Producto\"]).mean()\n",
    "pb"
   ]
  },
  {
   "cell_type": "markdown",
   "metadata": {},
   "source": [
    "### 3. IPC Osorno"
   ]
  },
  {
   "cell_type": "code",
   "execution_count": 31,
   "metadata": {},
   "outputs": [],
   "source": [
    "df_osorno = df[(df.Sector==\"Osorno\") & (df.Momento > base + \"-01\")]"
   ]
  },
  {
   "cell_type": "code",
   "execution_count": 32,
   "metadata": {},
   "outputs": [
    {
     "data": {
      "text/plain": [
       "Osorno    506\n",
       "Name: Sector, dtype: int64"
      ]
     },
     "execution_count": 32,
     "metadata": {},
     "output_type": "execute_result"
    }
   ],
   "source": [
    "df_osorno.Sector.value_counts()"
   ]
  },
  {
   "cell_type": "code",
   "execution_count": 37,
   "metadata": {},
   "outputs": [],
   "source": [
    "def GetIPC(df, df_base, df_p):\n",
    "    v = []\n",
    "    for o in df.Momento:\n",
    "        ipc = 1\n",
    "        prod = df[df.Momento == o].Producto\n",
    "        for row in prod:\n",
    "            p_0 = df_base.loc[row].iloc[0]\n",
    "            p_j = df[(df.Momento == o) & (df.Producto == row)].Factor.iloc[0]\n",
    "\n",
    "            w_i = df_p[df_p.Producto == row][\"Ponderacion_Nueva\"].iloc[0]\n",
    "            \n",
    "            ipc =+ ((p_j/p_0)*w_i)\n",
    "\n",
    "        v.append({\"ipc\": ipc*100, \"Momento\": o})\n",
    "        \n",
    "    return pd.DataFrame(v)"
   ]
  },
  {
   "cell_type": "code",
   "execution_count": 38,
   "metadata": {},
   "outputs": [],
   "source": [
    "df_ipc = GetIPC(df_osorno, pb, df_w)"
   ]
  },
  {
   "cell_type": "code",
   "execution_count": 39,
   "metadata": {},
   "outputs": [
    {
     "data": {
      "text/html": [
       "<div>\n",
       "<style scoped>\n",
       "    .dataframe tbody tr th:only-of-type {\n",
       "        vertical-align: middle;\n",
       "    }\n",
       "\n",
       "    .dataframe tbody tr th {\n",
       "        vertical-align: top;\n",
       "    }\n",
       "\n",
       "    .dataframe thead th {\n",
       "        text-align: right;\n",
       "    }\n",
       "</style>\n",
       "<table border=\"1\" class=\"dataframe\">\n",
       "  <thead>\n",
       "    <tr style=\"text-align: right;\">\n",
       "      <th></th>\n",
       "      <th>Momento</th>\n",
       "      <th>ipc</th>\n",
       "    </tr>\n",
       "  </thead>\n",
       "  <tbody>\n",
       "    <tr>\n",
       "      <th>0</th>\n",
       "      <td>2014-09-01</td>\n",
       "      <td>0.001639</td>\n",
       "    </tr>\n",
       "    <tr>\n",
       "      <th>1</th>\n",
       "      <td>2014-10-01</td>\n",
       "      <td>0.001650</td>\n",
       "    </tr>\n",
       "    <tr>\n",
       "      <th>2</th>\n",
       "      <td>2014-11-01</td>\n",
       "      <td>0.001652</td>\n",
       "    </tr>\n",
       "    <tr>\n",
       "      <th>3</th>\n",
       "      <td>2014-12-01</td>\n",
       "      <td>0.001669</td>\n",
       "    </tr>\n",
       "    <tr>\n",
       "      <th>4</th>\n",
       "      <td>2015-01-01</td>\n",
       "      <td>0.001624</td>\n",
       "    </tr>\n",
       "  </tbody>\n",
       "</table>\n",
       "</div>"
      ],
      "text/plain": [
       "      Momento       ipc\n",
       "0  2014-09-01  0.001639\n",
       "1  2014-10-01  0.001650\n",
       "2  2014-11-01  0.001652\n",
       "3  2014-12-01  0.001669\n",
       "4  2015-01-01  0.001624"
      ]
     },
     "execution_count": 39,
     "metadata": {},
     "output_type": "execute_result"
    }
   ],
   "source": [
    "df_ipc.head()"
   ]
  },
  {
   "cell_type": "code",
   "execution_count": 36,
   "metadata": {},
   "outputs": [],
   "source": [
    "#df_ipc.plot(kind=\"bar\")"
   ]
  },
  {
   "cell_type": "code",
   "execution_count": null,
   "metadata": {},
   "outputs": [],
   "source": []
  }
 ],
 "metadata": {
  "kernelspec": {
   "display_name": "Python 3",
   "language": "python",
   "name": "python3"
  },
  "language_info": {
   "codemirror_mode": {
    "name": "ipython",
    "version": 3
   },
   "file_extension": ".py",
   "mimetype": "text/x-python",
   "name": "python",
   "nbconvert_exporter": "python",
   "pygments_lexer": "ipython3",
   "version": "3.6.4"
  }
 },
 "nbformat": 4,
 "nbformat_minor": 2
}
