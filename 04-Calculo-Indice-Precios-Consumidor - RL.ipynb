{
 "cells": [
  {
   "cell_type": "markdown",
   "metadata": {},
   "source": [
    "# Universidad del Desarrollo\n",
    "## Magister Data Science - Macroeconomía\n",
    "### Grupo N°2: (Región de los Lagos)\n",
    "* Jose Pedro\n",
    "* Cristian\n",
    "* Paul\n",
    "* Max\n",
    "* Hernan\n",
    "\n",
    "## Calculo Indice Precios al Consumidor"
   ]
  },
  {
   "cell_type": "markdown",
   "metadata": {},
   "source": [
    "**Objetivo**\n",
    "\n",
    "El objetivo de este notebook es el calculo de IPC según el siguiente algortimo.\n",
    "\n"
   ]
  },
  {
   "cell_type": "markdown",
   "metadata": {},
   "source": [
    "$ \n",
    "\\begin{equation*}\n",
    "IPC_t   = |\\sum_{k=1}^N \\frac{p_i^t}{p_i^0} w_i| * 100\n",
    "\\end{equation*} \n",
    "$"
   ]
  },
  {
   "cell_type": "markdown",
   "metadata": {},
   "source": [
    "Donde:\n",
    "* $ p_i^t $ = Precio del producto i en el momento t\n",
    "* $ p_i^0 $ = Precio del producto 0 en el mes base **(2014/08=100)**\n",
    "* $ w_i   $ = Ponderación del producto i en la canasta\n",
    "* N = Numero de productos"
   ]
  },
  {
   "cell_type": "code",
   "execution_count": 1,
   "metadata": {},
   "outputs": [],
   "source": [
    "import pandas as pd\n",
    "import numpy as np\n",
    "import calendar\n",
    "import datetime\n",
    "\n",
    "%matplotlib inline"
   ]
  },
  {
   "cell_type": "code",
   "execution_count": 2,
   "metadata": {},
   "outputs": [],
   "source": [
    "base = \"2014-08\""
   ]
  },
  {
   "cell_type": "markdown",
   "metadata": {},
   "source": [
    "### 1. Se cargan el dataset de productos"
   ]
  },
  {
   "cell_type": "code",
   "execution_count": 3,
   "metadata": {},
   "outputs": [],
   "source": [
    "df = pd.read_csv('output/precios_productos.csv')"
   ]
  },
  {
   "cell_type": "code",
   "execution_count": 32,
   "metadata": {},
   "outputs": [
    {
     "data": {
      "text/html": [
       "<div>\n",
       "<style scoped>\n",
       "    .dataframe tbody tr th:only-of-type {\n",
       "        vertical-align: middle;\n",
       "    }\n",
       "\n",
       "    .dataframe tbody tr th {\n",
       "        vertical-align: top;\n",
       "    }\n",
       "\n",
       "    .dataframe thead th {\n",
       "        text-align: right;\n",
       "    }\n",
       "</style>\n",
       "<table border=\"1\" class=\"dataframe\">\n",
       "  <thead>\n",
       "    <tr style=\"text-align: right;\">\n",
       "      <th></th>\n",
       "      <th>Momento</th>\n",
       "      <th>Sector</th>\n",
       "      <th>Producto</th>\n",
       "      <th>Factor</th>\n",
       "    </tr>\n",
       "  </thead>\n",
       "  <tbody>\n",
       "    <tr>\n",
       "      <th>1580</th>\n",
       "      <td>2017-06-01</td>\n",
       "      <td>Frutillar</td>\n",
       "      <td>Carnes</td>\n",
       "      <td>0.996120</td>\n",
       "    </tr>\n",
       "    <tr>\n",
       "      <th>362</th>\n",
       "      <td>2016-09-01</td>\n",
       "      <td>Osorno</td>\n",
       "      <td>Huevos</td>\n",
       "      <td>0.988711</td>\n",
       "    </tr>\n",
       "    <tr>\n",
       "      <th>302</th>\n",
       "      <td>2015-09-01</td>\n",
       "      <td>Osorno</td>\n",
       "      <td>Huevos</td>\n",
       "      <td>1.022706</td>\n",
       "    </tr>\n",
       "    <tr>\n",
       "      <th>600</th>\n",
       "      <td>2016-10-01</td>\n",
       "      <td>Frutillar</td>\n",
       "      <td>Pan</td>\n",
       "      <td>0.994714</td>\n",
       "    </tr>\n",
       "    <tr>\n",
       "      <th>2069</th>\n",
       "      <td>2017-09-01</td>\n",
       "      <td>Puerto Varas</td>\n",
       "      <td>Cereales</td>\n",
       "      <td>0.996680</td>\n",
       "    </tr>\n",
       "    <tr>\n",
       "      <th>855</th>\n",
       "      <td>2017-02-01</td>\n",
       "      <td>Frutillar</td>\n",
       "      <td>Lacteos</td>\n",
       "      <td>1.005006</td>\n",
       "    </tr>\n",
       "    <tr>\n",
       "      <th>774</th>\n",
       "      <td>2015-09-01</td>\n",
       "      <td>Puerto Varas</td>\n",
       "      <td>Lacteos</td>\n",
       "      <td>1.003489</td>\n",
       "    </tr>\n",
       "    <tr>\n",
       "      <th>491</th>\n",
       "      <td>2014-12-01</td>\n",
       "      <td>Llanquihue</td>\n",
       "      <td>Pan</td>\n",
       "      <td>1.000000</td>\n",
       "    </tr>\n",
       "    <tr>\n",
       "      <th>2071</th>\n",
       "      <td>2017-10-01</td>\n",
       "      <td>Llanquihue</td>\n",
       "      <td>Cereales</td>\n",
       "      <td>1.035804</td>\n",
       "    </tr>\n",
       "    <tr>\n",
       "      <th>2504</th>\n",
       "      <td>2017-02-01</td>\n",
       "      <td>Puerto Varas</td>\n",
       "      <td>Aceite</td>\n",
       "      <td>1.024221</td>\n",
       "    </tr>\n",
       "  </tbody>\n",
       "</table>\n",
       "</div>"
      ],
      "text/plain": [
       "         Momento        Sector  Producto    Factor\n",
       "1580  2017-06-01     Frutillar    Carnes  0.996120\n",
       "362   2016-09-01        Osorno    Huevos  0.988711\n",
       "302   2015-09-01        Osorno    Huevos  1.022706\n",
       "600   2016-10-01     Frutillar       Pan  0.994714\n",
       "2069  2017-09-01  Puerto Varas  Cereales  0.996680\n",
       "855   2017-02-01     Frutillar   Lacteos  1.005006\n",
       "774   2015-09-01  Puerto Varas   Lacteos  1.003489\n",
       "491   2014-12-01    Llanquihue       Pan  1.000000\n",
       "2071  2017-10-01    Llanquihue  Cereales  1.035804\n",
       "2504  2017-02-01  Puerto Varas    Aceite  1.024221"
      ]
     },
     "execution_count": 32,
     "metadata": {},
     "output_type": "execute_result"
    }
   ],
   "source": [
    "df.sample(10)"
   ]
  },
  {
   "cell_type": "code",
   "execution_count": 5,
   "metadata": {},
   "outputs": [
    {
     "data": {
      "text/plain": [
       "Puerto Montt    517\n",
       "Osorno          517\n",
       "Llanquihue      517\n",
       "Frutillar       517\n",
       "Puerto Varas    517\n",
       "Name: Sector, dtype: int64"
      ]
     },
     "execution_count": 5,
     "metadata": {},
     "output_type": "execute_result"
    }
   ],
   "source": [
    "df.Sector.value_counts()"
   ]
  },
  {
   "cell_type": "markdown",
   "metadata": {},
   "source": [
    "### 2. Calculamos precios base"
   ]
  },
  {
   "cell_type": "code",
   "execution_count": 6,
   "metadata": {},
   "outputs": [],
   "source": [
    "dfp = pd.read_csv(\"output/canasta_ipc.csv\")"
   ]
  },
  {
   "cell_type": "code",
   "execution_count": 7,
   "metadata": {},
   "outputs": [
    {
     "data": {
      "text/html": [
       "<div>\n",
       "<style scoped>\n",
       "    .dataframe tbody tr th:only-of-type {\n",
       "        vertical-align: middle;\n",
       "    }\n",
       "\n",
       "    .dataframe tbody tr th {\n",
       "        vertical-align: top;\n",
       "    }\n",
       "\n",
       "    .dataframe thead th {\n",
       "        text-align: right;\n",
       "    }\n",
       "</style>\n",
       "<table border=\"1\" class=\"dataframe\">\n",
       "  <thead>\n",
       "    <tr style=\"text-align: right;\">\n",
       "      <th></th>\n",
       "      <th>Momento</th>\n",
       "      <th>Sector</th>\n",
       "      <th>Producto</th>\n",
       "      <th>Variedad</th>\n",
       "      <th>Promedio</th>\n",
       "    </tr>\n",
       "  </thead>\n",
       "  <tbody>\n",
       "    <tr>\n",
       "      <th>0</th>\n",
       "      <td>2014-08</td>\n",
       "      <td>Frutillar</td>\n",
       "      <td>Aceite</td>\n",
       "      <td>Maravilla</td>\n",
       "      <td>1807.484158</td>\n",
       "    </tr>\n",
       "    <tr>\n",
       "      <th>1</th>\n",
       "      <td>2014-09</td>\n",
       "      <td>Frutillar</td>\n",
       "      <td>Aceite</td>\n",
       "      <td>Maravilla</td>\n",
       "      <td>1680.222200</td>\n",
       "    </tr>\n",
       "    <tr>\n",
       "      <th>2</th>\n",
       "      <td>2014-10</td>\n",
       "      <td>Frutillar</td>\n",
       "      <td>Aceite</td>\n",
       "      <td>Maravilla</td>\n",
       "      <td>1651.904700</td>\n",
       "    </tr>\n",
       "    <tr>\n",
       "      <th>3</th>\n",
       "      <td>2014-11</td>\n",
       "      <td>Frutillar</td>\n",
       "      <td>Aceite</td>\n",
       "      <td>Maravilla</td>\n",
       "      <td>1807.484158</td>\n",
       "    </tr>\n",
       "    <tr>\n",
       "      <th>4</th>\n",
       "      <td>2014-12</td>\n",
       "      <td>Frutillar</td>\n",
       "      <td>Aceite</td>\n",
       "      <td>Maravilla</td>\n",
       "      <td>1807.484158</td>\n",
       "    </tr>\n",
       "  </tbody>\n",
       "</table>\n",
       "</div>"
      ],
      "text/plain": [
       "   Momento     Sector Producto   Variedad     Promedio\n",
       "0  2014-08  Frutillar   Aceite  Maravilla  1807.484158\n",
       "1  2014-09  Frutillar   Aceite  Maravilla  1680.222200\n",
       "2  2014-10  Frutillar   Aceite  Maravilla  1651.904700\n",
       "3  2014-11  Frutillar   Aceite  Maravilla  1807.484158\n",
       "4  2014-12  Frutillar   Aceite  Maravilla  1807.484158"
      ]
     },
     "execution_count": 7,
     "metadata": {},
     "output_type": "execute_result"
    }
   ],
   "source": [
    "dfp.head()"
   ]
  },
  {
   "cell_type": "code",
   "execution_count": 8,
   "metadata": {},
   "outputs": [],
   "source": [
    "df_pb = dfp[dfp.Momento==base]"
   ]
  },
  {
   "cell_type": "code",
   "execution_count": 9,
   "metadata": {},
   "outputs": [
    {
     "data": {
      "text/html": [
       "<div>\n",
       "<style scoped>\n",
       "    .dataframe tbody tr th:only-of-type {\n",
       "        vertical-align: middle;\n",
       "    }\n",
       "\n",
       "    .dataframe tbody tr th {\n",
       "        vertical-align: top;\n",
       "    }\n",
       "\n",
       "    .dataframe thead th {\n",
       "        text-align: right;\n",
       "    }\n",
       "</style>\n",
       "<table border=\"1\" class=\"dataframe\">\n",
       "  <thead>\n",
       "    <tr style=\"text-align: right;\">\n",
       "      <th></th>\n",
       "      <th>Momento</th>\n",
       "      <th>Sector</th>\n",
       "      <th>Producto</th>\n",
       "      <th>Variedad</th>\n",
       "      <th>Promedio</th>\n",
       "    </tr>\n",
       "  </thead>\n",
       "  <tbody>\n",
       "    <tr>\n",
       "      <th>24513</th>\n",
       "      <td>2014-08</td>\n",
       "      <td>Osorno</td>\n",
       "      <td>Hortaliza</td>\n",
       "      <td>Cebolla</td>\n",
       "      <td>133.666600</td>\n",
       "    </tr>\n",
       "    <tr>\n",
       "      <th>36806</th>\n",
       "      <td>2014-08</td>\n",
       "      <td>Puerto Montt</td>\n",
       "      <td>Pan</td>\n",
       "      <td>Hallulla corriente</td>\n",
       "      <td>1019.000000</td>\n",
       "    </tr>\n",
       "    <tr>\n",
       "      <th>34742</th>\n",
       "      <td>2014-08</td>\n",
       "      <td>Llanquihue</td>\n",
       "      <td>Lacteos</td>\n",
       "      <td>Queso Mantecoso</td>\n",
       "      <td>6755.682376</td>\n",
       "    </tr>\n",
       "    <tr>\n",
       "      <th>37950</th>\n",
       "      <td>2014-08</td>\n",
       "      <td>Puerto Montt</td>\n",
       "      <td>Pan</td>\n",
       "      <td>Marraqueta</td>\n",
       "      <td>1028.111100</td>\n",
       "    </tr>\n",
       "    <tr>\n",
       "      <th>29839</th>\n",
       "      <td>2014-08</td>\n",
       "      <td>Osorno</td>\n",
       "      <td>Hortaliza</td>\n",
       "      <td>Repollo</td>\n",
       "      <td>916.055500</td>\n",
       "    </tr>\n",
       "  </tbody>\n",
       "</table>\n",
       "</div>"
      ],
      "text/plain": [
       "       Momento        Sector   Producto            Variedad     Promedio\n",
       "24513  2014-08        Osorno  Hortaliza             Cebolla   133.666600\n",
       "36806  2014-08  Puerto Montt        Pan  Hallulla corriente  1019.000000\n",
       "34742  2014-08    Llanquihue    Lacteos     Queso Mantecoso  6755.682376\n",
       "37950  2014-08  Puerto Montt        Pan          Marraqueta  1028.111100\n",
       "29839  2014-08        Osorno  Hortaliza             Repollo   916.055500"
      ]
     },
     "execution_count": 9,
     "metadata": {},
     "output_type": "execute_result"
    }
   ],
   "source": [
    "df_pb.sample(5)"
   ]
  },
  {
   "cell_type": "code",
   "execution_count": 10,
   "metadata": {},
   "outputs": [
    {
     "data": {
      "text/html": [
       "<div>\n",
       "<style scoped>\n",
       "    .dataframe tbody tr th:only-of-type {\n",
       "        vertical-align: middle;\n",
       "    }\n",
       "\n",
       "    .dataframe tbody tr th {\n",
       "        vertical-align: top;\n",
       "    }\n",
       "\n",
       "    .dataframe thead th {\n",
       "        text-align: right;\n",
       "    }\n",
       "</style>\n",
       "<table border=\"1\" class=\"dataframe\">\n",
       "  <thead>\n",
       "    <tr style=\"text-align: right;\">\n",
       "      <th></th>\n",
       "      <th>Promedio</th>\n",
       "    </tr>\n",
       "    <tr>\n",
       "      <th>Producto</th>\n",
       "      <th></th>\n",
       "    </tr>\n",
       "  </thead>\n",
       "  <tbody>\n",
       "    <tr>\n",
       "      <th>Aceite</th>\n",
       "      <td>1550.660213</td>\n",
       "    </tr>\n",
       "    <tr>\n",
       "      <th>Azucar</th>\n",
       "      <td>626.972709</td>\n",
       "    </tr>\n",
       "    <tr>\n",
       "      <th>Carnes</th>\n",
       "      <td>4988.965919</td>\n",
       "    </tr>\n",
       "    <tr>\n",
       "      <th>Cereales</th>\n",
       "      <td>836.436504</td>\n",
       "    </tr>\n",
       "    <tr>\n",
       "      <th>Frutas</th>\n",
       "      <td>1436.414083</td>\n",
       "    </tr>\n",
       "    <tr>\n",
       "      <th>Harina</th>\n",
       "      <td>719.486763</td>\n",
       "    </tr>\n",
       "    <tr>\n",
       "      <th>Hortaliza</th>\n",
       "      <td>916.972072</td>\n",
       "    </tr>\n",
       "    <tr>\n",
       "      <th>Huevos</th>\n",
       "      <td>1844.462405</td>\n",
       "    </tr>\n",
       "    <tr>\n",
       "      <th>Lacteos</th>\n",
       "      <td>3281.595206</td>\n",
       "    </tr>\n",
       "    <tr>\n",
       "      <th>Legumbre</th>\n",
       "      <td>2105.174802</td>\n",
       "    </tr>\n",
       "    <tr>\n",
       "      <th>Pan</th>\n",
       "      <td>1216.912163</td>\n",
       "    </tr>\n",
       "  </tbody>\n",
       "</table>\n",
       "</div>"
      ],
      "text/plain": [
       "              Promedio\n",
       "Producto              \n",
       "Aceite     1550.660213\n",
       "Azucar      626.972709\n",
       "Carnes     4988.965919\n",
       "Cereales    836.436504\n",
       "Frutas     1436.414083\n",
       "Harina      719.486763\n",
       "Hortaliza   916.972072\n",
       "Huevos     1844.462405\n",
       "Lacteos    3281.595206\n",
       "Legumbre   2105.174802\n",
       "Pan        1216.912163"
      ]
     },
     "execution_count": 10,
     "metadata": {},
     "output_type": "execute_result"
    }
   ],
   "source": [
    "pb = df_pb.groupby([\"Producto\"]).mean()\n",
    "pb"
   ]
  },
  {
   "cell_type": "markdown",
   "metadata": {},
   "source": [
    "### 3. IPC Osorno"
   ]
  },
  {
   "cell_type": "code",
   "execution_count": 11,
   "metadata": {},
   "outputs": [],
   "source": [
    "df_osorno = df[(df.Sector==\"Osorno\") & (df.Momento > base + \"-01\")]"
   ]
  },
  {
   "cell_type": "code",
   "execution_count": 12,
   "metadata": {},
   "outputs": [
    {
     "data": {
      "text/plain": [
       "Osorno    506\n",
       "Name: Sector, dtype: int64"
      ]
     },
     "execution_count": 12,
     "metadata": {},
     "output_type": "execute_result"
    }
   ],
   "source": [
    "df_osorno.Sector.value_counts()"
   ]
  },
  {
   "cell_type": "code",
   "execution_count": 33,
   "metadata": {},
   "outputs": [],
   "source": [
    "def GetIPC(df, df_base):\n",
    "    v = []\n",
    "    for o in df.Momento:\n",
    "        ipc = 1\n",
    "        prod = df[df.Momento == o].Producto\n",
    "        for row in prod:\n",
    "            p_0 = df_base.loc[row].iloc[0]\n",
    "            p_j = df[(df.Momento == o) & (df.Producto == row)].Factor.iloc[0]\n",
    "            \n",
    "            ipc =+ ((p_j/p_0)*0.1567)\n",
    "\n",
    "        v.append({ipc*100, o})\n",
    "        \n",
    "    return pd.DataFrame(v, columns=['ipc', 'Momento'])"
   ]
  },
  {
   "cell_type": "code",
   "execution_count": 34,
   "metadata": {},
   "outputs": [],
   "source": [
    "df_ipc = GetIPC(df_osorno, pb)"
   ]
  },
  {
   "cell_type": "code",
   "execution_count": 35,
   "metadata": {},
   "outputs": [
    {
     "data": {
      "text/html": [
       "<div>\n",
       "<style scoped>\n",
       "    .dataframe tbody tr th:only-of-type {\n",
       "        vertical-align: middle;\n",
       "    }\n",
       "\n",
       "    .dataframe tbody tr th {\n",
       "        vertical-align: top;\n",
       "    }\n",
       "\n",
       "    .dataframe thead th {\n",
       "        text-align: right;\n",
       "    }\n",
       "</style>\n",
       "<table border=\"1\" class=\"dataframe\">\n",
       "  <thead>\n",
       "    <tr style=\"text-align: right;\">\n",
       "      <th></th>\n",
       "      <th>ipc</th>\n",
       "      <th>Momento</th>\n",
       "    </tr>\n",
       "  </thead>\n",
       "  <tbody>\n",
       "    <tr>\n",
       "      <th>0</th>\n",
       "      <td>0.00992842</td>\n",
       "      <td>2014-09-01</td>\n",
       "    </tr>\n",
       "    <tr>\n",
       "      <th>1</th>\n",
       "      <td>0.00999077</td>\n",
       "      <td>2014-10-01</td>\n",
       "    </tr>\n",
       "    <tr>\n",
       "      <th>2</th>\n",
       "      <td>0.0100052</td>\n",
       "      <td>2014-11-01</td>\n",
       "    </tr>\n",
       "    <tr>\n",
       "      <th>3</th>\n",
       "      <td>2014-12-01</td>\n",
       "      <td>0.0101047</td>\n",
       "    </tr>\n",
       "    <tr>\n",
       "      <th>4</th>\n",
       "      <td>2015-01-01</td>\n",
       "      <td>0.00983429</td>\n",
       "    </tr>\n",
       "  </tbody>\n",
       "</table>\n",
       "</div>"
      ],
      "text/plain": [
       "          ipc     Momento\n",
       "0  0.00992842  2014-09-01\n",
       "1  0.00999077  2014-10-01\n",
       "2   0.0100052  2014-11-01\n",
       "3  2014-12-01   0.0101047\n",
       "4  2015-01-01  0.00983429"
      ]
     },
     "execution_count": 35,
     "metadata": {},
     "output_type": "execute_result"
    }
   ],
   "source": [
    "df_ipc.head()"
   ]
  },
  {
   "cell_type": "code",
   "execution_count": 31,
   "metadata": {},
   "outputs": [
    {
     "data": {
      "text/plain": [
       "<matplotlib.axes._subplots.AxesSubplot at 0x1136093c8>"
      ]
     },
     "execution_count": 31,
     "metadata": {},
     "output_type": "execute_result"
    },
    {
     "data": {
      "image/png": "[encoded data removed]",
      "text/plain": [
       "<matplotlib.figure.Figure at 0x1133fae10>"
      ]
     },
     "metadata": {},
     "output_type": "display_data"
    }
   ],
   "source": [
    "df_ipc.plot(kind=\"bar\")"
   ]
  },
  {
   "cell_type": "code",
   "execution_count": null,
   "metadata": {},
   "outputs": [],
   "source": []
  }
 ],
 "metadata": {
  "kernelspec": {
   "display_name": "Python 3",
   "language": "python",
   "name": "python3"
  },
  "language_info": {
   "codemirror_mode": {
    "name": "ipython",
    "version": 3
   },
   "file_extension": ".py",
   "mimetype": "text/x-python",
   "name": "python",
   "nbconvert_exporter": "python",
   "pygments_lexer": "ipython3",
   "version": "3.6.4"
  }
 },
 "nbformat": 4,
 "nbformat_minor": 2
}
