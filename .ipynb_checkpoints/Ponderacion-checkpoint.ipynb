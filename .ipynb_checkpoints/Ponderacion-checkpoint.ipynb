{
 "cells": [
  {
   "cell_type": "markdown",
   "metadata": {},
   "source": [
    "# Ponderación"
   ]
  },
  {
   "cell_type": "code",
   "execution_count": 1,
   "metadata": {},
   "outputs": [],
   "source": [
    "import pandas as pd"
   ]
  },
  {
   "cell_type": "code",
   "execution_count": 2,
   "metadata": {},
   "outputs": [],
   "source": [
    "df_ine = pd.read_excel('input/ipc_producto_historico_julio2018.xlsx', header=3)"
   ]
  },
  {
   "cell_type": "code",
   "execution_count": 3,
   "metadata": {},
   "outputs": [
    {
     "data": {
      "text/html": [
       "<div>\n",
       "<style scoped>\n",
       "    .dataframe tbody tr th:only-of-type {\n",
       "        vertical-align: middle;\n",
       "    }\n",
       "\n",
       "    .dataframe tbody tr th {\n",
       "        vertical-align: top;\n",
       "    }\n",
       "\n",
       "    .dataframe thead th {\n",
       "        text-align: right;\n",
       "    }\n",
       "</style>\n",
       "<table border=\"1\" class=\"dataframe\">\n",
       "  <thead>\n",
       "    <tr style=\"text-align: right;\">\n",
       "      <th></th>\n",
       "      <th>DIVISIÓN</th>\n",
       "      <th>GRUPO</th>\n",
       "      <th>CLASE</th>\n",
       "      <th>SUBCLASE</th>\n",
       "      <th>PRODUCTO</th>\n",
       "      <th>PONDERACIÓN</th>\n",
       "      <th>GLOSA</th>\n",
       "      <th>2014-01-01 00:00:00</th>\n",
       "      <th>2014-02-01 00:00:00</th>\n",
       "      <th>2014-03-01 00:00:00</th>\n",
       "      <th>...</th>\n",
       "      <th>2018-03-01 00:00:00</th>\n",
       "      <th>2018-04-01 00:00:00</th>\n",
       "      <th>2018-05-01 00:00:00</th>\n",
       "      <th>2018-06-01 00:00:00</th>\n",
       "      <th>2018-07-01 00:00:00</th>\n",
       "      <th>2018-08-01 00:00:00</th>\n",
       "      <th>2018-09-01 00:00:00</th>\n",
       "      <th>2018-10-01 00:00:00</th>\n",
       "      <th>2018-11-01 00:00:00</th>\n",
       "      <th>2018-12-01 00:00:00</th>\n",
       "    </tr>\n",
       "  </thead>\n",
       "  <tbody>\n",
       "    <tr>\n",
       "      <th>0</th>\n",
       "      <td>1</td>\n",
       "      <td>1</td>\n",
       "      <td>1</td>\n",
       "      <td>1</td>\n",
       "      <td>1</td>\n",
       "      <td>0.20255</td>\n",
       "      <td>ARROZ</td>\n",
       "      <td>99.95</td>\n",
       "      <td>99.98</td>\n",
       "      <td>100.76</td>\n",
       "      <td>...</td>\n",
       "      <td>133.84</td>\n",
       "      <td>134.98</td>\n",
       "      <td>134.08</td>\n",
       "      <td>133.72</td>\n",
       "      <td>133.66</td>\n",
       "      <td>NaN</td>\n",
       "      <td>NaN</td>\n",
       "      <td>NaN</td>\n",
       "      <td>NaN</td>\n",
       "      <td>NaN</td>\n",
       "    </tr>\n",
       "    <tr>\n",
       "      <th>1</th>\n",
       "      <td>1</td>\n",
       "      <td>1</td>\n",
       "      <td>1</td>\n",
       "      <td>2</td>\n",
       "      <td>1</td>\n",
       "      <td>0.09708</td>\n",
       "      <td>HARINA</td>\n",
       "      <td>101.06</td>\n",
       "      <td>101.65</td>\n",
       "      <td>102.79</td>\n",
       "      <td>...</td>\n",
       "      <td>115.61</td>\n",
       "      <td>116.14</td>\n",
       "      <td>116.17</td>\n",
       "      <td>116.65</td>\n",
       "      <td>115.41</td>\n",
       "      <td>NaN</td>\n",
       "      <td>NaN</td>\n",
       "      <td>NaN</td>\n",
       "      <td>NaN</td>\n",
       "      <td>NaN</td>\n",
       "    </tr>\n",
       "  </tbody>\n",
       "</table>\n",
       "<p>2 rows × 67 columns</p>\n",
       "</div>"
      ],
      "text/plain": [
       "   DIVISIÓN  GRUPO  CLASE  SUBCLASE  PRODUCTO  PONDERACIÓN   GLOSA  \\\n",
       "0         1      1      1         1         1      0.20255   ARROZ   \n",
       "1         1      1      1         2         1      0.09708  HARINA   \n",
       "\n",
       "   2014-01-01 00:00:00  2014-02-01 00:00:00  2014-03-01 00:00:00  \\\n",
       "0                99.95                99.98               100.76   \n",
       "1               101.06               101.65               102.79   \n",
       "\n",
       "          ...           2018-03-01 00:00:00  2018-04-01 00:00:00  \\\n",
       "0         ...                        133.84               134.98   \n",
       "1         ...                        115.61               116.14   \n",
       "\n",
       "   2018-05-01 00:00:00  2018-06-01 00:00:00  2018-07-01 00:00:00  \\\n",
       "0               134.08               133.72               133.66   \n",
       "1               116.17               116.65               115.41   \n",
       "\n",
       "   2018-08-01 00:00:00  2018-09-01 00:00:00  2018-10-01 00:00:00  \\\n",
       "0                  NaN                  NaN                  NaN   \n",
       "1                  NaN                  NaN                  NaN   \n",
       "\n",
       "   2018-11-01 00:00:00  2018-12-01 00:00:00  \n",
       "0                  NaN                  NaN  \n",
       "1                  NaN                  NaN  \n",
       "\n",
       "[2 rows x 67 columns]"
      ]
     },
     "execution_count": 3,
     "metadata": {},
     "output_type": "execute_result"
    }
   ],
   "source": [
    "df_ine.head(2)"
   ]
  },
  {
   "cell_type": "code",
   "execution_count": 4,
   "metadata": {},
   "outputs": [],
   "source": [
    "df_ine = df_ine[['PONDERACIÓN', 'GLOSA']]\n",
    "df_ine.columns = [['Ponderacion', 'Producto_INE']]"
   ]
  },
  {
   "cell_type": "code",
   "execution_count": 5,
   "metadata": {},
   "outputs": [
    {
     "data": {
      "text/plain": [
       "321"
      ]
     },
     "execution_count": 5,
     "metadata": {},
     "output_type": "execute_result"
    }
   ],
   "source": [
    "len(df_ine)"
   ]
  },
  {
   "cell_type": "code",
   "execution_count": 6,
   "metadata": {},
   "outputs": [
    {
     "data": {
      "text/html": [
       "<div>\n",
       "<style scoped>\n",
       "    .dataframe tbody tr th:only-of-type {\n",
       "        vertical-align: middle;\n",
       "    }\n",
       "\n",
       "    .dataframe tbody tr th {\n",
       "        vertical-align: top;\n",
       "    }\n",
       "\n",
       "    .dataframe thead tr th {\n",
       "        text-align: left;\n",
       "    }\n",
       "</style>\n",
       "<table border=\"1\" class=\"dataframe\">\n",
       "  <thead>\n",
       "    <tr>\n",
       "      <th></th>\n",
       "      <th>Ponderacion</th>\n",
       "      <th>Producto_INE</th>\n",
       "    </tr>\n",
       "  </thead>\n",
       "  <tbody>\n",
       "    <tr>\n",
       "      <th>0</th>\n",
       "      <td>0.20255</td>\n",
       "      <td>ARROZ</td>\n",
       "    </tr>\n",
       "    <tr>\n",
       "      <th>1</th>\n",
       "      <td>0.09708</td>\n",
       "      <td>HARINA</td>\n",
       "    </tr>\n",
       "    <tr>\n",
       "      <th>2</th>\n",
       "      <td>0.18699</td>\n",
       "      <td>CEREAL</td>\n",
       "    </tr>\n",
       "    <tr>\n",
       "      <th>3</th>\n",
       "      <td>2.09319</td>\n",
       "      <td>PAN</td>\n",
       "    </tr>\n",
       "  </tbody>\n",
       "</table>\n",
       "</div>"
      ],
      "text/plain": [
       "  Ponderacion Producto_INE\n",
       "0     0.20255        ARROZ\n",
       "1     0.09708       HARINA\n",
       "2     0.18699       CEREAL\n",
       "3     2.09319          PAN"
      ]
     },
     "execution_count": 6,
     "metadata": {},
     "output_type": "execute_result"
    }
   ],
   "source": [
    "df_ine.loc[0:3,:]"
   ]
  },
  {
   "cell_type": "code",
   "execution_count": 7,
   "metadata": {},
   "outputs": [],
   "source": [
    "df_ine['Producto'] = df_ine['Producto_INE'].replace({'ARROZ':'Cereales',\n",
    "                                                     'HARINA':'Harina',\n",
    "                                                     'CEREAL':'Cereales',\n",
    "                                                     'PAN':'Pan',\n",
    "                                                     'PASTAS':'Cereales',\n",
    "                                                     'CARNE DE VACUNO':'Carnes',\n",
    "                                                     'CARNE DE CERDO':'Carnes',\n",
    "                                                     'CARNE DE PAVO':'Carnes',\n",
    "                                                     'CARNE DE POLLO':'Carnes',\n",
    "                                                     'CECINAS':'Carnes',\n",
    "                                                     'HAMBURGUESA':'Carnes',\n",
    "                                                     'LECHE EN POLVO':'Lacteos',\n",
    "                                                     'LECHE LÍQUIDA':'Lacteos',\n",
    "                                                     'LECHE CONSERVADA':'Lacteos',\n",
    "                                                     'YOGHURT':'Lacteos',\n",
    "                                                     'POSTRES LÁCTEOS':'Lacteos',\n",
    "                                                     'QUESO':'Lacteos',\n",
    "                                                     'HUEVOS':'Huevos',\n",
    "                                                     'MANTEQUILLA':'Lacteos',\n",
    "                                                     'MARGARINA':'Lacteos',\n",
    "                                                     'ACEITE VEGETAL':'Aceite',\n",
    "                                                     'MANZANA':'Frutas',\n",
    "                                                     'NARANJA':'Frutas',\n",
    "                                                     'PERA':'Frutas',\n",
    "                                                     'PLÁTANO':'Frutas',\n",
    "                                                     'FRUTAS DE ESTACIÓN':'Frutas',\n",
    "                                                     'ACELGA Y ESPINACA':'Hortaliza',\n",
    "                                                     'CEBOLLA Y CEBOLLÍN':'Hortaliza',\n",
    "                                                     'LECHUGA':'Hortaliza',\n",
    "                                                     'LIMÓN':'Frutas',\n",
    "                                                     'PALTA':'Frutas',\n",
    "                                                     'TOMATE':'Hortaliza',\n",
    "                                                     'ZANAHORIA':'Hortaliza',\n",
    "                                                     'ZAPALLO':'Hortaliza',\n",
    "                                                     'ZAPALLO ITALIANO':'Hortaliza',\n",
    "                                                     'VERDURAS DE ESTACIÓN':'Hortaliza',\n",
    "                                                     'LEGUMBRES':'Legumbre',\n",
    "                                                     'PAPA':'Hortaliza',\n",
    "                                                     'AZÚCAR':'Azucar'})"
   ]
  },
  {
   "cell_type": "code",
   "execution_count": 8,
   "metadata": {},
   "outputs": [],
   "source": [
    "productos = ['ARROZ','HARINA','CEREAL','PAN','PASTAS','CARNE DE VACUNO','CARNE DE CERDO','CARNE DE PAVO','CARNE DE POLLO','CECINAS','HAMBURGUESA','LECHE EN POLVO','LECHE LÍQUIDA',\n",
    "            'LECHE CONSERVADA','YOGHURT','POSTRES LÁCTEOS','QUESO','HUEVOS','MANTEQUILLA','MARGARINA','ACEITE VEGETAL','MANZANA','NARANJA','PERA','PLÁTANO','FRUTAS DE ESTACIÓN','ACELGA Y ESPINACA',\n",
    "            'CEBOLLA Y CEBOLLÍN','LECHUGA','LIMÓN','PALTA','TOMATE','ZANAHORIA','ZAPALLO','ZAPALLO ITALIANO','VERDURAS DE ESTACIÓN','LEGUMBRES','PAPA','AZÚCAR']"
   ]
  },
  {
   "cell_type": "code",
   "execution_count": 9,
   "metadata": {},
   "outputs": [
    {
     "data": {
      "text/html": [
       "<div>\n",
       "<style scoped>\n",
       "    .dataframe tbody tr th:only-of-type {\n",
       "        vertical-align: middle;\n",
       "    }\n",
       "\n",
       "    .dataframe tbody tr th {\n",
       "        vertical-align: top;\n",
       "    }\n",
       "\n",
       "    .dataframe thead tr th {\n",
       "        text-align: left;\n",
       "    }\n",
       "</style>\n",
       "<table border=\"1\" class=\"dataframe\">\n",
       "  <thead>\n",
       "    <tr>\n",
       "      <th></th>\n",
       "      <th>Ponderacion</th>\n",
       "      <th>Producto_INE</th>\n",
       "      <th>Producto</th>\n",
       "    </tr>\n",
       "  </thead>\n",
       "  <tbody>\n",
       "    <tr>\n",
       "      <th>0</th>\n",
       "      <td>0.20255</td>\n",
       "      <td>ARROZ</td>\n",
       "      <td>Cereales</td>\n",
       "    </tr>\n",
       "    <tr>\n",
       "      <th>1</th>\n",
       "      <td>0.09708</td>\n",
       "      <td>HARINA</td>\n",
       "      <td>Harinas</td>\n",
       "    </tr>\n",
       "    <tr>\n",
       "      <th>2</th>\n",
       "      <td>0.18699</td>\n",
       "      <td>CEREAL</td>\n",
       "      <td>Cereales</td>\n",
       "    </tr>\n",
       "    <tr>\n",
       "      <th>3</th>\n",
       "      <td>2.09319</td>\n",
       "      <td>PAN</td>\n",
       "      <td>Pan</td>\n",
       "    </tr>\n",
       "    <tr>\n",
       "      <th>4</th>\n",
       "      <td>0.36509</td>\n",
       "      <td>GALLETA</td>\n",
       "      <td>GALLETA</td>\n",
       "    </tr>\n",
       "  </tbody>\n",
       "</table>\n",
       "</div>"
      ],
      "text/plain": [
       "  Ponderacion Producto_INE  Producto\n",
       "0     0.20255        ARROZ  Cereales\n",
       "1     0.09708       HARINA   Harinas\n",
       "2     0.18699       CEREAL  Cereales\n",
       "3     2.09319          PAN       Pan\n",
       "4     0.36509      GALLETA   GALLETA"
      ]
     },
     "execution_count": 9,
     "metadata": {},
     "output_type": "execute_result"
    }
   ],
   "source": [
    "df_ine.head()"
   ]
  },
  {
   "cell_type": "code",
   "execution_count": 10,
   "metadata": {},
   "outputs": [],
   "source": [
    "productos = ['ARROZ','HARINA','CEREAL','PAN','PASTAS','CARNE DE VACUNO','CARNE DE CERDO','CARNE DE PAVO','CARNE DE POLLO','CECINAS','HAMBURGUESA','LECHE EN POLVO','LECHE LÍQUIDA',\n",
    "            'LECHE CONSERVADA','YOGHURT','POSTRES LÁCTEOS','QUESO','HUEVOS','MANTEQUILLA','MARGARINA','ACEITE VEGETAL','MANZANA','NARANJA','PERA','PLÁTANO','FRUTAS DE ESTACIÓN','ACELGA Y ESPINACA',\n",
    "            'CEBOLLA Y CEBOLLÍN','LECHUGA','LIMÓN','PALTA','TOMATE','ZANAHORIA','ZAPALLO','ZAPALLO ITALIANO','VERDURAS DE ESTACIÓN','LEGUMBRES','PAPA','AZÚCAR']\n",
    "\n",
    "def cleanup(row):\n",
    "    global productos\n",
    "    if row['Producto_INE'].isin(productos).iloc[0] == True:\n",
    "        return 'Mantener'\n",
    "    else:\n",
    "        return 'Desechar'"
   ]
  },
  {
   "cell_type": "code",
   "execution_count": 11,
   "metadata": {},
   "outputs": [],
   "source": [
    "df_ine['Accion'] = df_ine.apply(cleanup, axis=1)"
   ]
  },
  {
   "cell_type": "code",
   "execution_count": 12,
   "metadata": {},
   "outputs": [],
   "source": [
    "df_ine.to_csv(\"output/ponderados.csv\", index=False)"
   ]
  },
  {
   "cell_type": "code",
   "execution_count": 13,
   "metadata": {},
   "outputs": [],
   "source": [
    "df = pd.read_csv(\"output/ponderados.csv\")"
   ]
  },
  {
   "cell_type": "code",
   "execution_count": 14,
   "metadata": {},
   "outputs": [
    {
     "data": {
      "text/html": [
       "<div>\n",
       "<style scoped>\n",
       "    .dataframe tbody tr th:only-of-type {\n",
       "        vertical-align: middle;\n",
       "    }\n",
       "\n",
       "    .dataframe tbody tr th {\n",
       "        vertical-align: top;\n",
       "    }\n",
       "\n",
       "    .dataframe thead th {\n",
       "        text-align: right;\n",
       "    }\n",
       "</style>\n",
       "<table border=\"1\" class=\"dataframe\">\n",
       "  <thead>\n",
       "    <tr style=\"text-align: right;\">\n",
       "      <th></th>\n",
       "      <th>Ponderacion</th>\n",
       "      <th>Producto_INE</th>\n",
       "      <th>Producto</th>\n",
       "      <th>Accion</th>\n",
       "    </tr>\n",
       "  </thead>\n",
       "  <tbody>\n",
       "    <tr>\n",
       "      <th>0</th>\n",
       "      <td>0.20255</td>\n",
       "      <td>ARROZ</td>\n",
       "      <td>Cereales</td>\n",
       "      <td>Mantener</td>\n",
       "    </tr>\n",
       "    <tr>\n",
       "      <th>1</th>\n",
       "      <td>0.09708</td>\n",
       "      <td>HARINA</td>\n",
       "      <td>Harinas</td>\n",
       "      <td>Mantener</td>\n",
       "    </tr>\n",
       "    <tr>\n",
       "      <th>2</th>\n",
       "      <td>0.18699</td>\n",
       "      <td>CEREAL</td>\n",
       "      <td>Cereales</td>\n",
       "      <td>Mantener</td>\n",
       "    </tr>\n",
       "    <tr>\n",
       "      <th>3</th>\n",
       "      <td>2.09319</td>\n",
       "      <td>PAN</td>\n",
       "      <td>Pan</td>\n",
       "      <td>Mantener</td>\n",
       "    </tr>\n",
       "    <tr>\n",
       "      <th>4</th>\n",
       "      <td>0.36509</td>\n",
       "      <td>GALLETA</td>\n",
       "      <td>GALLETA</td>\n",
       "      <td>Desechar</td>\n",
       "    </tr>\n",
       "  </tbody>\n",
       "</table>\n",
       "</div>"
      ],
      "text/plain": [
       "   Ponderacion Producto_INE  Producto    Accion\n",
       "0      0.20255        ARROZ  Cereales  Mantener\n",
       "1      0.09708       HARINA   Harinas  Mantener\n",
       "2      0.18699       CEREAL  Cereales  Mantener\n",
       "3      2.09319          PAN       Pan  Mantener\n",
       "4      0.36509      GALLETA   GALLETA  Desechar"
      ]
     },
     "execution_count": 14,
     "metadata": {},
     "output_type": "execute_result"
    }
   ],
   "source": [
    "df.head(5)"
   ]
  },
  {
   "cell_type": "code",
   "execution_count": 15,
   "metadata": {},
   "outputs": [
    {
     "data": {
      "text/plain": [
       "Desechar    282\n",
       "Mantener     39\n",
       "Name: Accion, dtype: int64"
      ]
     },
     "execution_count": 15,
     "metadata": {},
     "output_type": "execute_result"
    }
   ],
   "source": [
    "df.Accion.value_counts()"
   ]
  },
  {
   "cell_type": "code",
   "execution_count": 16,
   "metadata": {},
   "outputs": [],
   "source": [
    "df = df[df.Accion==\"Mantener\"]"
   ]
  },
  {
   "cell_type": "code",
   "execution_count": 17,
   "metadata": {},
   "outputs": [],
   "source": [
    "df.drop(['Producto_INE','Accion'], axis=1, inplace=True)"
   ]
  },
  {
   "cell_type": "code",
   "execution_count": 18,
   "metadata": {},
   "outputs": [
    {
     "data": {
      "text/plain": [
       "Hortaliza    9\n",
       "Lacteos      8\n",
       "Frutas       7\n",
       "Carnes       6\n",
       "Cereales     3\n",
       "Harinas      1\n",
       "Aceite       1\n",
       "Legumbre     1\n",
       "Pan          1\n",
       "Huevos       1\n",
       "Azucar       1\n",
       "Name: Producto, dtype: int64"
      ]
     },
     "execution_count": 18,
     "metadata": {},
     "output_type": "execute_result"
    }
   ],
   "source": [
    "df.Producto.value_counts()"
   ]
  },
  {
   "cell_type": "code",
   "execution_count": 19,
   "metadata": {},
   "outputs": [],
   "source": [
    "df = df.groupby(['Producto']).sum()"
   ]
  },
  {
   "cell_type": "code",
   "execution_count": 20,
   "metadata": {},
   "outputs": [
    {
     "data": {
      "text/plain": [
       "Ponderacion    13.35292\n",
       "dtype: float64"
      ]
     },
     "execution_count": 20,
     "metadata": {},
     "output_type": "execute_result"
    }
   ],
   "source": [
    "df.sum(axis=0)"
   ]
  },
  {
   "cell_type": "code",
   "execution_count": 21,
   "metadata": {},
   "outputs": [
    {
     "data": {
      "text/plain": [
       "Ponderacion    100.0\n",
       "dtype: float64"
      ]
     },
     "execution_count": 21,
     "metadata": {},
     "output_type": "execute_result"
    }
   ],
   "source": [
    "df_ine.Ponderacion.sum(axis=0)"
   ]
  },
  {
   "cell_type": "code",
   "execution_count": 22,
   "metadata": {},
   "outputs": [
    {
     "data": {
      "text/html": [
       "<div>\n",
       "<style scoped>\n",
       "    .dataframe tbody tr th:only-of-type {\n",
       "        vertical-align: middle;\n",
       "    }\n",
       "\n",
       "    .dataframe tbody tr th {\n",
       "        vertical-align: top;\n",
       "    }\n",
       "\n",
       "    .dataframe thead th {\n",
       "        text-align: right;\n",
       "    }\n",
       "</style>\n",
       "<table border=\"1\" class=\"dataframe\">\n",
       "  <thead>\n",
       "    <tr style=\"text-align: right;\">\n",
       "      <th></th>\n",
       "      <th>Ponderacion</th>\n",
       "    </tr>\n",
       "    <tr>\n",
       "      <th>Producto</th>\n",
       "      <th></th>\n",
       "    </tr>\n",
       "  </thead>\n",
       "  <tbody>\n",
       "    <tr>\n",
       "      <th>Aceite</th>\n",
       "      <td>0.34550</td>\n",
       "    </tr>\n",
       "    <tr>\n",
       "      <th>Azucar</th>\n",
       "      <td>0.18716</td>\n",
       "    </tr>\n",
       "    <tr>\n",
       "      <th>Carnes</th>\n",
       "      <td>4.38211</td>\n",
       "    </tr>\n",
       "    <tr>\n",
       "      <th>Cereales</th>\n",
       "      <td>0.67947</td>\n",
       "    </tr>\n",
       "    <tr>\n",
       "      <th>Frutas</th>\n",
       "      <td>1.18325</td>\n",
       "    </tr>\n",
       "    <tr>\n",
       "      <th>Harinas</th>\n",
       "      <td>0.09708</td>\n",
       "    </tr>\n",
       "    <tr>\n",
       "      <th>Hortaliza</th>\n",
       "      <td>1.69038</td>\n",
       "    </tr>\n",
       "    <tr>\n",
       "      <th>Huevos</th>\n",
       "      <td>0.33391</td>\n",
       "    </tr>\n",
       "    <tr>\n",
       "      <th>Lacteos</th>\n",
       "      <td>2.22952</td>\n",
       "    </tr>\n",
       "    <tr>\n",
       "      <th>Legumbre</th>\n",
       "      <td>0.13135</td>\n",
       "    </tr>\n",
       "    <tr>\n",
       "      <th>Pan</th>\n",
       "      <td>2.09319</td>\n",
       "    </tr>\n",
       "  </tbody>\n",
       "</table>\n",
       "</div>"
      ],
      "text/plain": [
       "           Ponderacion\n",
       "Producto              \n",
       "Aceite         0.34550\n",
       "Azucar         0.18716\n",
       "Carnes         4.38211\n",
       "Cereales       0.67947\n",
       "Frutas         1.18325\n",
       "Harinas        0.09708\n",
       "Hortaliza      1.69038\n",
       "Huevos         0.33391\n",
       "Lacteos        2.22952\n",
       "Legumbre       0.13135\n",
       "Pan            2.09319"
      ]
     },
     "execution_count": 22,
     "metadata": {},
     "output_type": "execute_result"
    }
   ],
   "source": [
    "df"
   ]
  },
  {
   "cell_type": "code",
   "execution_count": 23,
   "metadata": {},
   "outputs": [],
   "source": [
    "suma_antes = df.sum(axis=0)"
   ]
  },
  {
   "cell_type": "code",
   "execution_count": 24,
   "metadata": {},
   "outputs": [],
   "source": [
    "df['Ponderacion_Nueva'] =  df['Ponderacion'] / 13.35292"
   ]
  },
  {
   "cell_type": "code",
   "execution_count": 25,
   "metadata": {},
   "outputs": [
    {
     "data": {
      "text/html": [
       "<div>\n",
       "<style scoped>\n",
       "    .dataframe tbody tr th:only-of-type {\n",
       "        vertical-align: middle;\n",
       "    }\n",
       "\n",
       "    .dataframe tbody tr th {\n",
       "        vertical-align: top;\n",
       "    }\n",
       "\n",
       "    .dataframe thead th {\n",
       "        text-align: right;\n",
       "    }\n",
       "</style>\n",
       "<table border=\"1\" class=\"dataframe\">\n",
       "  <thead>\n",
       "    <tr style=\"text-align: right;\">\n",
       "      <th></th>\n",
       "      <th>Ponderacion</th>\n",
       "      <th>Ponderacion_Nueva</th>\n",
       "    </tr>\n",
       "    <tr>\n",
       "      <th>Producto</th>\n",
       "      <th></th>\n",
       "      <th></th>\n",
       "    </tr>\n",
       "  </thead>\n",
       "  <tbody>\n",
       "    <tr>\n",
       "      <th>Aceite</th>\n",
       "      <td>0.34550</td>\n",
       "      <td>0.025874</td>\n",
       "    </tr>\n",
       "    <tr>\n",
       "      <th>Azucar</th>\n",
       "      <td>0.18716</td>\n",
       "      <td>0.014016</td>\n",
       "    </tr>\n",
       "    <tr>\n",
       "      <th>Carnes</th>\n",
       "      <td>4.38211</td>\n",
       "      <td>0.328176</td>\n",
       "    </tr>\n",
       "    <tr>\n",
       "      <th>Cereales</th>\n",
       "      <td>0.67947</td>\n",
       "      <td>0.050885</td>\n",
       "    </tr>\n",
       "    <tr>\n",
       "      <th>Frutas</th>\n",
       "      <td>1.18325</td>\n",
       "      <td>0.088614</td>\n",
       "    </tr>\n",
       "    <tr>\n",
       "      <th>Harinas</th>\n",
       "      <td>0.09708</td>\n",
       "      <td>0.007270</td>\n",
       "    </tr>\n",
       "    <tr>\n",
       "      <th>Hortaliza</th>\n",
       "      <td>1.69038</td>\n",
       "      <td>0.126593</td>\n",
       "    </tr>\n",
       "    <tr>\n",
       "      <th>Huevos</th>\n",
       "      <td>0.33391</td>\n",
       "      <td>0.025007</td>\n",
       "    </tr>\n",
       "    <tr>\n",
       "      <th>Lacteos</th>\n",
       "      <td>2.22952</td>\n",
       "      <td>0.166969</td>\n",
       "    </tr>\n",
       "    <tr>\n",
       "      <th>Legumbre</th>\n",
       "      <td>0.13135</td>\n",
       "      <td>0.009837</td>\n",
       "    </tr>\n",
       "    <tr>\n",
       "      <th>Pan</th>\n",
       "      <td>2.09319</td>\n",
       "      <td>0.156759</td>\n",
       "    </tr>\n",
       "  </tbody>\n",
       "</table>\n",
       "</div>"
      ],
      "text/plain": [
       "           Ponderacion  Ponderacion_Nueva\n",
       "Producto                                 \n",
       "Aceite         0.34550           0.025874\n",
       "Azucar         0.18716           0.014016\n",
       "Carnes         4.38211           0.328176\n",
       "Cereales       0.67947           0.050885\n",
       "Frutas         1.18325           0.088614\n",
       "Harinas        0.09708           0.007270\n",
       "Hortaliza      1.69038           0.126593\n",
       "Huevos         0.33391           0.025007\n",
       "Lacteos        2.22952           0.166969\n",
       "Legumbre       0.13135           0.009837\n",
       "Pan            2.09319           0.156759"
      ]
     },
     "execution_count": 25,
     "metadata": {},
     "output_type": "execute_result"
    }
   ],
   "source": [
    "df"
   ]
  },
  {
   "cell_type": "code",
   "execution_count": 26,
   "metadata": {},
   "outputs": [
    {
     "data": {
      "text/plain": [
       "Ponderacion          13.35292\n",
       "Ponderacion_Nueva     1.00000\n",
       "dtype: float64"
      ]
     },
     "execution_count": 26,
     "metadata": {},
     "output_type": "execute_result"
    }
   ],
   "source": [
    "df.sum(axis=0)"
   ]
  },
  {
   "cell_type": "code",
   "execution_count": null,
   "metadata": {},
   "outputs": [],
   "source": [
    "df.rename"
   ]
  },
  {
   "cell_type": "code",
   "execution_count": 31,
   "metadata": {},
   "outputs": [],
   "source": [
    "df.reset_index(inplace=True)"
   ]
  },
  {
   "cell_type": "code",
   "execution_count": 32,
   "metadata": {},
   "outputs": [],
   "source": [
    "df.to_csv(\"output/w_ponderados.csv\", index=False)"
   ]
  },
  {
   "cell_type": "code",
   "execution_count": null,
   "metadata": {},
   "outputs": [],
   "source": []
  },
  {
   "cell_type": "code",
   "execution_count": null,
   "metadata": {},
   "outputs": [],
   "source": []
  },
  {
   "cell_type": "code",
   "execution_count": null,
   "metadata": {},
   "outputs": [],
   "source": []
  }
 ],
 "metadata": {
  "kernelspec": {
   "display_name": "Python 3",
   "language": "python",
   "name": "python3"
  },
  "language_info": {
   "codemirror_mode": {
    "name": "ipython",
    "version": 3
   },
   "file_extension": ".py",
   "mimetype": "text/x-python",
   "name": "python",
   "nbconvert_exporter": "python",
   "pygments_lexer": "ipython3",
   "version": "3.6.4"
  }
 },
 "nbformat": 4,
 "nbformat_minor": 2
}
