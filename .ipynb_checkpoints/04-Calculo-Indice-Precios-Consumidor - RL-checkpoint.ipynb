{
 "cells": [
  {
   "cell_type": "markdown",
   "metadata": {},
   "source": [
    "# Universidad del Desarrollo\n",
    "## Magister Data Science - Macroeconomía\n",
    "### Grupo N°2: (Región de los Lagos)\n",
    "* Jose Pedro\n",
    "* Cristian\n",
    "* Paul\n",
    "* Max\n",
    "* Hernan\n",
    "\n",
    "## Calculo Indice Precios al Consumidor"
   ]
  },
  {
   "cell_type": "markdown",
   "metadata": {},
   "source": [
    "**Objetivo**\n",
    "\n",
    "El objetivo de este notebook es el calculo de IPC según el siguiente algortimo.\n",
    "\n"
   ]
  },
  {
   "cell_type": "markdown",
   "metadata": {},
   "source": [
    "$ \n",
    "\\begin{equation*}\n",
    "IPC_t   = |\\sum_{k=1}^N \\frac{p_i^t}{p_i^0} w_i| * 100\n",
    "\\end{equation*} \n",
    "$"
   ]
  },
  {
   "cell_type": "markdown",
   "metadata": {},
   "source": [
    "Donde:\n",
    "* $ p_i^t $ = Precio del producto i en el momento t\n",
    "* $ p_i^0 $ = Precio del producto 0 en el mes base **(2014/08=100)**\n",
    "* $ w_i   $ = Ponderación del producto i en la canasta\n",
    "* N = Numero de productos"
   ]
  },
  {
   "cell_type": "code",
   "execution_count": 1,
   "metadata": {},
   "outputs": [],
   "source": [
    "import pandas as pd\n",
    "import numpy as np\n",
    "import calendar\n",
    "import datetime\n",
    "\n",
    "%matplotlib inline"
   ]
  },
  {
   "cell_type": "code",
   "execution_count": 23,
   "metadata": {},
   "outputs": [],
   "source": [
    "base = \"2014-08\""
   ]
  },
  {
   "cell_type": "markdown",
   "metadata": {},
   "source": [
    "### 1. Se cargan el dataset de productos"
   ]
  },
  {
   "cell_type": "code",
   "execution_count": 16,
   "metadata": {},
   "outputs": [],
   "source": [
    "df = pd.read_csv('output/precios_productos.csv')"
   ]
  },
  {
   "cell_type": "code",
   "execution_count": 17,
   "metadata": {},
   "outputs": [
    {
     "data": {
      "text/html": [
       "<div>\n",
       "<style scoped>\n",
       "    .dataframe tbody tr th:only-of-type {\n",
       "        vertical-align: middle;\n",
       "    }\n",
       "\n",
       "    .dataframe tbody tr th {\n",
       "        vertical-align: top;\n",
       "    }\n",
       "\n",
       "    .dataframe thead th {\n",
       "        text-align: right;\n",
       "    }\n",
       "</style>\n",
       "<table border=\"1\" class=\"dataframe\">\n",
       "  <thead>\n",
       "    <tr style=\"text-align: right;\">\n",
       "      <th></th>\n",
       "      <th>Momento</th>\n",
       "      <th>Sector</th>\n",
       "      <th>Producto</th>\n",
       "      <th>Factor</th>\n",
       "    </tr>\n",
       "  </thead>\n",
       "  <tbody>\n",
       "    <tr>\n",
       "      <th>0</th>\n",
       "      <td>2014-08-01</td>\n",
       "      <td>Frutillar</td>\n",
       "      <td>Legumbre</td>\n",
       "      <td>1.0</td>\n",
       "    </tr>\n",
       "    <tr>\n",
       "      <th>1</th>\n",
       "      <td>2014-08-01</td>\n",
       "      <td>Llanquihue</td>\n",
       "      <td>Legumbre</td>\n",
       "      <td>1.0</td>\n",
       "    </tr>\n",
       "    <tr>\n",
       "      <th>2</th>\n",
       "      <td>2014-08-01</td>\n",
       "      <td>Osorno</td>\n",
       "      <td>Legumbre</td>\n",
       "      <td>1.0</td>\n",
       "    </tr>\n",
       "    <tr>\n",
       "      <th>3</th>\n",
       "      <td>2014-08-01</td>\n",
       "      <td>Puerto Montt</td>\n",
       "      <td>Legumbre</td>\n",
       "      <td>1.0</td>\n",
       "    </tr>\n",
       "    <tr>\n",
       "      <th>4</th>\n",
       "      <td>2014-08-01</td>\n",
       "      <td>Puerto Varas</td>\n",
       "      <td>Legumbre</td>\n",
       "      <td>1.0</td>\n",
       "    </tr>\n",
       "  </tbody>\n",
       "</table>\n",
       "</div>"
      ],
      "text/plain": [
       "      Momento        Sector  Producto  Factor\n",
       "0  2014-08-01     Frutillar  Legumbre     1.0\n",
       "1  2014-08-01    Llanquihue  Legumbre     1.0\n",
       "2  2014-08-01        Osorno  Legumbre     1.0\n",
       "3  2014-08-01  Puerto Montt  Legumbre     1.0\n",
       "4  2014-08-01  Puerto Varas  Legumbre     1.0"
      ]
     },
     "execution_count": 17,
     "metadata": {},
     "output_type": "execute_result"
    }
   ],
   "source": [
    "df.head()"
   ]
  },
  {
   "cell_type": "code",
   "execution_count": 18,
   "metadata": {},
   "outputs": [
    {
     "data": {
      "text/plain": [
       "Frutillar       517\n",
       "Puerto Montt    517\n",
       "Llanquihue      517\n",
       "Puerto Varas    517\n",
       "Osorno          517\n",
       "Name: Sector, dtype: int64"
      ]
     },
     "execution_count": 18,
     "metadata": {},
     "output_type": "execute_result"
    }
   ],
   "source": [
    "df.Sector.value_counts()"
   ]
  },
  {
   "cell_type": "markdown",
   "metadata": {},
   "source": [
    "### 2. Calculamos precios base"
   ]
  },
  {
   "cell_type": "code",
   "execution_count": 19,
   "metadata": {},
   "outputs": [],
   "source": [
    "dfp = pd.read_csv(\"output/canasta_ipc.csv\")"
   ]
  },
  {
   "cell_type": "code",
   "execution_count": 20,
   "metadata": {},
   "outputs": [
    {
     "data": {
      "text/html": [
       "<div>\n",
       "<style scoped>\n",
       "    .dataframe tbody tr th:only-of-type {\n",
       "        vertical-align: middle;\n",
       "    }\n",
       "\n",
       "    .dataframe tbody tr th {\n",
       "        vertical-align: top;\n",
       "    }\n",
       "\n",
       "    .dataframe thead th {\n",
       "        text-align: right;\n",
       "    }\n",
       "</style>\n",
       "<table border=\"1\" class=\"dataframe\">\n",
       "  <thead>\n",
       "    <tr style=\"text-align: right;\">\n",
       "      <th></th>\n",
       "      <th>Momento</th>\n",
       "      <th>Sector</th>\n",
       "      <th>Producto</th>\n",
       "      <th>Variedad</th>\n",
       "      <th>Promedio</th>\n",
       "    </tr>\n",
       "  </thead>\n",
       "  <tbody>\n",
       "    <tr>\n",
       "      <th>0</th>\n",
       "      <td>2014-08</td>\n",
       "      <td>Frutillar</td>\n",
       "      <td>Aceite</td>\n",
       "      <td>Maravilla</td>\n",
       "      <td>1807.484158</td>\n",
       "    </tr>\n",
       "    <tr>\n",
       "      <th>1</th>\n",
       "      <td>2014-09</td>\n",
       "      <td>Frutillar</td>\n",
       "      <td>Aceite</td>\n",
       "      <td>Maravilla</td>\n",
       "      <td>1680.222200</td>\n",
       "    </tr>\n",
       "    <tr>\n",
       "      <th>2</th>\n",
       "      <td>2014-10</td>\n",
       "      <td>Frutillar</td>\n",
       "      <td>Aceite</td>\n",
       "      <td>Maravilla</td>\n",
       "      <td>1651.904700</td>\n",
       "    </tr>\n",
       "    <tr>\n",
       "      <th>3</th>\n",
       "      <td>2014-11</td>\n",
       "      <td>Frutillar</td>\n",
       "      <td>Aceite</td>\n",
       "      <td>Maravilla</td>\n",
       "      <td>1807.484158</td>\n",
       "    </tr>\n",
       "    <tr>\n",
       "      <th>4</th>\n",
       "      <td>2014-12</td>\n",
       "      <td>Frutillar</td>\n",
       "      <td>Aceite</td>\n",
       "      <td>Maravilla</td>\n",
       "      <td>1807.484158</td>\n",
       "    </tr>\n",
       "  </tbody>\n",
       "</table>\n",
       "</div>"
      ],
      "text/plain": [
       "   Momento     Sector Producto   Variedad     Promedio\n",
       "0  2014-08  Frutillar   Aceite  Maravilla  1807.484158\n",
       "1  2014-09  Frutillar   Aceite  Maravilla  1680.222200\n",
       "2  2014-10  Frutillar   Aceite  Maravilla  1651.904700\n",
       "3  2014-11  Frutillar   Aceite  Maravilla  1807.484158\n",
       "4  2014-12  Frutillar   Aceite  Maravilla  1807.484158"
      ]
     },
     "execution_count": 20,
     "metadata": {},
     "output_type": "execute_result"
    }
   ],
   "source": [
    "dfp.head()"
   ]
  },
  {
   "cell_type": "code",
   "execution_count": 24,
   "metadata": {},
   "outputs": [],
   "source": [
    "df_pb = dfp[dfp.Momento==base]"
   ]
  },
  {
   "cell_type": "code",
   "execution_count": 25,
   "metadata": {},
   "outputs": [
    {
     "data": {
      "text/html": [
       "<div>\n",
       "<style scoped>\n",
       "    .dataframe tbody tr th:only-of-type {\n",
       "        vertical-align: middle;\n",
       "    }\n",
       "\n",
       "    .dataframe tbody tr th {\n",
       "        vertical-align: top;\n",
       "    }\n",
       "\n",
       "    .dataframe thead th {\n",
       "        text-align: right;\n",
       "    }\n",
       "</style>\n",
       "<table border=\"1\" class=\"dataframe\">\n",
       "  <thead>\n",
       "    <tr style=\"text-align: right;\">\n",
       "      <th></th>\n",
       "      <th>Momento</th>\n",
       "      <th>Sector</th>\n",
       "      <th>Producto</th>\n",
       "      <th>Variedad</th>\n",
       "      <th>Promedio</th>\n",
       "    </tr>\n",
       "  </thead>\n",
       "  <tbody>\n",
       "    <tr>\n",
       "      <th>13770</th>\n",
       "      <td>2018-04</td>\n",
       "      <td>Osorno</td>\n",
       "      <td>Cereales</td>\n",
       "      <td>Arroz grano Ancho grado 2</td>\n",
       "      <td>1050.0191</td>\n",
       "    </tr>\n",
       "    <tr>\n",
       "      <th>32281</th>\n",
       "      <td>2018-04</td>\n",
       "      <td>Puerto Montt</td>\n",
       "      <td>Hortaliza</td>\n",
       "      <td>Zapallo italiano</td>\n",
       "      <td>518.1904</td>\n",
       "    </tr>\n",
       "    <tr>\n",
       "      <th>29593</th>\n",
       "      <td>2018-04</td>\n",
       "      <td>Osorno</td>\n",
       "      <td>Hortaliza</td>\n",
       "      <td>Poroto verde</td>\n",
       "      <td>2000.0000</td>\n",
       "    </tr>\n",
       "    <tr>\n",
       "      <th>28895</th>\n",
       "      <td>2018-04</td>\n",
       "      <td>Osorno</td>\n",
       "      <td>Hortaliza</td>\n",
       "      <td>Pimiento</td>\n",
       "      <td>919.0541</td>\n",
       "    </tr>\n",
       "    <tr>\n",
       "      <th>185</th>\n",
       "      <td>2018-04</td>\n",
       "      <td>Puerto Montt</td>\n",
       "      <td>Aceite</td>\n",
       "      <td>Maravilla</td>\n",
       "      <td>1653.4875</td>\n",
       "    </tr>\n",
       "  </tbody>\n",
       "</table>\n",
       "</div>"
      ],
      "text/plain": [
       "       Momento        Sector   Producto                   Variedad   Promedio\n",
       "13770  2018-04        Osorno   Cereales  Arroz grano Ancho grado 2  1050.0191\n",
       "32281  2018-04  Puerto Montt  Hortaliza           Zapallo italiano   518.1904\n",
       "29593  2018-04        Osorno  Hortaliza               Poroto verde  2000.0000\n",
       "28895  2018-04        Osorno  Hortaliza                   Pimiento   919.0541\n",
       "185    2018-04  Puerto Montt     Aceite                  Maravilla  1653.4875"
      ]
     },
     "execution_count": 25,
     "metadata": {},
     "output_type": "execute_result"
    }
   ],
   "source": [
    "df_pb.sample(5)"
   ]
  },
  {
   "cell_type": "code",
   "execution_count": 26,
   "metadata": {},
   "outputs": [
    {
     "data": {
      "text/html": [
       "<div>\n",
       "<style scoped>\n",
       "    .dataframe tbody tr th:only-of-type {\n",
       "        vertical-align: middle;\n",
       "    }\n",
       "\n",
       "    .dataframe tbody tr th {\n",
       "        vertical-align: top;\n",
       "    }\n",
       "\n",
       "    .dataframe thead th {\n",
       "        text-align: right;\n",
       "    }\n",
       "</style>\n",
       "<table border=\"1\" class=\"dataframe\">\n",
       "  <thead>\n",
       "    <tr style=\"text-align: right;\">\n",
       "      <th></th>\n",
       "      <th>Promedio</th>\n",
       "    </tr>\n",
       "    <tr>\n",
       "      <th>Producto</th>\n",
       "      <th></th>\n",
       "    </tr>\n",
       "  </thead>\n",
       "  <tbody>\n",
       "    <tr>\n",
       "      <th>Aceite</th>\n",
       "      <td>1581.553820</td>\n",
       "    </tr>\n",
       "    <tr>\n",
       "      <th>Azucar</th>\n",
       "      <td>688.992400</td>\n",
       "    </tr>\n",
       "    <tr>\n",
       "      <th>Carnes</th>\n",
       "      <td>5247.494871</td>\n",
       "    </tr>\n",
       "    <tr>\n",
       "      <th>Cereales</th>\n",
       "      <td>917.942300</td>\n",
       "    </tr>\n",
       "    <tr>\n",
       "      <th>Frutas</th>\n",
       "      <td>1786.041726</td>\n",
       "    </tr>\n",
       "    <tr>\n",
       "      <th>Harina</th>\n",
       "      <td>712.264840</td>\n",
       "    </tr>\n",
       "    <tr>\n",
       "      <th>Hortaliza</th>\n",
       "      <td>1004.846344</td>\n",
       "    </tr>\n",
       "    <tr>\n",
       "      <th>Huevos</th>\n",
       "      <td>1984.919850</td>\n",
       "    </tr>\n",
       "    <tr>\n",
       "      <th>Lacteos</th>\n",
       "      <td>3264.598016</td>\n",
       "    </tr>\n",
       "    <tr>\n",
       "      <th>Legumbre</th>\n",
       "      <td>2212.876367</td>\n",
       "    </tr>\n",
       "    <tr>\n",
       "      <th>Pan</th>\n",
       "      <td>1386.332443</td>\n",
       "    </tr>\n",
       "  </tbody>\n",
       "</table>\n",
       "</div>"
      ],
      "text/plain": [
       "              Promedio\n",
       "Producto              \n",
       "Aceite     1581.553820\n",
       "Azucar      688.992400\n",
       "Carnes     5247.494871\n",
       "Cereales    917.942300\n",
       "Frutas     1786.041726\n",
       "Harina      712.264840\n",
       "Hortaliza  1004.846344\n",
       "Huevos     1984.919850\n",
       "Lacteos    3264.598016\n",
       "Legumbre   2212.876367\n",
       "Pan        1386.332443"
      ]
     },
     "execution_count": 26,
     "metadata": {},
     "output_type": "execute_result"
    }
   ],
   "source": [
    "pb = df_pb.groupby([\"Producto\"]).mean()\n",
    "pb"
   ]
  },
  {
   "cell_type": "markdown",
   "metadata": {},
   "source": [
    "### 3. IPC Osorno"
   ]
  },
  {
   "cell_type": "code",
   "execution_count": 27,
   "metadata": {},
   "outputs": [],
   "source": [
    "df_osorno = df[(df.Sector==\"Osorno\") & (df.Momento > base + \"-01\")]"
   ]
  },
  {
   "cell_type": "code",
   "execution_count": 28,
   "metadata": {},
   "outputs": [
    {
     "data": {
      "text/plain": [
       "Osorno    22\n",
       "Name: Sector, dtype: int64"
      ]
     },
     "execution_count": 28,
     "metadata": {},
     "output_type": "execute_result"
    }
   ],
   "source": [
    "df_osorno.Sector.value_counts()"
   ]
  },
  {
   "cell_type": "code",
   "execution_count": 81,
   "metadata": {},
   "outputs": [
    {
     "data": {
      "text/plain": [
       "Momento\n",
       "2018-05-01    11\n",
       "2018-06-01    11\n",
       "dtype: int64"
      ]
     },
     "execution_count": 81,
     "metadata": {},
     "output_type": "execute_result"
    }
   ],
   "source": [
    "df_osorno.groupby([\"Momento\"]).size()"
   ]
  },
  {
   "cell_type": "code",
   "execution_count": 70,
   "metadata": {},
   "outputs": [],
   "source": [
    "def GetIPC(df, df_base):\n",
    "    v = []\n",
    "    for o in df.Momento:\n",
    "        ipc = 1\n",
    "        prod = df[df.Momento == o].Producto\n",
    "        for row in prod:\n",
    "            p_0 = df_base.loc[row].iloc[0]\n",
    "            p_j = df[(df.Momento == o) & (df.Producto == row)].Factor.iloc[0]\n",
    "            \n",
    "            ipc =+ ((p_j/p_0)*1.5)*100\n",
    "\n",
    "        v.append({ipc, o})\n",
    "        \n",
    "    return pd.DataFrame(v, columns=['ipc', 'Momento'])"
   ]
  },
  {
   "cell_type": "code",
   "execution_count": 71,
   "metadata": {},
   "outputs": [],
   "source": [
    "df_ipc = GetIPC(df_osorno, pb)"
   ]
  },
  {
   "cell_type": "code",
   "execution_count": 72,
   "metadata": {},
   "outputs": [
    {
     "data": {
      "text/html": [
       "<div>\n",
       "<style scoped>\n",
       "    .dataframe tbody tr th:only-of-type {\n",
       "        vertical-align: middle;\n",
       "    }\n",
       "\n",
       "    .dataframe tbody tr th {\n",
       "        vertical-align: top;\n",
       "    }\n",
       "\n",
       "    .dataframe thead th {\n",
       "        text-align: right;\n",
       "    }\n",
       "</style>\n",
       "<table border=\"1\" class=\"dataframe\">\n",
       "  <thead>\n",
       "    <tr style=\"text-align: right;\">\n",
       "      <th></th>\n",
       "      <th>ipc</th>\n",
       "      <th>Momento</th>\n",
       "    </tr>\n",
       "  </thead>\n",
       "  <tbody>\n",
       "    <tr>\n",
       "      <th>0</th>\n",
       "      <td>0.090694</td>\n",
       "      <td>2018-05-01</td>\n",
       "    </tr>\n",
       "    <tr>\n",
       "      <th>1</th>\n",
       "      <td>0.097524</td>\n",
       "      <td>2018-06-01</td>\n",
       "    </tr>\n",
       "    <tr>\n",
       "      <th>2</th>\n",
       "      <td>0.090694</td>\n",
       "      <td>2018-05-01</td>\n",
       "    </tr>\n",
       "    <tr>\n",
       "      <th>3</th>\n",
       "      <td>0.097524</td>\n",
       "      <td>2018-06-01</td>\n",
       "    </tr>\n",
       "    <tr>\n",
       "      <th>4</th>\n",
       "      <td>0.090694</td>\n",
       "      <td>2018-05-01</td>\n",
       "    </tr>\n",
       "  </tbody>\n",
       "</table>\n",
       "</div>"
      ],
      "text/plain": [
       "        ipc     Momento\n",
       "0  0.090694  2018-05-01\n",
       "1  0.097524  2018-06-01\n",
       "2  0.090694  2018-05-01\n",
       "3  0.097524  2018-06-01\n",
       "4  0.090694  2018-05-01"
      ]
     },
     "execution_count": 72,
     "metadata": {},
     "output_type": "execute_result"
    }
   ],
   "source": [
    "df_ipc.head()"
   ]
  },
  {
   "cell_type": "code",
   "execution_count": 73,
   "metadata": {},
   "outputs": [
    {
     "data": {
      "text/plain": [
       "<matplotlib.axes._subplots.AxesSubplot at 0x117ac0198>"
      ]
     },
     "execution_count": 73,
     "metadata": {},
     "output_type": "execute_result"
    },
    {
     "data": {
      "image/png": "[encoded data removed]",
      "text/plain": [
       "<matplotlib.figure.Figure at 0x117ab4cf8>"
      ]
     },
     "metadata": {},
     "output_type": "display_data"
    }
   ],
   "source": [
    "df_ipc.plot(kind=\"bar\")"
   ]
  },
  {
   "cell_type": "code",
   "execution_count": null,
   "metadata": {},
   "outputs": [],
   "source": []
  }
 ],
 "metadata": {
  "kernelspec": {
   "display_name": "Python 3",
   "language": "python",
   "name": "python3"
  },
  "language_info": {
   "codemirror_mode": {
    "name": "ipython",
    "version": 3
   },
   "file_extension": ".py",
   "mimetype": "text/x-python",
   "name": "python",
   "nbconvert_exporter": "python",
   "pygments_lexer": "ipython3",
   "version": "3.6.4"
  }
 },
 "nbformat": 4,
 "nbformat_minor": 2
}
