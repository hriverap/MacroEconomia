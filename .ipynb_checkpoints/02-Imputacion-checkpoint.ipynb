{
 "cells": [
  {
   "cell_type": "markdown",
   "metadata": {},
   "source": [
    "# Universidad del Desarrollo\n",
    "## Magister Data Science - Macroeconomía\n",
    "### Grupo N°2: (Región de los Lagos)\n",
    "* Jose Pedro\n",
    "* Cristian\n",
    "* Paul\n",
    "* Max\n",
    "* Hernan\n",
    "\n",
    "\n",
    "# Imputación de los datos"
   ]
  },
  {
   "cell_type": "code",
   "execution_count": 1,
   "metadata": {},
   "outputs": [],
   "source": [
    "import pandas as pd\n",
    "import seaborn as sns\n",
    "from scipy.stats.mstats import gmean"
   ]
  },
  {
   "cell_type": "code",
   "execution_count": 2,
   "metadata": {},
   "outputs": [],
   "source": [
    "df = pd.read_csv('output/rlagos_canasta.csv')"
   ]
  },
  {
   "cell_type": "code",
   "execution_count": 3,
   "metadata": {},
   "outputs": [
    {
     "data": {
      "text/html": [
       "<div>\n",
       "<style scoped>\n",
       "    .dataframe tbody tr th:only-of-type {\n",
       "        vertical-align: middle;\n",
       "    }\n",
       "\n",
       "    .dataframe tbody tr th {\n",
       "        vertical-align: top;\n",
       "    }\n",
       "\n",
       "    .dataframe thead th {\n",
       "        text-align: right;\n",
       "    }\n",
       "</style>\n",
       "<table border=\"1\" class=\"dataframe\">\n",
       "  <thead>\n",
       "    <tr style=\"text-align: right;\">\n",
       "      <th></th>\n",
       "      <th>Calidad</th>\n",
       "      <th>Mes/Año</th>\n",
       "      <th>Momento</th>\n",
       "      <th>Precio máximo</th>\n",
       "      <th>Precio mínimo</th>\n",
       "      <th>Precio promedio</th>\n",
       "      <th>Procedencia</th>\n",
       "      <th>Producto</th>\n",
       "      <th>Sector</th>\n",
       "      <th>Tipo</th>\n",
       "      <th>Tipo punto monitoreo</th>\n",
       "      <th>Unidad</th>\n",
       "      <th>Variedad</th>\n",
       "    </tr>\n",
       "  </thead>\n",
       "  <tbody>\n",
       "    <tr>\n",
       "      <th>0</th>\n",
       "      <td>NaN</td>\n",
       "      <td>08/2014</td>\n",
       "      <td>2014-08</td>\n",
       "      <td>2249</td>\n",
       "      <td>1129</td>\n",
       "      <td>1558.2966</td>\n",
       "      <td>NaN</td>\n",
       "      <td>Maravilla</td>\n",
       "      <td>Osorno</td>\n",
       "      <td>Aceite</td>\n",
       "      <td>NaN</td>\n",
       "      <td>$/litro</td>\n",
       "      <td>NaN</td>\n",
       "    </tr>\n",
       "    <tr>\n",
       "      <th>1</th>\n",
       "      <td>NaN</td>\n",
       "      <td>08/2014</td>\n",
       "      <td>2014-08</td>\n",
       "      <td>1735</td>\n",
       "      <td>790</td>\n",
       "      <td>1410.9042</td>\n",
       "      <td>NaN</td>\n",
       "      <td>Vegetal</td>\n",
       "      <td>Osorno</td>\n",
       "      <td>Aceite</td>\n",
       "      <td>NaN</td>\n",
       "      <td>$/litro</td>\n",
       "      <td>NaN</td>\n",
       "    </tr>\n",
       "    <tr>\n",
       "      <th>2</th>\n",
       "      <td>NaN</td>\n",
       "      <td>08/2014</td>\n",
       "      <td>2014-08</td>\n",
       "      <td>1719</td>\n",
       "      <td>1220</td>\n",
       "      <td>1516.6203</td>\n",
       "      <td>NaN</td>\n",
       "      <td>Maravilla</td>\n",
       "      <td>Puerto Montt</td>\n",
       "      <td>Aceite</td>\n",
       "      <td>NaN</td>\n",
       "      <td>$/litro</td>\n",
       "      <td>NaN</td>\n",
       "    </tr>\n",
       "    <tr>\n",
       "      <th>3</th>\n",
       "      <td>NaN</td>\n",
       "      <td>08/2014</td>\n",
       "      <td>2014-08</td>\n",
       "      <td>1749</td>\n",
       "      <td>809</td>\n",
       "      <td>1357.3113</td>\n",
       "      <td>NaN</td>\n",
       "      <td>Vegetal</td>\n",
       "      <td>Puerto Montt</td>\n",
       "      <td>Aceite</td>\n",
       "      <td>NaN</td>\n",
       "      <td>$/litro</td>\n",
       "      <td>NaN</td>\n",
       "    </tr>\n",
       "    <tr>\n",
       "      <th>4</th>\n",
       "      <td>NaN</td>\n",
       "      <td>09/2014</td>\n",
       "      <td>2014-09</td>\n",
       "      <td>1768</td>\n",
       "      <td>1589</td>\n",
       "      <td>1680.2222</td>\n",
       "      <td>NaN</td>\n",
       "      <td>Maravilla</td>\n",
       "      <td>Frutillar</td>\n",
       "      <td>Aceite</td>\n",
       "      <td>NaN</td>\n",
       "      <td>$/litro</td>\n",
       "      <td>NaN</td>\n",
       "    </tr>\n",
       "  </tbody>\n",
       "</table>\n",
       "</div>"
      ],
      "text/plain": [
       "  Calidad  Mes/Año  Momento  Precio máximo  Precio mínimo  Precio promedio  \\\n",
       "0     NaN  08/2014  2014-08           2249           1129        1558.2966   \n",
       "1     NaN  08/2014  2014-08           1735            790        1410.9042   \n",
       "2     NaN  08/2014  2014-08           1719           1220        1516.6203   \n",
       "3     NaN  08/2014  2014-08           1749            809        1357.3113   \n",
       "4     NaN  09/2014  2014-09           1768           1589        1680.2222   \n",
       "\n",
       "  Procedencia   Producto        Sector    Tipo Tipo punto monitoreo   Unidad  \\\n",
       "0         NaN  Maravilla        Osorno  Aceite                  NaN  $/litro   \n",
       "1         NaN    Vegetal        Osorno  Aceite                  NaN  $/litro   \n",
       "2         NaN  Maravilla  Puerto Montt  Aceite                  NaN  $/litro   \n",
       "3         NaN    Vegetal  Puerto Montt  Aceite                  NaN  $/litro   \n",
       "4         NaN  Maravilla     Frutillar  Aceite                  NaN  $/litro   \n",
       "\n",
       "  Variedad  \n",
       "0      NaN  \n",
       "1      NaN  \n",
       "2      NaN  \n",
       "3      NaN  \n",
       "4      NaN  "
      ]
     },
     "execution_count": 3,
     "metadata": {},
     "output_type": "execute_result"
    }
   ],
   "source": [
    "df.head()"
   ]
  },
  {
   "cell_type": "code",
   "execution_count": 4,
   "metadata": {},
   "outputs": [
    {
     "data": {
      "text/plain": [
       "(32362, 13)"
      ]
     },
     "execution_count": 4,
     "metadata": {},
     "output_type": "execute_result"
    }
   ],
   "source": [
    "df.shape"
   ]
  },
  {
   "cell_type": "markdown",
   "metadata": {},
   "source": [
    "### Paso 1: buscar todos los promedios geometricos"
   ]
  },
  {
   "cell_type": "markdown",
   "metadata": {},
   "source": [
    "Creamos un dataset nuevo con todas las combinaciones Tipo / Sector"
   ]
  },
  {
   "cell_type": "code",
   "execution_count": 5,
   "metadata": {},
   "outputs": [],
   "source": [
    "Combos = df.groupby(['Tipo','Producto','Sector']).count().reset_index()[['Tipo','Producto','Sector']]"
   ]
  },
  {
   "cell_type": "code",
   "execution_count": 6,
   "metadata": {},
   "outputs": [
    {
     "data": {
      "text/html": [
       "<div>\n",
       "<style scoped>\n",
       "    .dataframe tbody tr th:only-of-type {\n",
       "        vertical-align: middle;\n",
       "    }\n",
       "\n",
       "    .dataframe tbody tr th {\n",
       "        vertical-align: top;\n",
       "    }\n",
       "\n",
       "    .dataframe thead th {\n",
       "        text-align: right;\n",
       "    }\n",
       "</style>\n",
       "<table border=\"1\" class=\"dataframe\">\n",
       "  <thead>\n",
       "    <tr style=\"text-align: right;\">\n",
       "      <th></th>\n",
       "      <th>Tipo</th>\n",
       "      <th>Producto</th>\n",
       "      <th>Sector</th>\n",
       "    </tr>\n",
       "  </thead>\n",
       "  <tbody>\n",
       "    <tr>\n",
       "      <th>0</th>\n",
       "      <td>Aceite</td>\n",
       "      <td>Maravilla</td>\n",
       "      <td>Frutillar</td>\n",
       "    </tr>\n",
       "    <tr>\n",
       "      <th>1</th>\n",
       "      <td>Aceite</td>\n",
       "      <td>Maravilla</td>\n",
       "      <td>Llanquihue</td>\n",
       "    </tr>\n",
       "    <tr>\n",
       "      <th>2</th>\n",
       "      <td>Aceite</td>\n",
       "      <td>Maravilla</td>\n",
       "      <td>Osorno</td>\n",
       "    </tr>\n",
       "    <tr>\n",
       "      <th>3</th>\n",
       "      <td>Aceite</td>\n",
       "      <td>Maravilla</td>\n",
       "      <td>Puerto Montt</td>\n",
       "    </tr>\n",
       "    <tr>\n",
       "      <th>4</th>\n",
       "      <td>Aceite</td>\n",
       "      <td>Maravilla</td>\n",
       "      <td>Puerto Varas</td>\n",
       "    </tr>\n",
       "  </tbody>\n",
       "</table>\n",
       "</div>"
      ],
      "text/plain": [
       "     Tipo   Producto        Sector\n",
       "0  Aceite  Maravilla     Frutillar\n",
       "1  Aceite  Maravilla    Llanquihue\n",
       "2  Aceite  Maravilla        Osorno\n",
       "3  Aceite  Maravilla  Puerto Montt\n",
       "4  Aceite  Maravilla  Puerto Varas"
      ]
     },
     "execution_count": 6,
     "metadata": {},
     "output_type": "execute_result"
    }
   ],
   "source": [
    "Combos.head()"
   ]
  },
  {
   "cell_type": "markdown",
   "metadata": {},
   "source": [
    "Una prueba para ver como calculamos el promedio geometrico de una combinación a mano, antes de crear una función:"
   ]
  },
  {
   "cell_type": "code",
   "execution_count": 7,
   "metadata": {},
   "outputs": [
    {
     "data": {
      "text/plain": [
       "1619.1497080362053"
      ]
     },
     "execution_count": 7,
     "metadata": {},
     "output_type": "execute_result"
    }
   ],
   "source": [
    "gmean(df[(df.Tipo == 'Aceite') & (df.Producto == 'Maravilla') & (df.Sector == 'Osorno')]['Precio promedio'])"
   ]
  },
  {
   "cell_type": "markdown",
   "metadata": {},
   "source": [
    "Creamos una función que calcula el promedio geometrico en base al dataframe completo, pero filtrado por el dataframe Tipo / Producto / Sector"
   ]
  },
  {
   "cell_type": "code",
   "execution_count": 8,
   "metadata": {},
   "outputs": [],
   "source": [
    "def calc_gmean(row):\n",
    "    Tipo = row['Tipo']\n",
    "    Producto = row['Producto']\n",
    "    Sector = row['Sector']\n",
    "    a = gmean(df[(df.Tipo == Tipo) & (df.Producto == Producto) & (df.Sector == Sector)]['Precio promedio'])\n",
    "    return a"
   ]
  },
  {
   "cell_type": "markdown",
   "metadata": {},
   "source": [
    "Aplicamos la función a cada fila del dataframe con las combinaciones Tipo / Producto / Sector"
   ]
  },
  {
   "cell_type": "code",
   "execution_count": 9,
   "metadata": {},
   "outputs": [],
   "source": [
    "Combos['PromGeo'] = Combos.apply(calc_gmean, axis=1)"
   ]
  },
  {
   "cell_type": "code",
   "execution_count": 10,
   "metadata": {},
   "outputs": [
    {
     "data": {
      "text/html": [
       "<div>\n",
       "<style scoped>\n",
       "    .dataframe tbody tr th:only-of-type {\n",
       "        vertical-align: middle;\n",
       "    }\n",
       "\n",
       "    .dataframe tbody tr th {\n",
       "        vertical-align: top;\n",
       "    }\n",
       "\n",
       "    .dataframe thead th {\n",
       "        text-align: right;\n",
       "    }\n",
       "</style>\n",
       "<table border=\"1\" class=\"dataframe\">\n",
       "  <thead>\n",
       "    <tr style=\"text-align: right;\">\n",
       "      <th></th>\n",
       "      <th>Tipo</th>\n",
       "      <th>Producto</th>\n",
       "      <th>Sector</th>\n",
       "      <th>PromGeo</th>\n",
       "    </tr>\n",
       "  </thead>\n",
       "  <tbody>\n",
       "    <tr>\n",
       "      <th>487</th>\n",
       "      <td>Lacteos</td>\n",
       "      <td>Queso Gauda</td>\n",
       "      <td>Osorno</td>\n",
       "      <td>6164.003988</td>\n",
       "    </tr>\n",
       "    <tr>\n",
       "      <th>326</th>\n",
       "      <td>Hortaliza</td>\n",
       "      <td>Ajo</td>\n",
       "      <td>Frutillar</td>\n",
       "      <td>249.630807</td>\n",
       "    </tr>\n",
       "    <tr>\n",
       "      <th>304</th>\n",
       "      <td>Frutas</td>\n",
       "      <td>Plátano</td>\n",
       "      <td>Puerto Montt</td>\n",
       "      <td>777.072656</td>\n",
       "    </tr>\n",
       "    <tr>\n",
       "      <th>155</th>\n",
       "      <td>Carnes</td>\n",
       "      <td>Pollo Pechuga Deshuesada</td>\n",
       "      <td>Osorno</td>\n",
       "      <td>3837.192557</td>\n",
       "    </tr>\n",
       "    <tr>\n",
       "      <th>275</th>\n",
       "      <td>Frutas</td>\n",
       "      <td>Mango</td>\n",
       "      <td>Puerto Varas</td>\n",
       "      <td>1792.703987</td>\n",
       "    </tr>\n",
       "    <tr>\n",
       "      <th>364</th>\n",
       "      <td>Hortaliza</td>\n",
       "      <td>Espinaca</td>\n",
       "      <td>Frutillar</td>\n",
       "      <td>1677.421180</td>\n",
       "    </tr>\n",
       "    <tr>\n",
       "      <th>199</th>\n",
       "      <td>Carnes</td>\n",
       "      <td>Tapapecho</td>\n",
       "      <td>Llanquihue</td>\n",
       "      <td>4561.781591</td>\n",
       "    </tr>\n",
       "    <tr>\n",
       "      <th>455</th>\n",
       "      <td>Lacteos</td>\n",
       "      <td>Leche Fluida Entera</td>\n",
       "      <td>Frutillar</td>\n",
       "      <td>756.603116</td>\n",
       "    </tr>\n",
       "    <tr>\n",
       "      <th>204</th>\n",
       "      <td>Cereales</td>\n",
       "      <td>Arroz grano Ancho grado 1</td>\n",
       "      <td>Llanquihue</td>\n",
       "      <td>1115.608502</td>\n",
       "    </tr>\n",
       "    <tr>\n",
       "      <th>342</th>\n",
       "      <td>Hortaliza</td>\n",
       "      <td>Arveja Verde</td>\n",
       "      <td>Osorno</td>\n",
       "      <td>1153.580491</td>\n",
       "    </tr>\n",
       "  </tbody>\n",
       "</table>\n",
       "</div>"
      ],
      "text/plain": [
       "          Tipo                   Producto        Sector      PromGeo\n",
       "487    Lacteos                Queso Gauda        Osorno  6164.003988\n",
       "326  Hortaliza                        Ajo     Frutillar   249.630807\n",
       "304     Frutas                    Plátano  Puerto Montt   777.072656\n",
       "155     Carnes   Pollo Pechuga Deshuesada        Osorno  3837.192557\n",
       "275     Frutas                      Mango  Puerto Varas  1792.703987\n",
       "364  Hortaliza                   Espinaca     Frutillar  1677.421180\n",
       "199     Carnes                  Tapapecho    Llanquihue  4561.781591\n",
       "455    Lacteos        Leche Fluida Entera     Frutillar   756.603116\n",
       "204   Cereales  Arroz grano Ancho grado 1    Llanquihue  1115.608502\n",
       "342  Hortaliza               Arveja Verde        Osorno  1153.580491"
      ]
     },
     "execution_count": 10,
     "metadata": {},
     "output_type": "execute_result"
    }
   ],
   "source": [
    "Combos.sample(10)"
   ]
  },
  {
   "cell_type": "markdown",
   "metadata": {},
   "source": [
    "### Paso 2: Rellenar lo faltante"
   ]
  },
  {
   "cell_type": "markdown",
   "metadata": {},
   "source": [
    "Estrategia:\n",
    "\n",
    "1. Crear un dataframe con todas las fechas (momentos) del periodo.\n",
    "1. A partir de cada columna en el dataframe *Combos*, crear un dataframe de una combinación Tipo/Producto/Sector\n",
    "1. Hacer un merge entre el dataset de los momentos y el dataset Tipo/Producto/Sector para ver qué son los *momentos* que no tienen valores\n",
    "1. Llenar los NaN con el promedio geometrico (y otros datos faltantes dado que estas filas no existían antes)\n",
    "1. Crear un nuevo dataframe donde vamos agregando los dataframes de Tipo/Producto/Sector a medida que se completen."
   ]
  },
  {
   "cell_type": "code",
   "execution_count": 11,
   "metadata": {},
   "outputs": [
    {
     "data": {
      "text/plain": [
       "(47, 1)"
      ]
     },
     "execution_count": 11,
     "metadata": {},
     "output_type": "execute_result"
    }
   ],
   "source": [
    "df_momentos = pd.DataFrame(df['Momento'])\n",
    "df_momentos.drop_duplicates(subset='Momento', keep='first', inplace=True)\n",
    "df_momentos.reset_index()\n",
    "df_momentos.shape"
   ]
  },
  {
   "cell_type": "code",
   "execution_count": 12,
   "metadata": {},
   "outputs": [],
   "source": [
    "df_final = pd.DataFrame([])\n",
    "\n",
    "def fill_nans(row):\n",
    "    global df_final\n",
    "    Tipo = row['Tipo']\n",
    "    Producto = row['Producto']\n",
    "    Sector = row['Sector']\n",
    "    PromGeo = row['PromGeo']\n",
    "    # Creamos un dataset con la combinación\n",
    "    data = df[(df.Tipo == Tipo) & (df.Producto == Producto) & (df.Sector == Sector)][['Momento','Precio promedio','Tipo','Producto','Sector']]\n",
    "    # Hacemos merge con el dataset que contiene todos los momentos\n",
    "    data = pd.merge(df_momentos, data, on='Momento', how='left')\n",
    "    # Llenamos los NaN\n",
    "    data['Precio promedio'].fillna(PromGeo, inplace=True)\n",
    "    data['Tipo'].fillna(Tipo, inplace=True)\n",
    "    data['Producto'].fillna(Producto, inplace=True)\n",
    "    data['Sector'].fillna(Sector, inplace=True)\n",
    "    # Agregamos la data al dataframe completo\n",
    "    df_final = df_final.append(data)"
   ]
  },
  {
   "cell_type": "code",
   "execution_count": 13,
   "metadata": {},
   "outputs": [
    {
     "data": {
      "text/html": [
       "<div>\n",
       "<style scoped>\n",
       "    .dataframe tbody tr th:only-of-type {\n",
       "        vertical-align: middle;\n",
       "    }\n",
       "\n",
       "    .dataframe tbody tr th {\n",
       "        vertical-align: top;\n",
       "    }\n",
       "\n",
       "    .dataframe thead th {\n",
       "        text-align: right;\n",
       "    }\n",
       "</style>\n",
       "<table border=\"1\" class=\"dataframe\">\n",
       "  <thead>\n",
       "    <tr style=\"text-align: right;\">\n",
       "      <th></th>\n",
       "      <th>Momento</th>\n",
       "      <th>Precio promedio</th>\n",
       "      <th>Tipo</th>\n",
       "      <th>Producto</th>\n",
       "      <th>Sector</th>\n",
       "    </tr>\n",
       "  </thead>\n",
       "  <tbody>\n",
       "    <tr>\n",
       "      <th>0</th>\n",
       "      <td>2014-08</td>\n",
       "      <td>1807.484158</td>\n",
       "      <td>Aceite</td>\n",
       "      <td>Maravilla</td>\n",
       "      <td>Frutillar</td>\n",
       "    </tr>\n",
       "    <tr>\n",
       "      <th>1</th>\n",
       "      <td>2014-09</td>\n",
       "      <td>1680.222200</td>\n",
       "      <td>Aceite</td>\n",
       "      <td>Maravilla</td>\n",
       "      <td>Frutillar</td>\n",
       "    </tr>\n",
       "    <tr>\n",
       "      <th>2</th>\n",
       "      <td>2014-10</td>\n",
       "      <td>1651.904700</td>\n",
       "      <td>Aceite</td>\n",
       "      <td>Maravilla</td>\n",
       "      <td>Frutillar</td>\n",
       "    </tr>\n",
       "    <tr>\n",
       "      <th>3</th>\n",
       "      <td>2014-11</td>\n",
       "      <td>1807.484158</td>\n",
       "      <td>Aceite</td>\n",
       "      <td>Maravilla</td>\n",
       "      <td>Frutillar</td>\n",
       "    </tr>\n",
       "    <tr>\n",
       "      <th>4</th>\n",
       "      <td>2014-12</td>\n",
       "      <td>1807.484158</td>\n",
       "      <td>Aceite</td>\n",
       "      <td>Maravilla</td>\n",
       "      <td>Frutillar</td>\n",
       "    </tr>\n",
       "  </tbody>\n",
       "</table>\n",
       "</div>"
      ],
      "text/plain": [
       "   Momento  Precio promedio    Tipo   Producto     Sector\n",
       "0  2014-08      1807.484158  Aceite  Maravilla  Frutillar\n",
       "1  2014-09      1680.222200  Aceite  Maravilla  Frutillar\n",
       "2  2014-10      1651.904700  Aceite  Maravilla  Frutillar\n",
       "3  2014-11      1807.484158  Aceite  Maravilla  Frutillar\n",
       "4  2014-12      1807.484158  Aceite  Maravilla  Frutillar"
      ]
     },
     "execution_count": 13,
     "metadata": {},
     "output_type": "execute_result"
    }
   ],
   "source": [
    "Combos.apply(fill_nans, axis=1)\n",
    "df_final.head()"
   ]
  },
  {
   "cell_type": "code",
   "execution_count": 14,
   "metadata": {},
   "outputs": [
    {
     "data": {
      "text/plain": [
       "(38500, 5)"
      ]
     },
     "execution_count": 14,
     "metadata": {},
     "output_type": "execute_result"
    }
   ],
   "source": [
    "df_final.shape"
   ]
  },
  {
   "cell_type": "code",
   "execution_count": 15,
   "metadata": {},
   "outputs": [],
   "source": [
    "df_final.reset_index(inplace=True)"
   ]
  },
  {
   "cell_type": "markdown",
   "metadata": {},
   "source": [
    "Test con los que sabemos que estaban missing:"
   ]
  },
  {
   "cell_type": "code",
   "execution_count": 16,
   "metadata": {},
   "outputs": [
    {
     "data": {
      "text/html": [
       "<div>\n",
       "<style scoped>\n",
       "    .dataframe tbody tr th:only-of-type {\n",
       "        vertical-align: middle;\n",
       "    }\n",
       "\n",
       "    .dataframe tbody tr th {\n",
       "        vertical-align: top;\n",
       "    }\n",
       "\n",
       "    .dataframe thead th {\n",
       "        text-align: right;\n",
       "    }\n",
       "</style>\n",
       "<table border=\"1\" class=\"dataframe\">\n",
       "  <thead>\n",
       "    <tr style=\"text-align: right;\">\n",
       "      <th></th>\n",
       "      <th>index</th>\n",
       "      <th>Momento</th>\n",
       "      <th>Precio promedio</th>\n",
       "      <th>Tipo</th>\n",
       "      <th>Producto</th>\n",
       "      <th>Sector</th>\n",
       "    </tr>\n",
       "  </thead>\n",
       "  <tbody>\n",
       "    <tr>\n",
       "      <th>29741</th>\n",
       "      <td>0</td>\n",
       "      <td>2014-08</td>\n",
       "      <td>1205.594772</td>\n",
       "      <td>Hortaliza</td>\n",
       "      <td>Repollo</td>\n",
       "      <td>Frutillar</td>\n",
       "    </tr>\n",
       "  </tbody>\n",
       "</table>\n",
       "</div>"
      ],
      "text/plain": [
       "       index  Momento  Precio promedio       Tipo Producto     Sector\n",
       "29741      0  2014-08      1205.594772  Hortaliza  Repollo  Frutillar"
      ]
     },
     "execution_count": 16,
     "metadata": {},
     "output_type": "execute_result"
    }
   ],
   "source": [
    "df_final[(df_final.Tipo == 'Hortaliza') & (df_final.Producto == 'Repollo') & (df_final.Sector == 'Frutillar') & (df_final.Momento == '2014-08')]"
   ]
  },
  {
   "cell_type": "code",
   "execution_count": 17,
   "metadata": {},
   "outputs": [
    {
     "data": {
      "text/plain": [
       "<matplotlib.axes._subplots.AxesSubplot at 0x1a0c56c390>"
      ]
     },
     "execution_count": 17,
     "metadata": {},
     "output_type": "execute_result"
    },
    {
     "data": {
      "image/png": "[encoded data removed]",
      "text/plain": [
       "<matplotlib.figure.Figure at 0x1a0c550898>"
      ]
     },
     "metadata": {},
     "output_type": "display_data"
    }
   ],
   "source": [
    "dx = df_final.groupby([\"Momento\", \"Sector\"])['Producto'].size().unstack()\n",
    "\n",
    "mycolor=['black', 'red', 'green', 'blue', 'cyan']\n",
    "\n",
    "dx.plot(kind='bar', stacked=True, figsize=(20, 6), color=mycolor, rot=45)"
   ]
  },
  {
   "cell_type": "code",
   "execution_count": 18,
   "metadata": {},
   "outputs": [],
   "source": [
    "df = df_final[[\"Momento\", \"Sector\", \"Tipo\", \"Producto\", \"Precio promedio\"]]"
   ]
  },
  {
   "cell_type": "code",
   "execution_count": 19,
   "metadata": {},
   "outputs": [
    {
     "name": "stderr",
     "output_type": "stream",
     "text": [
      "/anaconda3/lib/python3.6/site-packages/pandas/core/frame.py:3027: SettingWithCopyWarning: \n",
      "A value is trying to be set on a copy of a slice from a DataFrame\n",
      "\n",
      "See the caveats in the documentation: http://pandas.pydata.org/pandas-docs/stable/indexing.html#indexing-view-versus-copy\n",
      "  return super(DataFrame, self).rename(**kwargs)\n"
     ]
    }
   ],
   "source": [
    "df.rename(columns={'Producto': 'Variedad', 'Precio promedio': 'Promedio', 'Tipo': 'Producto'}, inplace=True)"
   ]
  },
  {
   "cell_type": "code",
   "execution_count": 20,
   "metadata": {},
   "outputs": [],
   "source": [
    "df.to_csv('output/canasta_ipc.csv', index=False)"
   ]
  },
  {
   "cell_type": "code",
   "execution_count": null,
   "metadata": {},
   "outputs": [],
   "source": []
  }
 ],
 "metadata": {
  "kernelspec": {
   "display_name": "Python 3",
   "language": "python",
   "name": "python3"
  },
  "language_info": {
   "codemirror_mode": {
    "name": "ipython",
    "version": 3
   },
   "file_extension": ".py",
   "mimetype": "text/x-python",
   "name": "python",
   "nbconvert_exporter": "python",
   "pygments_lexer": "ipython3",
   "version": "3.6.4"
  }
 },
 "nbformat": 4,
 "nbformat_minor": 2
}
