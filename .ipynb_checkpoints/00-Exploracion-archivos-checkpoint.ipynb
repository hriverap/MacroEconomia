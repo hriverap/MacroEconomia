{
 "cells": [
  {
   "cell_type": "markdown",
   "metadata": {},
   "source": [
    "# Universidad del Desarrollo\n",
    "## Magister Data Science - Macroeconomía\n",
    "### Grupo N°2: (Región de los Lagos)\n",
    "* Jose Pedro\n",
    "* Cristian\n",
    "* Paul\n",
    "* Max\n",
    "* Hernan\n",
    "\n",
    "## Exploracion de archivos"
   ]
  },
  {
   "cell_type": "markdown",
   "metadata": {},
   "source": [
    "**Objetivo**\n",
    "\n",
    "Obtener la serie de precios de los productos agregados por sector\n"
   ]
  },
  {
   "cell_type": "code",
   "execution_count": 1,
   "metadata": {},
   "outputs": [],
   "source": [
    "import pandas as pd"
   ]
  },
  {
   "cell_type": "markdown",
   "metadata": {},
   "source": [
    "### 1. Se cargan los productos de la ODEPA"
   ]
  },
  {
   "cell_type": "code",
   "execution_count": 2,
   "metadata": {},
   "outputs": [],
   "source": [
    "df_01 = pd.read_excel('input/aceite.xlsx')\n",
    "df_02 = pd.read_excel('input/azucar.xlsx')\n",
    "df_03 = pd.read_excel('input/carnes.xlsx')\n",
    "df_04 = pd.read_excel('input/cereales.xlsx')\n",
    "df_05 = pd.read_excel('input/frutas.xlsx')\n",
    "df_06 = pd.read_excel('input/harina.xlsx')\n",
    "df_07 = pd.read_excel('input/hortalizas.xlsx')\n",
    "df_08 = pd.read_excel('input/huevos.xlsx')\n",
    "df_09 = pd.read_excel('input/lacteos.xlsx')\n",
    "df_10 = pd.read_excel('input/legumbres.xlsx')\n",
    "df_11 = pd.read_excel('input/pan.xlsx')"
   ]
  },
  {
   "cell_type": "code",
   "execution_count": 3,
   "metadata": {},
   "outputs": [],
   "source": [
    "df_01[\"Tipo\"] = \"Aceite\"\n",
    "df_02[\"Tipo\"] = \"Azucar\"\n",
    "df_03[\"Tipo\"] = \"Carnes\"\n",
    "df_04[\"Tipo\"] = \"Cereales\"\n",
    "df_05[\"Tipo\"] = \"Frutas\"\n",
    "df_06[\"Tipo\"] = \"Harina\"\n",
    "df_07[\"Tipo\"] = \"Hortaliza\"\n",
    "df_08[\"Tipo\"] = \"Huevos\"\n",
    "df_09[\"Tipo\"] = \"Lacteos\"\n",
    "df_10[\"Tipo\"] = \"Legumbre\"\n",
    "df_11[\"Tipo\"] = \"Pan\""
   ]
  },
  {
   "cell_type": "code",
   "execution_count": null,
   "metadata": {},
   "outputs": [],
   "source": [
    "df"
   ]
  },
  {
   "cell_type": "code",
   "execution_count": 4,
   "metadata": {},
   "outputs": [],
   "source": [
    "dfs = [df_01, df_02, df_03, df_04, df_05, df_06, df_07, df_08, df_09, df_10, df_11]"
   ]
  },
  {
   "cell_type": "markdown",
   "metadata": {},
   "source": [
    "### 2. Funcion para normalizar periodo"
   ]
  },
  {
   "cell_type": "code",
   "execution_count": 5,
   "metadata": {},
   "outputs": [],
   "source": [
    "def GetPeriodo(mes):\n",
    "    tmp = mes.split(\"/\") \n",
    "    return tmp[1] + \"-\" + tmp[0]"
   ]
  },
  {
   "cell_type": "markdown",
   "metadata": {},
   "source": [
    "### 3. Creacion de Dataset que corresponde a nuestra canasta"
   ]
  },
  {
   "cell_type": "code",
   "execution_count": 6,
   "metadata": {},
   "outputs": [],
   "source": [
    "for df in dfs:\n",
    "    df[\"Momento\"] = df[\"Mes/Año\"].map(GetPeriodo)"
   ]
  },
  {
   "cell_type": "code",
   "execution_count": 7,
   "metadata": {},
   "outputs": [
    {
     "data": {
      "text/html": [
       "<div>\n",
       "<style scoped>\n",
       "    .dataframe tbody tr th:only-of-type {\n",
       "        vertical-align: middle;\n",
       "    }\n",
       "\n",
       "    .dataframe tbody tr th {\n",
       "        vertical-align: top;\n",
       "    }\n",
       "\n",
       "    .dataframe thead th {\n",
       "        text-align: right;\n",
       "    }\n",
       "</style>\n",
       "<table border=\"1\" class=\"dataframe\">\n",
       "  <thead>\n",
       "    <tr style=\"text-align: right;\">\n",
       "      <th></th>\n",
       "      <th>Mes/Año</th>\n",
       "      <th>Sector</th>\n",
       "      <th>Producto</th>\n",
       "      <th>Unidad</th>\n",
       "      <th>Precio mínimo</th>\n",
       "      <th>Precio máximo</th>\n",
       "      <th>Precio promedio</th>\n",
       "      <th>Tipo</th>\n",
       "      <th>Momento</th>\n",
       "    </tr>\n",
       "  </thead>\n",
       "  <tbody>\n",
       "    <tr>\n",
       "      <th>0</th>\n",
       "      <td>08/2014</td>\n",
       "      <td>Osorno</td>\n",
       "      <td>Maravilla</td>\n",
       "      <td>$/litro</td>\n",
       "      <td>1129</td>\n",
       "      <td>2249</td>\n",
       "      <td>1558.2966</td>\n",
       "      <td>Aceite</td>\n",
       "      <td>2014-08</td>\n",
       "    </tr>\n",
       "    <tr>\n",
       "      <th>1</th>\n",
       "      <td>08/2014</td>\n",
       "      <td>Osorno</td>\n",
       "      <td>Vegetal</td>\n",
       "      <td>$/litro</td>\n",
       "      <td>790</td>\n",
       "      <td>1735</td>\n",
       "      <td>1410.9042</td>\n",
       "      <td>Aceite</td>\n",
       "      <td>2014-08</td>\n",
       "    </tr>\n",
       "    <tr>\n",
       "      <th>2</th>\n",
       "      <td>08/2014</td>\n",
       "      <td>Puerto Montt</td>\n",
       "      <td>Maravilla</td>\n",
       "      <td>$/litro</td>\n",
       "      <td>1220</td>\n",
       "      <td>1719</td>\n",
       "      <td>1516.6203</td>\n",
       "      <td>Aceite</td>\n",
       "      <td>2014-08</td>\n",
       "    </tr>\n",
       "    <tr>\n",
       "      <th>3</th>\n",
       "      <td>08/2014</td>\n",
       "      <td>Puerto Montt</td>\n",
       "      <td>Vegetal</td>\n",
       "      <td>$/litro</td>\n",
       "      <td>809</td>\n",
       "      <td>1749</td>\n",
       "      <td>1357.3113</td>\n",
       "      <td>Aceite</td>\n",
       "      <td>2014-08</td>\n",
       "    </tr>\n",
       "    <tr>\n",
       "      <th>4</th>\n",
       "      <td>09/2014</td>\n",
       "      <td>Frutillar</td>\n",
       "      <td>Maravilla</td>\n",
       "      <td>$/litro</td>\n",
       "      <td>1589</td>\n",
       "      <td>1768</td>\n",
       "      <td>1680.2222</td>\n",
       "      <td>Aceite</td>\n",
       "      <td>2014-09</td>\n",
       "    </tr>\n",
       "  </tbody>\n",
       "</table>\n",
       "</div>"
      ],
      "text/plain": [
       "   Mes/Año        Sector   Producto   Unidad  Precio mínimo  Precio máximo  \\\n",
       "0  08/2014        Osorno  Maravilla  $/litro           1129           2249   \n",
       "1  08/2014        Osorno    Vegetal  $/litro            790           1735   \n",
       "2  08/2014  Puerto Montt  Maravilla  $/litro           1220           1719   \n",
       "3  08/2014  Puerto Montt    Vegetal  $/litro            809           1749   \n",
       "4  09/2014     Frutillar  Maravilla  $/litro           1589           1768   \n",
       "\n",
       "   Precio promedio    Tipo  Momento  \n",
       "0        1558.2966  Aceite  2014-08  \n",
       "1        1410.9042  Aceite  2014-08  \n",
       "2        1516.6203  Aceite  2014-08  \n",
       "3        1357.3113  Aceite  2014-08  \n",
       "4        1680.2222  Aceite  2014-09  "
      ]
     },
     "execution_count": 7,
     "metadata": {},
     "output_type": "execute_result"
    }
   ],
   "source": [
    "df_01.head()"
   ]
  },
  {
   "cell_type": "markdown",
   "metadata": {},
   "source": [
    "### 4. Concatenamos archivos"
   ]
  },
  {
   "cell_type": "code",
   "execution_count": 8,
   "metadata": {},
   "outputs": [],
   "source": [
    "pd.concat([df_01, df_02, df_03, df_04, df_05, df_06, df_07, df_08, df_09, df_10, df_11]).to_csv(\"output/rlagos_canasta.csv\", index=False)"
   ]
  },
  {
   "cell_type": "markdown",
   "metadata": {},
   "source": [
    "### 5. Se abre archivo de ponderados del INE"
   ]
  },
  {
   "cell_type": "code",
   "execution_count": 11,
   "metadata": {},
   "outputs": [],
   "source": [
    "dx = pd.read_excel(\"input/ipc_producto_historico_julio2018.xlsx\")"
   ]
  },
  {
   "cell_type": "code",
   "execution_count": null,
   "metadata": {},
   "outputs": [],
   "source": []
  }
 ],
 "metadata": {
  "kernelspec": {
   "display_name": "Python 3",
   "language": "python",
   "name": "python3"
  },
  "language_info": {
   "codemirror_mode": {
    "name": "ipython",
    "version": 3
   },
   "file_extension": ".py",
   "mimetype": "text/x-python",
   "name": "python",
   "nbconvert_exporter": "python",
   "pygments_lexer": "ipython3",
   "version": "3.6.4"
  }
 },
 "nbformat": 4,
 "nbformat_minor": 2
}
